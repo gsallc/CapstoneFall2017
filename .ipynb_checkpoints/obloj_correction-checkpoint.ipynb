{
 "cells": [
  {
   "cell_type": "code",
   "execution_count": 1,
   "metadata": {
    "collapsed": true
   },
   "outputs": [],
   "source": [
    "import math"
   ]
  },
  {
   "cell_type": "code",
   "execution_count": 2,
   "metadata": {
    "collapsed": true
   },
   "outputs": [],
   "source": [
    "def oblojLogNormalApprox(y,expiry,F_0,alpha_0,beta,nu,rho):\n",
    "    '''\n",
    "    function that returns the Black implied volatility under Obloj lognormal approximation.\n",
    "    @var y: option strike\n",
    "    @var expiry: option expiry in years\n",
    "    @var F_0: forward interest rate\n",
    "    @var alpha_0: SABR alpha at t=0\n",
    "    @var beta : SABR beta\n",
    "    @var rho : SABR rho\n",
    "    @var nu: SABR nu\n",
    "    '''\n",
    "    one_beta=1-beta\n",
    "    one_betasqr=one_beta*one_beta\n",
    "    fK=F_0*y\n",
    "    fK_beta=math.pow(fK,one_beta/2.0) \n",
    "    log_fK=math.log(F_0/y)\n",
    "    \n",
    "    sigma_exp=(one_betasqr/24.0*alpha_0*alpha_0/fK_beta/fK_beta+0.25*rho*beta*nu*alpha_0/fK_beta+(2.0-3.0*rho*rho)/24.0*nu*nu)\n",
    "    \n",
    "    if F_0!=y:     \n",
    "        if nu==0:\n",
    "            sigma1=one_beta*alpha_0*log_fK/(math.pow(F_0,one_beta)-math.pow(y,one_beta))\n",
    "        elif beta==1:\n",
    "            z=nu*log_fK/alpha_0\n",
    "            sigma1=nu*log_fK/math.log((math.sqrt(1-2*rho*z+z*z)+z-rho)/(1-rho))\n",
    "        elif (beta>0) and (beta<1):\n",
    "            z=nu*(math.pow(F_0,one_beta)-math.pow(y,one_beta))/alpha_0/one_beta\n",
    "            sigma1=nu*log_fK/math.log((math.sqrt(1-2*rho*z+z*z)+z-rho)/(1-rho))           \n",
    "    else:\n",
    "        sigma1=alpha_0*math.pow(y,-one_beta)\n",
    "        \n",
    "    sigma=sigma_l*(1.0+sigma_exp*expiry)\n",
    "    \n",
    "    return sigma    "
   ]
  },
  {
   "cell_type": "code",
   "execution_count": null,
   "metadata": {
    "collapsed": true
   },
   "outputs": [],
   "source": []
  }
 ],
 "metadata": {
  "kernelspec": {
   "display_name": "Python 2",
   "language": "python",
   "name": "python2"
  },
  "language_info": {
   "codemirror_mode": {
    "name": "ipython",
    "version": 2
   },
   "file_extension": ".py",
   "mimetype": "text/x-python",
   "name": "python",
   "nbconvert_exporter": "python",
   "pygments_lexer": "ipython2",
   "version": "2.7.13"
  }
 },
 "nbformat": 4,
 "nbformat_minor": 2
}
