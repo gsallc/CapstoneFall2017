{
 "cells": [
  {
   "cell_type": "code",
   "execution_count": 1,
   "metadata": {
    "collapsed": true
   },
   "outputs": [],
   "source": [
    "import random\n",
    "import math"
   ]
  },
  {
   "cell_type": "code",
   "execution_count": 2,
   "metadata": {
    "collapsed": true
   },
   "outputs": [],
   "source": [
    "def drawTwoRandomNumbers(rho):\n",
    "    '''\n",
    "    draw a pair of correlated random numbers\n",
    "    @var rho: SABR rho\n",
    "    '''\n",
    "    rand_list=[]\n",
    "    z1=random.gauss(0,1)\n",
    "    y1=random.gauss(0,1)\n",
    "    \n",
    "    term1=z1*rho\n",
    "    term2=(y1*math.pow((1.0-math.pow(rho,2.0)),0.5))\n",
    "    x2=term1+term2\n",
    "    \n",
    "    rand_list.append(z1)\n",
    "    rand_list.append(x2)\n",
    "    \n",
    "    return rand_list"
   ]
  },
  {
   "cell_type": "markdown",
   "metadata": {},
   "source": [
    "#### Monte Carlo SABR using Euler scheme"
   ]
  },
  {
   "cell_type": "code",
   "execution_count": 3,
   "metadata": {
    "collapsed": true
   },
   "outputs": [],
   "source": [
    "def simulateSABRMonteCarloEuler(no_of_sim,no_of_steps,expiry,F_0,alpha_0,beta,rho,nu):\n",
    "    '''\n",
    "    Monte Carlo SABR using Euler scheme.\n",
    "    @var no_of_sim: Monte Carlo paths\n",
    "    @var no_of_steps: discretization steps required to reach the option expiry date\n",
    "    @var expiry: option expiry in years\n",
    "    @var F_0: forward interest rate\n",
    "    @var alpha_0: SABR alpha at t=0\n",
    "    @var beta : SABR beta\n",
    "    @var rho : SABR rho\n",
    "    @var nu: SABR nu\n",
    "    '''\n",
    "    \n",
    "    #Step length in years\n",
    "    dt=float(expiry)/float(no_of_steps)\n",
    "    dt_sqrt=math.sqrt(dt)\n",
    "    no_of_sim_counter=0\n",
    "    simulated_forwards=[]\n",
    "    \n",
    "    while no_of_sim_counter<no_of_sim:\n",
    "        F_t=F_0\n",
    "        alpha_t=alpha_0\n",
    "        no_of_steps_counter=1\n",
    "        \n",
    "        while no_of_steps_counter<=no_of_steps:\n",
    "            #Zero absorbing boundary used for all beta except for beta=0 and beta=1\n",
    "            if ((beta>0 and beta<1) and F_t<=0):\n",
    "                F_t=0\n",
    "                no_of_steps_counter=no_of_steps+1 \n",
    "            else:\n",
    "                #Generate two correlated random numbers\n",
    "                rand = drawTwoRandomNumbers(rho)\n",
    "                \n",
    "                #Simulate the forward interest rate using Euler scheme. \n",
    "                #Use the absolute for the diffusion to avoid numerical issues if the forward interest rate goes into negative \n",
    "                dW_F=dt_sqrt*rand[0]\n",
    "                F_b=math.pow(abs(F_t),beta)\n",
    "                F_t=F_t+alpha_t*F_b*dW_F\n",
    "                \n",
    "                #Simulate the stochastic volatility using Euler scheme\n",
    "                dW_a=dt_sqrt*rand[1]\n",
    "                alpha_t=(alpha_t+nu*alpha_t*dW_a) \n",
    "            \n",
    "            no_of_steps_counter+=1\n",
    "        \n",
    "        #At the end of each path, we store the forward interest rate in a list\n",
    "        simulated_forwards.append(F_t)\n",
    "        no_of_sim_counter = no_of_sim_counter+1\n",
    "        \n",
    "    return simulated_forwards"
   ]
  },
  {
   "cell_type": "markdown",
   "metadata": {},
   "source": [
    "#### Monte Carlo SABR using Milstein scheme"
   ]
  },
  {
   "cell_type": "code",
   "execution_count": 4,
   "metadata": {
    "collapsed": true
   },
   "outputs": [],
   "source": [
    "def simulateSABRMonteCarloMilstein(no_of_sim,no_of_steps,expiry,F_0,alpha_0,beta,rho,nu):\n",
    "    '''\n",
    "    Monte Carlo SABR using Milstein scheme.\n",
    "    @var no_of_sim: Monte Carlo paths\n",
    "    @var no_of_steps: discretization steps required to reach the option expiry date\n",
    "    @var expiry: option expiry in years\n",
    "    @var F_0: forward interest rate\n",
    "    @var alpha_0: SABR alpha at t=0\n",
    "    @var beta : SABR beta\n",
    "    @var rho : SABR rho\n",
    "    @var nu: SABR nu\n",
    "    '''\n",
    "    #Step length in years\n",
    "    dt=float(expiry)/float(no_of_steps)\n",
    "    dt_sqrt=math.sqrt(dt)\n",
    "    no_of_sim_counter=0\n",
    "    simulated_forwards=[]\n",
    "    \n",
    "    while no_of_sim_counter<no_of_sim:\n",
    "        F_t=F_0\n",
    "        alpha_t=alpha_0\n",
    "        no_of_steps_counter=1\n",
    "        \n",
    "        while no_of_steps_counter<=no_of_steps:\n",
    "            #Zero absorbing boundary used for all beta except for beta=0 and beta=1\n",
    "            if ((beta>0 and beta<1) and F_t<=0):\n",
    "                F_t=0\n",
    "                no_of_steps_counter=no_of_steps+1 \n",
    "            \n",
    "            else:\n",
    "                #Generate two correlated random numbers\n",
    "                rand = drawTwoRandomNumbers(rho)\n",
    "                \n",
    "                #Simulate the forward interest rate using Milstein scheme. \n",
    "                #Use the absolute for the diffusion to avoid numerical issues if the forward interest rate goes into negative \n",
    "                dW_F=dt_sqrt*rand[0]\n",
    "                F_b=math.pow(abs(F_t),beta)\n",
    "                F_t=(F_t+alpha_t*F_b*dW_F+\n",
    "                     0.5*beta*math.pow(alpha_t,2.0)*math.pow(abs(F_t),exp_F)*(rand[0]*rand[0]-1.0)*dt)\n",
    "\n",
    "                #Simulate the stochastic volatility using Milstein scheme\n",
    "                dW_a=dt_sqrt*rand[1]\n",
    "                nu_sqr=math.pow(nu,2.0)\n",
    "                alpha_t=(alpha_t+nu*alpha_t*dW_a+0.5*nu_sqr*alpha_t*(rand[1]*rand[1]-1.0)*dt)\n",
    "            \n",
    "            no_of_steps_counter+=1\n",
    "        \n",
    "        #At the end of each path, we store the forward interest rate in a list\n",
    "        simulated_forwards.append(F_t)\n",
    "        no_of_sim_counter=no_of_sim_counter+1\n",
    "        \n",
    "    return simulated_forwards"
   ]
  }
 ],
 "metadata": {
  "kernelspec": {
   "display_name": "Python 2",
   "language": "python",
   "name": "python2"
  },
  "language_info": {
   "codemirror_mode": {
    "name": "ipython",
    "version": 2
   },
   "file_extension": ".py",
   "mimetype": "text/x-python",
   "name": "python",
   "nbconvert_exporter": "python",
   "pygments_lexer": "ipython2",
   "version": "2.7.13"
  }
 },
 "nbformat": 4,
 "nbformat_minor": 2
}
