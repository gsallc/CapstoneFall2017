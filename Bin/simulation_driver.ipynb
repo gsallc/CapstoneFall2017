{
 "cells": [
  {
   "cell_type": "code",
   "execution_count": 1,
   "metadata": {
    "collapsed": false
   },
   "outputs": [],
   "source": [
    "#import sys\n",
    "#sys.path.append('/Users/huangxingyue/Desktop/NYU MFE/12 Capstone')\n",
    "import numpy as np\n",
    "import pandas as pd\n",
    "import math\n",
    "from Pricing.MC_simulation import simulateSABRMonteCarloEuler, simulateSABRMonteCarloMilstein, drawTwoRandomNumbers\n",
    "from Fitter.fitter import Fitter\n",
    "from Pricing.BS import *\n",
    "from matplotlib import pyplot as plt"
   ]
  },
  {
   "cell_type": "markdown",
   "metadata": {},
   "source": [
    "** Take swaption of 5Y tenor and 10Y expiry as an example **"
   ]
  },
  {
   "cell_type": "code",
   "execution_count": 2,
   "metadata": {
    "collapsed": false
   },
   "outputs": [
    {
     "name": "stdout",
     "output_type": "stream",
     "text": [
      "('params:\\n', F        0.033460\n",
      "alpha    0.020476\n",
      "beta     0.311017\n",
      "rho     -0.102919\n",
      "nu       0.311203\n",
      "Name: 13, dtype: float64)\n",
      "('ivols:\\n', tenor      5.000000\n",
      "expiry    10.000000\n",
      "F          0.033460\n",
      "-150       0.311059\n",
      "-100       0.274397\n",
      "-50        0.248384\n",
      "-25        0.238508\n",
      "0          0.230400\n",
      "25         0.223851\n",
      "50         0.218662\n",
      "100        0.211611\n",
      "150        0.207853\n",
      "Name: 13, dtype: float64)\n"
     ]
    }
   ],
   "source": [
    "fitter=Fitter('market_data.xlsx')\n",
    "results=fitter.calibration() #Hagan lognormal implementation\n",
    "ivols=fitter.ivol_SABR(results['alpha'],results['beta'],results['rho'],results['nu'])\n",
    "params=results['params']\n",
    "\n",
    "factors=params.loc[13,:][2:]\n",
    "vols=ivols.loc[13,:]\n",
    "print ('params:\\n', factors)\n",
    "print ('ivols:\\n', vols)"
   ]
  },
  {
   "cell_type": "markdown",
   "metadata": {
    "collapsed": false
   },
   "source": [
    "### MC Euler scheme"
   ]
  },
  {
   "cell_type": "markdown",
   "metadata": {},
   "source": [
    "#### case1: $\\nu=0$ for $\\rho=\\{0,0.8,-0.8\\}$ and $\\beta=\\{0,0.3,0.5,0.7,1\\}$ with $n_{sim}=100000, n_{step}=40$"
   ]
  },
  {
   "cell_type": "code",
   "execution_count": 3,
   "metadata": {
    "collapsed": false
   },
   "outputs": [
    {
     "name": "stdout",
     "output_type": "stream",
     "text": [
      "       alpha  beta  rho  nu    -150    -100     -50     -25       0      25  \\\n",
      "0   0.007549   0.0  0.0   0  0.3096  0.2751  0.2495  0.2389  0.2295  0.2209   \n",
      "1   0.021138   0.3  0.0   0  0.2802  0.2592  0.2428  0.2358  0.2295  0.2237   \n",
      "2   0.041916   0.5  0.0   0  0.2690  0.2533  0.2410  0.2357  0.2309  0.2266   \n",
      "3   0.082981   0.7  0.0   0  0.2506  0.2421  0.2352  0.2323  0.2296  0.2272   \n",
      "4   0.230400   1.0  0.0   0  0.2249  0.2272  0.2279  0.2280  0.2281  0.2282   \n",
      "5   0.007549   0.0  0.8   0  0.3107  0.2760  0.2505  0.2398  0.2304  0.2219   \n",
      "6   0.021138   0.3  0.8   0  0.2893  0.2655  0.2475  0.2399  0.2331  0.2269   \n",
      "7   0.041916   0.5  0.8   0  0.2624  0.2485  0.2374  0.2326  0.2283  0.2242   \n",
      "8   0.082981   0.7  0.8   0  0.2511  0.2424  0.2354  0.2323  0.2295  0.2269   \n",
      "9   0.230400   1.0  0.8   0  0.2327  0.2326  0.2325  0.2324  0.2323  0.2322   \n",
      "10  0.007549   0.0 -0.8   0  0.3093  0.2751  0.2496  0.2390  0.2296  0.2211   \n",
      "11  0.021138   0.3 -0.8   0  0.2873  0.2640  0.2462  0.2387  0.2320  0.2260   \n",
      "12  0.041916   0.5 -0.8   0  0.2718  0.2551  0.2425  0.2371  0.2323  0.2278   \n",
      "13  0.082981   0.7 -0.8   0  0.2562  0.2461  0.2385  0.2352  0.2322  0.2294   \n",
      "14  0.230400   1.0 -0.8   0  0.2359  0.2345  0.2337  0.2335  0.2333  0.2331   \n",
      "\n",
      "        50     100     150  MC standard error  \n",
      "0   0.2132  0.1996  0.1881           0.023794  \n",
      "1   0.2184  0.2090  0.2008           0.023636  \n",
      "2   0.2226  0.2155  0.2094           0.024279  \n",
      "3   0.2249  0.2206  0.2168           0.025090  \n",
      "4   0.2282  0.2283  0.2284           0.027915  \n",
      "5   0.2141  0.2007  0.1892           0.023880  \n",
      "6   0.2212  0.2112  0.2026           0.023689  \n",
      "7   0.2205  0.2138  0.2079           0.024179  \n",
      "8   0.2245  0.2201  0.2162           0.025009  \n",
      "9   0.2321  0.2319  0.2316           0.028201  \n",
      "10  0.2133  0.1999  0.1885           0.023889  \n",
      "11  0.2204  0.2106  0.2021           0.023629  \n",
      "12  0.2237  0.2166  0.2104           0.024286  \n",
      "13  0.2269  0.2222  0.2181           0.025187  \n",
      "14  0.2329  0.2326  0.2324           0.027969  \n"
     ]
    }
   ],
   "source": [
    "results=[]\n",
    "for rho in [0,0.8,-0.8]:\n",
    "    for beta in [0,0.3,0.5,0.7,1]:\n",
    "        res=minimize(objfunc_atm,0,(beta,rho,0,vols['F'],10,vols[0]))\n",
    "        result=[res.x[0],beta,rho,0]\n",
    "        forwards1=simulateSABRMonteCarloEuler(100000,40,10,vols['F'],res.x[0],beta,rho,0)\n",
    "        #forwards2=simulateSABRMonteCarloMilstein(100000,40, 10, vols['F'],0.0071957323083426811,0,0,0.25)\n",
    "        MC_price=[]\n",
    "        for K_spread in vols.index.tolist()[3:]:\n",
    "            option=[max(0, item-(vols['F']+K_spread/10000.)) for item in forwards1]\n",
    "            MC_price.append(sum(option)/len(option))\n",
    "        for counter, K_spread in enumerate(vols.index.tolist()[3:]):\n",
    "            result.append(find_ivol(MC_price[counter],vols['F'],vols['F']+K_spread/10000.,10))\n",
    "        result.append(np.std(forwards1))\n",
    "        results.append(result)\n",
    "results=pd.DataFrame(results,columns=['alpha','beta','rho','nu','-150','-100','-50','-25','0','25','50','100','150','MC standard error'])\n",
    "print (results)"
   ]
  },
  {
   "cell_type": "markdown",
   "metadata": {},
   "source": [
    "#### case2: $\\rho=0$ for $\\nu=\\{0.25,0.5\\}$ and $\\beta=\\{0,0.3,0.5,0.7,1\\}$ with $n_{sim}=100000, n_{step}=40$"
   ]
  },
  {
   "cell_type": "code",
   "execution_count": 4,
   "metadata": {
    "collapsed": false
   },
   "outputs": [
    {
     "name": "stdout",
     "output_type": "stream",
     "text": [
      "      alpha  beta  rho    nu                              -150  \\\n",
      "0  0.007196   0.0    0  0.25                             0.325   \n",
      "1  0.020121   0.3    0  0.25                            0.2858   \n",
      "2  0.039871   0.5    0  0.25                            0.2797   \n",
      "3  0.078895   0.7    0  0.25                            0.2702   \n",
      "4  0.218994   1.0    0  0.25                            0.2459   \n",
      "5  0.006303   0.0    0  0.50                            0.3478   \n",
      "6  0.017573   0.3    0  0.50                             0.278   \n",
      "7  0.034770   0.5    0  0.50                            0.2841   \n",
      "8  0.068733   0.7    0  0.50                            0.2643   \n",
      "9  0.190676   1.0    0  0.50  failture to find the right ivol!   \n",
      "\n",
      "                               -100                               -50  \\\n",
      "0                            0.2822                            0.2521   \n",
      "1                            0.2588                            0.2394   \n",
      "2                             0.256                            0.2398   \n",
      "3                            0.2515                            0.2396   \n",
      "4                             0.236                            0.2311   \n",
      "5                              0.29                            0.2512   \n",
      "6                            0.2426                            0.2182   \n",
      "7                            0.2483                            0.2247   \n",
      "8                             0.235                            0.2162   \n",
      "9  failture to find the right ivol!  failture to find the right ivol!   \n",
      "\n",
      "                                -25                                 0  \\\n",
      "0                            0.2404                            0.2306   \n",
      "1                            0.2319                            0.2255   \n",
      "2                            0.2338                            0.2287   \n",
      "3                            0.2355                            0.2322   \n",
      "4                            0.2299                            0.2293   \n",
      "5                            0.2375                            0.2271   \n",
      "6                            0.2098                            0.2038   \n",
      "7                            0.2169                            0.2116   \n",
      "8                            0.2105                             0.207   \n",
      "9  failture to find the right ivol!  failture to find the right ivol!   \n",
      "\n",
      "                                 25                                50  \\\n",
      "0                            0.2222                            0.2151   \n",
      "1                              0.22                            0.2155   \n",
      "2                            0.2246                            0.2213   \n",
      "3                            0.2296                            0.2276   \n",
      "4                            0.2292                            0.2296   \n",
      "5                            0.2196                            0.2146   \n",
      "6                               0.2                            0.1979   \n",
      "7                            0.2085                            0.2071   \n",
      "8                            0.2055                            0.2054   \n",
      "9  failture to find the right ivol!  failture to find the right ivol!   \n",
      "\n",
      "                                100                               150  \\\n",
      "0                            0.2041                            0.1962   \n",
      "1                            0.2084                            0.2034   \n",
      "2                            0.2163                            0.2132   \n",
      "3                            0.2252                            0.2242   \n",
      "4                            0.2314                             0.234   \n",
      "5                            0.2101                            0.2098   \n",
      "6                            0.1977                            0.2003   \n",
      "7                            0.2082                            0.2119   \n",
      "8                            0.2085                            0.2139   \n",
      "9  failture to find the right ivol!  failture to find the right ivol!   \n",
      "\n",
      "   MC standard error  \n",
      "0       2.660222e-02  \n",
      "1       2.529813e-02  \n",
      "2       2.735775e-02  \n",
      "3       3.562773e-02  \n",
      "4       5.918450e-01  \n",
      "5       4.053683e-02  \n",
      "6       3.244112e-02  \n",
      "7       4.209156e-02  \n",
      "8       5.144727e-02  \n",
      "9       1.964994e+09  \n"
     ]
    }
   ],
   "source": [
    "results=[]\n",
    "for nu in [0.25,0.5]:\n",
    "    for beta in [0,0.3,0.5,0.7,1]:\n",
    "        res=minimize(objfunc_atm,0,(beta,0,nu,vols['F'],10,vols[0]))\n",
    "        result=[res.x[0],beta,0,nu]\n",
    "        forwards1=simulateSABRMonteCarloEuler(100000,40,10,vols['F'],res.x[0],beta,0,nu)\n",
    "        MC_price=[]\n",
    "        for K_spread in vols.index.tolist()[3:]:\n",
    "            option=[max(0, item-(vols['F']+K_spread/10000.)) for item in forwards1]\n",
    "            MC_price.append(sum(option)/len(option))\n",
    "        for counter, K_spread in enumerate(vols.index.tolist()[3:]):\n",
    "            result.append(find_ivol(MC_price[counter],vols['F'],vols['F']+K_spread/10000.,10))\n",
    "        result.append(np.std(forwards1))\n",
    "        results.append(result)\n",
    "results=pd.DataFrame(results,columns=['alpha','beta','rho','nu','-150','-100','-50','-25','0','25','50','100','150','MC standard error'])\n",
    "print (results)"
   ]
  },
  {
   "cell_type": "markdown",
   "metadata": {},
   "source": [
    "#### case3: $\\rho=\\{0.8,-0.8\\}$ for $\\nu=\\{0.25,0.5\\}$ and $\\beta=\\{0,0.3,0.5,0.7,1\\}$ with $n_{sim}=100000, n_{step}=40$"
   ]
  },
  {
   "cell_type": "code",
   "execution_count": 5,
   "metadata": {
    "collapsed": false
   },
   "outputs": [
    {
     "name": "stdout",
     "output_type": "stream",
     "text": [
      "       alpha  beta  rho    nu                              -150  \\\n",
      "0   0.007534   0.0  0.8  0.25                            0.2575   \n",
      "1   0.020441   0.3  0.8  0.25                            0.2328   \n",
      "2   0.039712   0.5  0.8  0.25                            0.2305   \n",
      "3   0.077090   0.7  0.8  0.25                            0.2095   \n",
      "4   0.208276   1.0  0.8  0.25                            0.1725   \n",
      "5   0.007490   0.0  0.8  0.50                             0.241   \n",
      "6   0.019752   0.3  0.8  0.50                            0.2351   \n",
      "7   0.037764   0.5  0.8  0.50                            0.2515   \n",
      "8   0.072296   0.7  0.8  0.50                            0.5355   \n",
      "9   0.191954   1.0  0.8  0.50  failture to find the right ivol!   \n",
      "10  0.007534   0.0 -0.8  0.25                            0.3783   \n",
      "11  0.021841   0.3 -0.8  0.25                            0.3261   \n",
      "12  0.044483   0.5 -0.8  0.25                            0.3116   \n",
      "13  0.090725   0.7 -0.8  0.25                            0.2987   \n",
      "14  0.264947   1.0 -0.8  0.25                            0.2832   \n",
      "15  0.007490   0.0 -0.8  0.50                            0.4448   \n",
      "16  0.022547   0.3 -0.8  0.50                            0.3288   \n",
      "17  0.047608   0.5 -0.8  0.50                            0.3253   \n",
      "18  0.457062   0.7 -0.8  0.50  failture to find the right ivol!   \n",
      "19  0.349947   1.0 -0.8  0.50  failture to find the right ivol!   \n",
      "\n",
      "                                -100                               -50  \\\n",
      "0                             0.2448                            0.2375   \n",
      "1                              0.231                            0.2317   \n",
      "2                             0.2306                            0.2344   \n",
      "3                             0.2188                             0.229   \n",
      "4                             0.1981                            0.2183   \n",
      "5                              0.227                            0.2281   \n",
      "6                             0.2248                            0.2315   \n",
      "7                             0.2367                             0.244   \n",
      "8                             0.4621                            0.4419   \n",
      "9   failture to find the right ivol!  failture to find the right ivol!   \n",
      "10                            0.3156                             0.269   \n",
      "11                            0.2858                            0.2534   \n",
      "12                            0.2777                            0.2503   \n",
      "13                            0.2708                             0.248   \n",
      "14                            0.2633                             0.247   \n",
      "15                            0.3569                            0.2921   \n",
      "16                            0.2815                            0.2423   \n",
      "17                            0.2817                            0.2457   \n",
      "18                            0.8984                            0.8288   \n",
      "19  failture to find the right ivol!  failture to find the right ivol!   \n",
      "\n",
      "                                 -25                                 0  \\\n",
      "0                              0.235                             0.233   \n",
      "1                             0.2324                            0.2333   \n",
      "2                             0.2367                             0.239   \n",
      "3                             0.2339                            0.2386   \n",
      "4                             0.2272                            0.2354   \n",
      "5                             0.2312                             0.235   \n",
      "6                             0.2375                             0.244   \n",
      "7                             0.2512                            0.2589   \n",
      "8                             0.4423                            0.4457   \n",
      "9   failture to find the right ivol!  failture to find the right ivol!   \n",
      "10                            0.2495                            0.2321   \n",
      "11                            0.2394                            0.2265   \n",
      "12                            0.2383                            0.2273   \n",
      "13                            0.2381                            0.2289   \n",
      "14                            0.2398                            0.2332   \n",
      "15                            0.2653                            0.2413   \n",
      "16                            0.2249                            0.2087   \n",
      "17                            0.2298                            0.2149   \n",
      "18                            0.8014                            0.7773   \n",
      "19  failture to find the right ivol!  failture to find the right ivol!   \n",
      "\n",
      "                                  25                                50  \\\n",
      "0                             0.2315                            0.2302   \n",
      "1                             0.2344                            0.2354   \n",
      "2                             0.2414                            0.2436   \n",
      "3                              0.243                            0.2472   \n",
      "4                              0.243                              0.25   \n",
      "5                             0.2389                            0.2428   \n",
      "6                             0.2505                            0.2567   \n",
      "7                             0.2668                            0.2744   \n",
      "8                             0.4506                            0.4562   \n",
      "9   failture to find the right ivol!  failture to find the right ivol!   \n",
      "10                            0.2163                             0.202   \n",
      "11                            0.2146                            0.2035   \n",
      "12                            0.2171                            0.2076   \n",
      "13                            0.2204                            0.2124   \n",
      "14                            0.2271                            0.2215   \n",
      "15                            0.2199                             0.201   \n",
      "16                            0.1937                            0.1798   \n",
      "17                            0.2012                            0.1885   \n",
      "18                             0.756                            0.7367   \n",
      "19  failture to find the right ivol!  failture to find the right ivol!   \n",
      "\n",
      "                                 100                               150  \\\n",
      "0                             0.2284                            0.2272   \n",
      "1                             0.2374                            0.2394   \n",
      "2                             0.2479                            0.2518   \n",
      "3                             0.2549                            0.2618   \n",
      "4                             0.2627                            0.2739   \n",
      "5                             0.2504                            0.2572   \n",
      "6                             0.2684                            0.2788   \n",
      "7                             0.2885                            0.3011   \n",
      "8                             0.4682                            0.4799   \n",
      "9   failture to find the right ivol!  failture to find the right ivol!   \n",
      "10                            0.1771                            0.1566   \n",
      "11                            0.1839                            0.1671   \n",
      "12                            0.1906                            0.1759   \n",
      "13                            0.1982                            0.1858   \n",
      "14                            0.2113                            0.2024   \n",
      "15                            0.1712                             0.154   \n",
      "16                            0.1566                            0.1406   \n",
      "17                            0.1668                            0.1509   \n",
      "18                            0.7032                            0.6748   \n",
      "19  failture to find the right ivol!  failture to find the right ivol!   \n",
      "\n",
      "    MC standard error  \n",
      "0        2.800040e-02  \n",
      "1        3.185162e-02  \n",
      "2        3.752772e-02  \n",
      "3        4.874637e-02  \n",
      "4        2.699684e-01  \n",
      "5        4.578851e-02  \n",
      "6        7.424622e-02  \n",
      "7        2.050829e-01  \n",
      "8        1.334395e+00  \n",
      "9        1.957581e+15  \n",
      "10       2.776654e-02  \n",
      "11       2.182510e-02  \n",
      "12       2.226932e-02  \n",
      "13       2.278216e-02  \n",
      "14       2.397867e-02  \n",
      "15       4.808673e-02  \n",
      "16       2.060681e-02  \n",
      "17       2.127660e-02  \n",
      "18       7.173617e-02  \n",
      "19       1.245311e+18  \n"
     ]
    }
   ],
   "source": [
    "results=[]\n",
    "for rho in [0.8,-0.8]:    \n",
    "    for nu in [0.25,0.5]:\n",
    "        for beta in [0,0.3,0.5,0.7,1]:\n",
    "            res=minimize(objfunc_atm,0,(beta,rho,nu,vols['F'],10,vols[0]))\n",
    "            result=[res.x[0],beta,rho,nu]\n",
    "            forwards1=simulateSABRMonteCarloEuler(100000,40,10,vols['F'],res.x[0],beta,rho,nu)\n",
    "            MC_price=[]\n",
    "            for K_spread in vols.index.tolist()[3:]:\n",
    "                option=[max(0, item-(vols['F']+K_spread/10000.)) for item in forwards1]\n",
    "                MC_price.append(sum(option)/len(option))\n",
    "            for counter, K_spread in enumerate(vols.index.tolist()[3:]):\n",
    "                result.append(find_ivol(MC_price[counter],vols['F'],vols['F']+K_spread/10000.,10))\n",
    "            result.append(np.std(forwards1))\n",
    "            results.append(result)\n",
    "results=pd.DataFrame(results,columns=['alpha','beta','rho','nu','-150','-100','-50','-25','0','25','50','100','150','MC standard error'])\n",
    "print (results)"
   ]
  },
  {
   "cell_type": "markdown",
   "metadata": {},
   "source": [
    "#### case4: MC with SABR parameters calibrated, $n_{sim}=100000, n_{step}=40$"
   ]
  },
  {
   "cell_type": "code",
   "execution_count": 6,
   "metadata": {
    "collapsed": false
   },
   "outputs": [
    {
     "name": "stdout",
     "output_type": "stream",
     "text": [
      "('MC standard error:', 0.02585443025373952)\n"
     ]
    },
    {
     "data": {
      "image/png": "[encoded data removed]",
      "text/plain": [
       "<matplotlib.figure.Figure at 0x11114b6d0>"
      ]
     },
     "metadata": {},
     "output_type": "display_data"
    },
    {
     "data": {
      "image/png": "[encoded data removed]",
      "text/plain": [
       "<matplotlib.figure.Figure at 0x11bc60b90>"
      ]
     },
     "metadata": {},
     "output_type": "display_data"
    }
   ],
   "source": [
    "forwards1=simulateSABRMonteCarloEuler(100000,40,10,vols['F'],factors['alpha'],factors['beta'],factors['rho'],factors['nu'])\n",
    "print ('MC standard error:', np.std(forwards1))\n",
    "\n",
    "#plot MC simulated option prices against BS prices with Hagan ivol\n",
    "p1=[] #MC simulated option price\n",
    "p2=[] #BS price by Hagan ivol\n",
    "for K_spread in vols.index.tolist()[3:]:\n",
    "    option=[max(0, item-(vols['F']+K_spread/10000.)) for item in forwards1]\n",
    "    p1.append(sum(option)/len(option))\n",
    "    p2.append(black(vols['F'],(vols['F']+K_spread/10000.),10,vols[K_spread],1))  \n",
    "plt.plot(vols.index.tolist()[3:],p1,label='MC')\n",
    "plt.plot(vols.index.tolist()[3:],p2,label='Hagan lognormal')\n",
    "plt.title('MC simulated option price vs predicted price by Hagan lognormal')\n",
    "plt.xlabel('K_spreads')\n",
    "plt.ylabel('option price')\n",
    "plt.legend()\n",
    "plt.show()\n",
    "\n",
    "#plot MC simulated ivols against Hagan ivols\n",
    "ivols_hagan=vols.values[3:] #Hagan ivol\n",
    "ivols_MC=[] #MC simulated ivol\n",
    "for counter, K_spread in enumerate(vols.index.tolist()[3:]):\n",
    "    ivols_MC.append(find_ivol(p1[counter],vols['F'],vols['F']+K_spread/10000.,10))\n",
    "plt.plot(vols.index.tolist()[3:],[item*100 for item in ivols_MC],label='MC')\n",
    "plt.plot(vols.index.tolist()[3:],[item*100 for item in ivols_hagan],label='Hagan lognormal')\n",
    "plt.title('MC simulated ivol vs Hagan lognormal ivol (%)')\n",
    "plt.xlabel('K_spreads')\n",
    "plt.ylabel('ivol')\n",
    "plt.legend()\n",
    "plt.show()"
   ]
  },
  {
   "cell_type": "markdown",
   "metadata": {},
   "source": [
    "### MC Milstein scheme"
   ]
  },
  {
   "cell_type": "markdown",
   "metadata": {},
   "source": [
    "#### case5: $\\rho=0,\\nu=0.25$ for $\\beta=\\{0,0.3,0.5,0.7,1\\}$ with $n_{sim}=100000, n_{step}=40$"
   ]
  },
  {
   "cell_type": "code",
   "execution_count": 7,
   "metadata": {
    "collapsed": false
   },
   "outputs": [
    {
     "name": "stdout",
     "output_type": "stream",
     "text": [
      "      alpha  beta  rho   nu    -150    -100     -50     -25       0      25  \\\n",
      "0  0.007196   0.0 -0.8  0.5  0.3250  0.2826  0.2527  0.2411  0.2312  0.2228   \n",
      "1  0.020121   0.3 -0.8  0.5  0.2827  0.2568  0.2382  0.2309  0.2247  0.2194   \n",
      "2  0.039871   0.5 -0.8  0.5  0.2717  0.2503  0.2356  0.2301  0.2256  0.2219   \n",
      "3  0.078895   0.7 -0.8  0.5  0.2593  0.2432  0.2326  0.2288  0.2259  0.2237   \n",
      "4  0.218994   1.0 -0.8  0.5  0.2331  0.2268  0.2239  0.2234  0.2234  0.2238   \n",
      "\n",
      "       50     100     150  MC standard error  \n",
      "0  0.2157  0.2046  0.1966           0.026687  \n",
      "1  0.2149  0.2081  0.2033           0.025392  \n",
      "2  0.2189  0.2145  0.2118           0.026989  \n",
      "3  0.2220  0.2200  0.2193           0.029571  \n",
      "4  0.2244  0.2264  0.2290           0.053934  \n"
     ]
    }
   ],
   "source": [
    "results=[]\n",
    "for beta in [0,0.3,0.5,0.7,1]:\n",
    "    res=minimize(objfunc_atm,0,(beta,0,0.25,vols['F'],10,vols[0]))\n",
    "    result=[res.x[0],beta,rho,nu]\n",
    "    forwards2=simulateSABRMonteCarloMilstein(100000,40,10,vols['F'],res.x[0],beta,0,0.25)\n",
    "    MC_price=[]\n",
    "    for K_spread in vols.index.tolist()[3:]:\n",
    "        option=[max(0, item-(vols['F']+K_spread/10000.)) for item in forwards2]\n",
    "        MC_price.append(sum(option)/len(option))\n",
    "    for counter, K_spread in enumerate(vols.index.tolist()[3:]):\n",
    "        result.append(find_ivol(MC_price[counter],vols['F'],vols['F']+K_spread/10000.,10))\n",
    "    result.append(np.std(forwards2))\n",
    "    results.append(result)\n",
    "results=pd.DataFrame(results,columns=['alpha','beta','rho','nu','-150','-100','-50','-25','0','25','50','100','150','MC standard error'])\n",
    "print (results)"
   ]
  },
  {
   "cell_type": "code",
   "execution_count": null,
   "metadata": {
    "collapsed": true
   },
   "outputs": [],
   "source": []
  }
 ],
 "metadata": {
  "kernelspec": {
   "display_name": "Python 2",
   "language": "python",
   "name": "python2"
  },
  "language_info": {
   "codemirror_mode": {
    "name": "ipython",
    "version": 2
   },
   "file_extension": ".py",
   "mimetype": "text/x-python",
   "name": "python",
   "nbconvert_exporter": "python",
   "pygments_lexer": "ipython2",
   "version": "2.7.13"
  }
 },
 "nbformat": 4,
 "nbformat_minor": 2
}
