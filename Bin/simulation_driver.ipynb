{
 "cells": [
  {
   "cell_type": "code",
   "execution_count": 1,
   "metadata": {
    "collapsed": false
   },
   "outputs": [],
   "source": [
    "import sys\n",
    "sys.path.append('/Users/huangxingyue/Desktop/NYU MFE/12 Capstone')\n",
    "import numpy as np\n",
    "import pandas as pd\n",
    "import math\n",
    "from Pricing.MC_simulation import simulateSABRMonteCarloEuler, simulateSABRMonteCarloMilstein, drawTwoRandomNumbers\n",
    "from Pricing.BS import black, dPlusBlack, dMinusBlack, find_ivol\n",
    "from Fitter.fitter import Fitter"
   ]
  },
  {
   "cell_type": "code",
   "execution_count": 2,
   "metadata": {
    "collapsed": false
   },
   "outputs": [],
   "source": [
    "fitter=Fitter('market_data.xlsx')\n",
    "results=fitter.calibration()\n",
    "ivols=fitter.ivol_SABR(results['alpha'],results['beta'],results['rho'],results['nu'])\n",
    "params=results['params']"
   ]
  },
  {
   "cell_type": "markdown",
   "metadata": {},
   "source": [
    "### Take swaption of 5Y tenor and 1Y expiry as an example"
   ]
  },
  {
   "cell_type": "code",
   "execution_count": 3,
   "metadata": {
    "collapsed": false
   },
   "outputs": [
    {
     "name": "stdout",
     "output_type": "stream",
     "text": [
      "('params:\\n', F        0.018623\n",
      "alpha    0.017172\n",
      "beta     0.211957\n",
      "rho      0.279610\n",
      "nu       0.383014\n",
      "Name: 10, dtype: float64)\n",
      "('ivols:\\n', tenor     5.000000\n",
      "expiry    1.000000\n",
      "F         0.018623\n",
      "-150      0.723962\n",
      "-100      0.525335\n",
      "-50       0.443636\n",
      "-25       0.420015\n",
      "0         0.403140\n",
      "25        0.391009\n",
      "50        0.382240\n",
      "100       0.371201\n",
      "150       0.365225\n",
      "Name: 10, dtype: float64)\n"
     ]
    }
   ],
   "source": [
    "factors=params.loc[10,:][2:]\n",
    "vols=ivols.loc[10,:]\n",
    "print ('params:\\n', factors)\n",
    "print ('ivols:\\n', vols)"
   ]
  },
  {
   "cell_type": "code",
   "execution_count": 4,
   "metadata": {
    "collapsed": false
   },
   "outputs": [],
   "source": [
    "# Run Monte-Carlo simulation under Euler scheme and Milstein scheme\n",
    "forwards1=simulateSABRMonteCarloEuler(100000,78, 1, vols['F'], factors[0],factors[1],factors[2],factors[3])\n",
    "forwards2=simulateSABRMonteCarloMilstein(100000,78, 1, vols['F'], factors[0],factors[1],factors[2],factors[3])"
   ]
  },
  {
   "cell_type": "code",
   "execution_count": 6,
   "metadata": {
    "collapsed": false
   },
   "outputs": [],
   "source": [
    "# take Euler Scheme as example\n",
    "p=[]\n",
    "v=[]\n",
    "for K_spread in vols.index[3:].tolist():\n",
    "    diffs=[item-(vols['F']+K_spread/10000.0) for item in forwards1]\n",
    "    options=[max(item,0) for item in diffs]\n",
    "    price=sum(options)/len(options)\n",
    "    p.append(price)\n",
    "    try:\n",
    "        v.append(find_ivol(price,vols['F'],vols['F']+K_spread/10000,1))\n",
    "    except ValueError:\n",
    "        v.append('nan')"
   ]
  },
  {
   "cell_type": "code",
   "execution_count": 7,
   "metadata": {
    "collapsed": false
   },
   "outputs": [
    {
     "data": {
      "text/plain": [
       "[0.016206556844009758,\n",
       " 0.012677621269585859,\n",
       " 0.0095387709017646528,\n",
       " 0.0081536582142793957,\n",
       " 0.0069012395449212435,\n",
       " 0.0057861411070860048,\n",
       " 0.0048066629144901032,\n",
       " 0.0032292158785831395,\n",
       " 0.0020947498764354098]"
      ]
     },
     "execution_count": 7,
     "metadata": {},
     "output_type": "execute_result"
    }
   ],
   "source": [
    "p"
   ]
  },
  {
   "cell_type": "code",
   "execution_count": 8,
   "metadata": {
    "collapsed": false
   },
   "outputs": [
    {
     "data": {
      "text/plain": [
       "['nan',\n",
       " 'nan',\n",
       " 'nan',\n",
       " 'nan',\n",
       " 0.9649999999999083,\n",
       " 0.7994999999999265,\n",
       " 0.658599999999942,\n",
       " 0.43799999999996625,\n",
       " 0.28279999999998334]"
      ]
     },
     "execution_count": 8,
     "metadata": {},
     "output_type": "execute_result"
    }
   ],
   "source": [
    "v"
   ]
  },
  {
   "cell_type": "code",
   "execution_count": null,
   "metadata": {
    "collapsed": true
   },
   "outputs": [],
   "source": []
  }
 ],
 "metadata": {
  "kernelspec": {
   "display_name": "Python 2",
   "language": "python",
   "name": "python2"
  },
  "language_info": {
   "codemirror_mode": {
    "name": "ipython",
    "version": 2
   },
   "file_extension": ".py",
   "mimetype": "text/x-python",
   "name": "python",
   "nbconvert_exporter": "python",
   "pygments_lexer": "ipython2",
   "version": "2.7.13"
  }
 },
 "nbformat": 4,
 "nbformat_minor": 2
}
