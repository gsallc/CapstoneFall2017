{
 "cells": [
  {
   "cell_type": "code",
   "execution_count": 1,
   "metadata": {
    "collapsed": true
   },
   "outputs": [],
   "source": [
    "import numpy as np\n",
    "import pandas as pd\n",
    "from Pricing.MC_simulation import simulateSABRMonteCarloEuler, simulateSABRMonteCarloMilstein, drawTwoRandomNumbers\n",
    "from Pricing.black_pricing import black,dPlusBlack,dMinusBlack,find_ivol\n",
    "import math"
   ]
  },
  {
   "cell_type": "code",
   "execution_count": 2,
   "metadata": {
    "collapsed": false
   },
   "outputs": [],
   "source": [
    "data=pd.read_csv('../Fitter/parameters/params_Hagan.csv')\n",
    "data.set_index('Unnamed: 0',inplace=True)\n",
    "\n",
    "factors=data.iloc[:,27].values #take swaption of 15 tenor and 10Y expiry as example"
   ]
  },
  {
   "cell_type": "code",
   "execution_count": 3,
   "metadata": {
    "collapsed": false
   },
   "outputs": [
    {
     "data": {
      "text/plain": [
       "array([  0.02312935,   0.35424604,  -0.07782868,   0.25810059,\n",
       "         0.02708095,  10.        ])"
      ]
     },
     "execution_count": 3,
     "metadata": {},
     "output_type": "execute_result"
    }
   ],
   "source": [
    "factors"
   ]
  },
  {
   "cell_type": "code",
   "execution_count": 4,
   "metadata": {
    "collapsed": false
   },
   "outputs": [],
   "source": [
    "forwards=simulateSABRMonteCarloMilstein(100000,78, 10, 0.0270809467677389, float(factors[0]),0.354,-0.07,0.258)"
   ]
  },
  {
   "cell_type": "code",
   "execution_count": 5,
   "metadata": {
    "collapsed": false
   },
   "outputs": [],
   "source": [
    "diffs=[item-(0.027080947-150.0/10000) for item in forwards]\n",
    "options=[item if item>0 else 0 for item in diffs]\n",
    "options=np.array(options)\n",
    "p=options.mean()*math.exp(-10*2.35/100) #swaption price"
   ]
  },
  {
   "cell_type": "code",
   "execution_count": 6,
   "metadata": {
    "collapsed": false
   },
   "outputs": [
    {
     "data": {
      "text/plain": [
       "0.013576936032989503"
      ]
     },
     "execution_count": 6,
     "metadata": {},
     "output_type": "execute_result"
    }
   ],
   "source": [
    "p"
   ]
  },
  {
   "cell_type": "code",
   "execution_count": 7,
   "metadata": {
    "collapsed": false
   },
   "outputs": [
    {
     "data": {
      "text/plain": [
       "0.010733529854955506"
      ]
     },
     "execution_count": 7,
     "metadata": {},
     "output_type": "execute_result"
    }
   ],
   "source": [
    "p*math.exp(-10*2.35/100)"
   ]
  },
  {
   "cell_type": "code",
   "execution_count": 12,
   "metadata": {
    "collapsed": false
   },
   "outputs": [
    {
     "name": "stdout",
     "output_type": "stream",
     "text": [
      "0.2 0.0136349449181 0.0111988297703\n",
      "0.21 0.0136349449181 0.0111368011764\n",
      "0.22 0.0136349449181 0.0110787212724\n",
      "0.23 0.0136349449181 0.0110247854605\n",
      "0.24 0.0136349449181 0.0109750683059\n",
      "0.25 0.0136349449181 0.0109295554855\n",
      "0.26 0.0136349449181 0.0108881687623\n",
      "0.27 0.0136349449181 0.0108507852058\n",
      "0.28 0.0136349449181 0.0108172517999\n",
      "0.29 0.0136349449181 0.0107873964245\n",
      "0.3 0.0136349449181 0.0107610360218\n",
      "0.31 0.0136349449181 0.0107379826001\n",
      "0.32 0.0136349449181 0.0107180475889\n",
      "0.33 0.0136349449181 0.0107010449439\n",
      "0.34 0.0136349449181 0.010686793311\n",
      "0.35 0.0136349449181 0.0106751174853\n",
      "0.36 0.0136349449181 0.010665849345\n",
      "0.37 0.0136349449181 0.0106588283978\n",
      "0.38 0.0136349449181 0.0106539020435\n",
      "0.39 0.0136349449181 0.0106509256308\n",
      "0.4 0.0136349449181 0.0106497623684\n",
      "0.41 0.0136349449181 0.0106502831336\n",
      "0.42 0.0136349449181 0.0106523662125\n",
      "0.43 0.0136349449181 0.0106558969962\n",
      "0.44 0.0136349449181 0.0106607676508\n",
      "0.45 0.0136349449181 0.010666876775\n",
      "0.46 0.0136349449181 0.0106741290548\n",
      "0.47 0.0136349449181 0.0106824349228\n",
      "0.48 0.0136349449181 0.0106917102249\n",
      "0.49 0.0136349449181 0.0107018759006\n",
      "0.5 0.0136349449181 0.0107128576763\n",
      "0.51 0.0136349449181 0.0107245857745\n",
      "0.52 0.0136349449181 0.0107369946381\n",
      "0.53 0.0136349449181 0.0107500226717\n",
      "0.54 0.0136349449181 0.0107636119978\n",
      "0.55 0.0136349449181 0.0107777082286\n",
      "0.56 0.0136349449181 0.0107922602525\n",
      "0.57 0.0136349449181 0.0108072200347\n",
      "0.58 0.0136349449181 0.0108225424308\n",
      "0.59 0.0136349449181 0.0108381850132\n",
      "0.6 0.0136349449181 0.010854107909\n",
      "0.61 0.0136349449181 0.0108702736491\n",
      "0.62 0.0136349449181 0.0108866470271\n",
      "0.63 0.0136349449181 0.0109031949683\n",
      "0.64 0.0136349449181 0.0109198864069\n",
      "0.65 0.0136349449181 0.0109366921718\n",
      "0.66 0.0136349449181 0.01095358488\n",
      "0.67 0.0136349449181 0.0109705388367\n",
      "0.68 0.0136349449181 0.0109875299422\n",
      "0.69 0.0136349449181 0.0110045356049\n",
      "0.7 0.0136349449181 0.0110215346594\n",
      "0.71 0.0136349449181 0.0110385072903\n",
      "0.72 0.0136349449181 0.0110554349605\n",
      "0.73 0.0136349449181 0.0110723003438\n",
      "0.74 0.0136349449181 0.0110890872619\n",
      "0.75 0.0136349449181 0.011105780625\n",
      "0.76 0.0136349449181 0.0111223663756\n",
      "0.77 0.0136349449181 0.0111388314362\n",
      "0.78 0.0136349449181 0.0111551636595\n",
      "0.79 0.0136349449181 0.0111713517817\n",
      "0.8 0.0136349449181 0.0111873853777\n",
      "0.81 0.0136349449181 0.0112032548201\n",
      "0.82 0.0136349449181 0.0112189512388\n",
      "0.83 0.0136349449181 0.0112344664836\n",
      "0.84 0.0136349449181 0.0112497930892\n",
      "0.85 0.0136349449181 0.0112649242405\n",
      "0.86 0.0136349449181 0.0112798537412\n",
      "0.87 0.0136349449181 0.0112945759827\n",
      "0.88 0.0136349449181 0.0113090859157\n",
      "0.89 0.0136349449181 0.0113233790218\n",
      "0.9 0.0136349449181 0.0113374512877\n",
      "0.91 0.0136349449181 0.0113512991795\n",
      "0.92 0.0136349449181 0.0113649196193\n",
      "0.93 0.0136349449181 0.0113783099614\n",
      "0.94 0.0136349449181 0.0113914679712\n",
      "0.95 0.0136349449181 0.0114043918036\n",
      "0.96 0.0136349449181 0.0114170799831\n",
      "0.97 0.0136349449181 0.0114295313847\n",
      "0.98 0.0136349449181 0.011441745215\n",
      "0.99 0.0136349449181 0.0114537209951\n"
     ]
    },
    {
     "data": {
      "text/plain": [
       "'failture to find the right ivol!'"
      ]
     },
     "execution_count": 12,
     "metadata": {},
     "output_type": "execute_result"
    }
   ],
   "source": [
    "find_ivol(p,0.027080947,0.027080947-150.0/10000,10,0.0235)"
   ]
  },
  {
   "cell_type": "code",
   "execution_count": 10,
   "metadata": {
    "collapsed": false
   },
   "outputs": [
    {
     "data": {
      "text/plain": [
       "0.010670658651487858"
      ]
     },
     "execution_count": 10,
     "metadata": {},
     "output_type": "execute_result"
    }
   ],
   "source": [
    "black(0.027080947,0.027080947-150.0/10000,10,0.3545,1,r=0.0235)"
   ]
  },
  {
   "cell_type": "code",
   "execution_count": 19,
   "metadata": {
    "collapsed": false
   },
   "outputs": [
    {
     "data": {
      "text/plain": [
       "0.2"
      ]
     },
     "execution_count": 19,
     "metadata": {},
     "output_type": "execute_result"
    }
   ],
   "source": [
    "find_ivol(-0.001518735348974044,0.027080947,0.027080947+25.0/10000,10,0)"
   ]
  },
  {
   "cell_type": "code",
   "execution_count": null,
   "metadata": {
    "collapsed": true
   },
   "outputs": [],
   "source": []
  }
 ],
 "metadata": {
  "kernelspec": {
   "display_name": "Python 2",
   "language": "python",
   "name": "python2"
  },
  "language_info": {
   "codemirror_mode": {
    "name": "ipython",
    "version": 2
   },
   "file_extension": ".py",
   "mimetype": "text/x-python",
   "name": "python",
   "nbconvert_exporter": "python",
   "pygments_lexer": "ipython2",
   "version": "2.7.13"
  }
 },
 "nbformat": 4,
 "nbformat_minor": 2
}
