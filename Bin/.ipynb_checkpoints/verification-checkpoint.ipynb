{
 "cells": [
  {
   "cell_type": "code",
   "execution_count": 5,
   "metadata": {
    "collapsed": true
   },
   "outputs": [],
   "source": [
    "from Pricing.SABR import SABR_model\n",
    "import pandas as pd"
   ]
  },
  {
   "cell_type": "code",
   "execution_count": 17,
   "metadata": {},
   "outputs": [
    {
     "data": {
      "text/html": [
       "<div>\n",
       "<style>\n",
       "    .dataframe thead tr:only-child th {\n",
       "        text-align: right;\n",
       "    }\n",
       "\n",
       "    .dataframe thead th {\n",
       "        text-align: left;\n",
       "    }\n",
       "\n",
       "    .dataframe tbody tr th {\n",
       "        vertical-align: top;\n",
       "    }\n",
       "</style>\n",
       "<table border=\"1\" class=\"dataframe\">\n",
       "  <thead>\n",
       "    <tr style=\"text-align: right;\">\n",
       "      <th></th>\n",
       "      <th>Tenor</th>\n",
       "      <th>Expiry</th>\n",
       "      <th>F</th>\n",
       "      <th>K</th>\n",
       "      <th>ivol_hagan</th>\n",
       "      <th>ivol_obloj</th>\n",
       "    </tr>\n",
       "  </thead>\n",
       "  <tbody>\n",
       "    <tr>\n",
       "      <th>0</th>\n",
       "      <td>2</td>\n",
       "      <td>0.25</td>\n",
       "      <td>0.010764</td>\n",
       "      <td>0.110764</td>\n",
       "      <td>0.005240</td>\n",
       "      <td>0.005257</td>\n",
       "    </tr>\n",
       "    <tr>\n",
       "      <th>1</th>\n",
       "      <td>2</td>\n",
       "      <td>1.00</td>\n",
       "      <td>0.012194</td>\n",
       "      <td>0.112194</td>\n",
       "      <td>0.005085</td>\n",
       "      <td>0.005100</td>\n",
       "    </tr>\n",
       "    <tr>\n",
       "      <th>2</th>\n",
       "      <td>2</td>\n",
       "      <td>10.00</td>\n",
       "      <td>0.033873</td>\n",
       "      <td>0.133873</td>\n",
       "      <td>0.003856</td>\n",
       "      <td>0.003859</td>\n",
       "    </tr>\n",
       "    <tr>\n",
       "      <th>3</th>\n",
       "      <td>10</td>\n",
       "      <td>0.25</td>\n",
       "      <td>0.022990</td>\n",
       "      <td>0.122990</td>\n",
       "      <td>0.004313</td>\n",
       "      <td>0.004319</td>\n",
       "    </tr>\n",
       "    <tr>\n",
       "      <th>4</th>\n",
       "      <td>10</td>\n",
       "      <td>1.00</td>\n",
       "      <td>0.024725</td>\n",
       "      <td>0.124725</td>\n",
       "      <td>0.004226</td>\n",
       "      <td>0.004231</td>\n",
       "    </tr>\n",
       "    <tr>\n",
       "      <th>5</th>\n",
       "      <td>10</td>\n",
       "      <td>10.00</td>\n",
       "      <td>0.031009</td>\n",
       "      <td>0.131009</td>\n",
       "      <td>0.003959</td>\n",
       "      <td>0.003963</td>\n",
       "    </tr>\n",
       "  </tbody>\n",
       "</table>\n",
       "</div>"
      ],
      "text/plain": [
       "   Tenor  Expiry         F         K  ivol_hagan  ivol_obloj\n",
       "0      2    0.25  0.010764  0.110764    0.005240    0.005257\n",
       "1      2    1.00  0.012194  0.112194    0.005085    0.005100\n",
       "2      2   10.00  0.033873  0.133873    0.003856    0.003859\n",
       "3     10    0.25  0.022990  0.122990    0.004313    0.004319\n",
       "4     10    1.00  0.024725  0.124725    0.004226    0.004231\n",
       "5     10   10.00  0.031009  0.131009    0.003959    0.003963"
      ]
     },
     "execution_count": 17,
     "metadata": {},
     "output_type": "execute_result"
    }
   ],
   "source": [
    "# choose a set of parameters\n",
    "[alpha,beta,rho,nu] = [0.001,0.5,0,0.001]\n",
    "sabr = SABR_model(beta,rho,nu)\n",
    "\n",
    "# choose a sample to test\n",
    "spread = 0.1\n",
    "s1 = [['Tenor','Expiry','F','K'],[2,0.25,0.010763833,0.010763833+spread],[2,1,0.012193564,0.012193564+spread],\n",
    "           [2,10,0.033873471,0.033873471+spread],[10,0.25,0.02299003,0.02299003+spread],\n",
    "           [10,1,0.02472472,0.02472472+spread],[10,10,0.031009202,0.031009202+spread]]\n",
    "sample1 = pd.DataFrame(s1[1:],columns=s1[0])\n",
    "\n",
    "# calculate the SABR vol with two methods\n",
    "ivol_hagan = []\n",
    "ivol_obloj = []\n",
    "for i in range(len(sample1)):\n",
    "    ivol_hagan.append(sabr.ivol_Hagan(alpha,sample1['F'].values[i],sample1['K'].values[i],sample1['Expiry'].values[i]))\n",
    "    ivol_obloj.append(sabr.ivol_Obloj(alpha,sample1['F'].values[i],sample1['K'].values[i],sample1['Expiry'].values[i]))\n",
    "sample1['ivol_hagan'] = pd.Series(ivol_hagan)\n",
    "sample1['ivol_obloj'] = pd.Series(ivol_obloj)\n",
    "sample1"
   ]
  },
  {
   "cell_type": "code",
   "execution_count": null,
   "metadata": {
    "collapsed": true
   },
   "outputs": [],
   "source": []
  }
 ],
 "metadata": {
  "kernelspec": {
   "display_name": "Python 3",
   "language": "python",
   "name": "python3"
  },
  "language_info": {
   "codemirror_mode": {
    "name": "ipython",
    "version": 3
   },
   "file_extension": ".py",
   "mimetype": "text/x-python",
   "name": "python",
   "nbconvert_exporter": "python",
   "pygments_lexer": "ipython3",
   "version": "3.6.1"
  }
 },
 "nbformat": 4,
 "nbformat_minor": 2
}
