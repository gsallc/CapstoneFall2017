{
 "cells": [
  {
   "cell_type": "code",
   "execution_count": 3,
   "metadata": {},
   "outputs": [],
   "source": [
    "import xlrd\n",
    "import pandas as pd"
   ]
  },
  {
   "cell_type": "code",
   "execution_count": 4,
   "metadata": {},
   "outputs": [],
   "source": [
    "vols=pd.read_csv('../Outputs/outvol_Hagan.csv')"
   ]
  },
  {
   "cell_type": "code",
   "execution_count": 5,
   "metadata": {},
   "outputs": [],
   "source": [
    "from scipy.stats import norm\n",
    "import math\n",
    "\n",
    "def black(F_T,K,expiry,vol,isCall,r=0):\n",
    "    #option_value=0\n",
    "    D=math.exp(-r*expiry)\n",
    "    if expiry*vol==0.0:\n",
    "        if isCall:\n",
    "            option_value=max(F_T-K,0.0)\n",
    "        else:\n",
    "            option_value=max(K-F_T,0.0)\n",
    "    else:\n",
    "        d1=dPlusBlack(F_T,K,expiry,vol,r)\n",
    "        d2=dPlusBlack(F_T,K,expiry,vol,r)\n",
    "        if isCall:\n",
    "            option_value=F_T*D*norm.cdf(d1)-K*D*norm.cdf(d2)\n",
    "        else:\n",
    "            option_value=K*D*norm.cdf(-d2)-F_T*D*norm.cdf(-d1)\n",
    "    return option_value\n",
    "\n",
    "def dPlusBlack(F_T,K,expiry,vol,r):\n",
    "    D=math.exp(-r*expiry)\n",
    "    d_Plus=(math.log(F_T*D/K)+(r+0.5*vol*vol)*expiry)/vol/math.sqrt(expiry)\n",
    "    return d_Plus\n",
    "\n",
    "def dMinusBlack(F_T,K,expiry,vol,r):\n",
    "    d_Minus=dPlusBlack(F_T,K,expiry,vol,r)-vol*math.sqrt(expiry)\n",
    "    return d_Minus\n",
    "\n",
    "def find_ivol(option_price,F_T,K,expiry,r=0):\n",
    "    sigma=0.20 #initial guess of sigma\n",
    "    while sigma<1:\n",
    "        black_implied=black(F_T,K,expiry,sigma,1,r)\n",
    "        if option_price-black_implied<0.0001: #set precision of 0.0001\n",
    "            return sigma\n",
    "        print sigma,option_price,black_implied\n",
    "        sigma+=0.01\n",
    "    return \"failture to find the right ivol!\"\n",
    "\n",
    "\n",
    "def bs_matrix(F_T,K,expiry,vol,isCall,r=0): #F_T,K,expiry are vector, vol is a matrix\n",
    "    for i in len(F_T):\n",
    "        for j in len(K):\n",
    "            option_price[i][j] = black(F_T[i],K[j],expiry[i],vol[i][j],isCall,r=0)\n",
    "    return option_price"
   ]
  },
  {
   "cell_type": "code",
   "execution_count": 6,
   "metadata": {},
   "outputs": [],
   "source": [
    "file_input=xlrd.open_workbook('../Inputs/'+'market_data.xlsx')  # load market data\n",
    "Market_data=file_input.sheet_by_name('Swaptions data')"
   ]
  },
  {
   "cell_type": "code",
   "execution_count": 11,
   "metadata": {},
   "outputs": [
    {
     "ename": "IndentationError",
     "evalue": "unindent does not match any outer indentation level (<ipython-input-11-7a270da9241e>, line 6)",
     "output_type": "error",
     "traceback": [
      "\u001b[0;36m  File \u001b[0;32m\"<ipython-input-11-7a270da9241e>\"\u001b[0;36m, line \u001b[0;32m6\u001b[0m\n\u001b[0;31m    strike_spreads.append(int(Market_data.cell(1, 3 + j).value))\u001b[0m\n\u001b[0m                                                                ^\u001b[0m\n\u001b[0;31mIndentationError\u001b[0m\u001b[0;31m:\u001b[0m unindent does not match any outer indentation level\n"
     ]
    }
   ],
   "source": [
    "     ######## set characteristics ###############################\n",
    "strike_spreads=[]\n",
    "j = 0\n",
    "while True:\n",
    "    try:\n",
    "        strike_spreads.append(int(Market_data.cell(1, 3 + j).value))\n",
    "        j = j + 1\n",
    "    except:\n",
    "        break\n",
    "num_strikes = len(strike_spreads)\n",
    "\n",
    "expiries = []\n",
    "i = 0\n",
    "while True:\n",
    "    try:\n",
    "        expiries.append(Market_data.cell(2 + i, 1).value)\n",
    "        i = i + 1\n",
    "    except:\n",
    "        break\n",
    "\n",
    "tenors = []\n",
    "i = 0\n",
    "while True:\n",
    "    try:\n",
    "        tenors.append(Market_data.cell(2 + i, 0).value)\n",
    "        i = i + 1\n",
    "    except:\n",
    "        break\n",
    "\n",
    "    # to create the ATM forward rates\n",
    "F = []\n",
    "i = 0\n",
    "while True:\n",
    "    try:\n",
    "        F.append(Market_data.cell(2 + i, 2).value)\n",
    "        i = i + 1\n",
    "    except:\n",
    "        break\n",
    "\n",
    "    # to create the strike grid\n",
    "K = np.zeros((len(F), num_strikes))\n",
    "for i in range(len(F)):\n",
    "    for j in range(num_strikes):\n",
    "        K[i][j] = F[i] + 0.0001 * (strike_spreads[j])\n",
    "\n",
    "    # to create market volatilities\n",
    "MKT = np.zeros((len(F), num_strikes))\n",
    "for i in range(len(F)):\n",
    "    for j in range(num_strikes):\n",
    "        MKT[i][j] = Market_data.cell(2 + i, 3 + j).value"
   ]
  },
  {
   "cell_type": "code",
   "execution_count": null,
   "metadata": {},
   "outputs": [],
   "source": []
  }
 ],
 "metadata": {
  "kernelspec": {
   "display_name": "Python 2",
   "language": "python",
   "name": "python2"
  },
  "language_info": {
   "codemirror_mode": {
    "name": "ipython",
    "version": 2
   },
   "file_extension": ".py",
   "mimetype": "text/x-python",
   "name": "python",
   "nbconvert_exporter": "python",
   "pygments_lexer": "ipython2",
   "version": "2.7.13"
  }
 },
 "nbformat": 4,
 "nbformat_minor": 2
}
