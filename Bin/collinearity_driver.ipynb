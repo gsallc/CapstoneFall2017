{
 "cells": [
  {
   "cell_type": "code",
   "execution_count": 1,
   "metadata": {
    "collapsed": false
   },
   "outputs": [],
   "source": [
    "import sys\n",
    "sys.path.append('/Users/huangxingyue/Desktop/NYU MFE/12 Capstone')\n",
    "from Fitter.collinearity import is_pos_def, check_collinearity\n",
    "from Fitter.fitter import Fitter"
   ]
  },
  {
   "cell_type": "code",
   "execution_count": 2,
   "metadata": {
    "collapsed": false
   },
   "outputs": [],
   "source": [
    "# calibrate the Hagan SABR model to the input data\n",
    "# The variable results is a dictionary which stores the ivols and the jacobian matrix calibrated\n",
    "fitter=Fitter('market_data.xlsx')"
   ]
  },
  {
   "cell_type": "markdown",
   "metadata": {},
   "source": [
    "### Hagan lognormal Implementation"
   ]
  },
  {
   "cell_type": "code",
   "execution_count": 3,
   "metadata": {
    "collapsed": false
   },
   "outputs": [
    {
     "name": "stdout",
     "output_type": "stream",
     "text": [
      "\n",
      "The condition no. of the Hessian Matrix is: 3.74153165979e+21\n",
      "\n",
      "The model may suffer from strong collinearity as the condition no. is greater than 5000.\n"
     ]
    }
   ],
   "source": [
    "# read jacobian matrix of calibration from fitting_driver.ipynb\n",
    "results=fitter.calibration()\n",
    "jacmat=results['jacmat']\n",
    "# check collinearity of the Hagan SABR model by condition no. of Hessian matrix\n",
    "check_collinearity(jacmat)"
   ]
  },
  {
   "cell_type": "markdown",
   "metadata": {},
   "source": [
    "### Hagan normal Implementation"
   ]
  },
  {
   "cell_type": "code",
   "execution_count": 5,
   "metadata": {
    "collapsed": false
   },
   "outputs": [
    {
     "name": "stdout",
     "output_type": "stream",
     "text": [
      "The Jacobian matrix is:\n",
      "[[ -5.40986657e-05  -3.78511846e-04   9.45553184e-05   1.86480582e-04]\n",
      " [  1.00865960e-04  -3.10856849e-04  -3.59416008e-05  -9.68575478e-08]\n",
      " [  1.04872882e-03  -1.29017867e-02   1.49570405e-05   9.62242484e-06]\n",
      " [  5.68898395e-04  -1.04393959e-02   8.04029405e-05   6.71781600e-05]\n",
      " [ -2.91897357e-03   2.11924314e-03  -3.22073698e-04  -4.59700823e-05]\n",
      " [  1.02620572e-04  -4.80640680e-04  -7.91613944e-04  -2.92151235e-04]\n",
      " [  1.92756142e-02  -5.53088919e-01  -1.06173632e-03   1.46645791e-03]\n",
      " [ -2.63867606e-02  -5.34770546e-01   2.14379779e-02   1.93074038e-02]\n",
      " [ -7.59633165e-03  -5.49465876e-01   5.09416312e-03   5.38726058e-03]\n",
      " [ -1.09361783e-02  -5.72156264e-01   2.95746885e-03   3.59280990e-03]\n",
      " [ -4.40927083e-03  -5.72543888e-01   2.77577783e-03   2.18803692e-03]\n",
      " [  4.64666320e-03  -7.08045278e-01  -1.63803587e-03  -9.27288784e-04]\n",
      " [  9.93660011e-03  -7.17946755e-01  -1.17328874e-03   1.78543152e-04]\n",
      " [ -2.80621675e-02  -5.10885707e-01   1.14644278e-03  -2.65467365e-03]\n",
      " [  2.53801257e-02  -4.63787443e-01  -7.14372378e-04   1.20264757e-03]\n",
      " [  1.67926764e-02  -3.85511550e-01  -9.53890150e-04   2.31000548e-03]\n",
      " [  9.21884086e-04  -3.51122398e-01   8.42113513e-05  -3.73609364e-05]\n",
      " [  2.78185448e-03  -3.76611519e-01  -5.04567288e-04  -1.81765528e-04]\n",
      " [  1.05342129e-03   4.78478614e-04  -8.79026484e-04  -4.08614520e-04]\n",
      " [ -1.37134755e-02  -4.91568817e-01   1.65350141e-03  -1.96208485e-03]\n",
      " [  6.26519788e-04  -8.44079915e-02  -4.39497409e-04  -9.53883864e-05]\n",
      " [ -4.86802333e-03  -2.06784836e-01   2.67632073e-04   3.23278364e-05]\n",
      " [ -7.23394891e-03  -2.81944403e-01  -2.25332566e-04   3.96732474e-04]\n",
      " [ -1.77144320e-02  -2.56495357e-01   5.73951169e-04  -1.54923939e-03]\n",
      " [ -7.38764298e-03  -1.10469480e-01  -8.13667197e-04   2.24771444e-04]\n",
      " [  1.11542060e-03  -5.36325015e-03  -9.06457426e-04  -2.30190111e-04]\n",
      " [ -6.29714003e-03  -4.04459840e-01   6.15139026e-04  -1.50426803e-03]\n",
      " [ -2.49072583e-03   2.06019776e-03  -5.65279275e-04  -2.98781320e-04]\n",
      " [ -3.81325930e-03  -2.55435338e-01   3.88978282e-04  -1.09260832e-03]\n",
      " [  4.83684707e-05  -2.91575031e-01  -5.29101817e-04  -7.03838421e-04]\n",
      " [ -6.27386849e-04  -3.14186217e-01  -1.04153762e-04   1.07207336e-04]\n",
      " [  2.49755051e-02  -3.17149399e-01  -2.20063841e-04   1.14867813e-04]\n",
      " [  4.10245184e-03  -4.79916829e-01  -8.68982170e-06   5.76400198e-05]\n",
      " [  1.19854452e-03  -4.59596156e-01   4.59097791e-05   1.78401591e-04]\n",
      " [ -5.80253673e-03  -6.53087490e-01   8.22362490e-05  -4.89324215e-04]\n",
      " [ -2.81751156e-04   2.32268125e-04  -1.50308013e-04  -2.95061618e-04]]\n",
      "\n",
      "The Hessian Matrix is:\n",
      "[[  1.89913599e-07   1.08789754e-07   4.82995294e-06 ...,   1.73935359e-04\n",
      "    2.47431787e-04  -1.41909559e-07]\n",
      " [  1.08789754e-07   1.08097731e-07   4.11585129e-06 ...,   1.42987838e-04\n",
      "    2.02428532e-04  -9.51903487e-08]\n",
      " [  4.82995294e-06   4.11585129e-06   1.67556249e-04 ...,   5.93087094e-03\n",
      "    8.41990674e-03  -3.29724174e-06]\n",
      " ..., \n",
      " [  1.73935359e-04   1.42987838e-04   5.93087094e-03 ...,   2.11230098e-01\n",
      "    3.00149462e-01  -1.07146769e-04]\n",
      " [  2.47431787e-04   2.02428532e-04   8.41990674e-03 ...,   3.00149462e-01\n",
      "    4.26557185e-01  -1.49924515e-04]\n",
      " [ -1.41909559e-07  -9.51903487e-08  -3.29724174e-06 ...,  -1.07146769e-04\n",
      "   -1.49924515e-04   2.42986053e-07]]\n",
      "\n",
      "The Hessian Matrix is not postive definite, thus the parameters may not minimize the loss function\n",
      "\n",
      "The condition no. of the Hessian Matrix is: 3.08849534249e+21\n",
      "\n",
      "The model may suffer from strong collinearity as the condition no. is greater than 5000.\n"
     ]
    }
   ],
   "source": [
    "# read jacobian matrix of calibration from fitting_driver.ipynb\n",
    "results=fitter.calibration(method='Hagan_norm')\n",
    "jacmat=results['jacmat']\n",
    "# check collinearity of the Hagan SABR model by condition no. of Hessian matrix\n",
    "check_collinearity(jacmat)"
   ]
  },
  {
   "cell_type": "markdown",
   "metadata": {},
   "source": [
    "### Obloj Implementation"
   ]
  },
  {
   "cell_type": "code",
   "execution_count": 6,
   "metadata": {
    "collapsed": false
   },
   "outputs": [
    {
     "name": "stderr",
     "output_type": "stream",
     "text": [
      "/Users/huangxingyue/Desktop/NYU MFE/12 Capstone/Pricing/SABR.py:89: RuntimeWarning: divide by zero encountered in double_scalars\n",
      "  sigma=nu*logFK/math.log((math.sqrt(1-2*rho*z+z*z)+z-rho)/(1-rho))\n"
     ]
    },
    {
     "name": "stdout",
     "output_type": "stream",
     "text": [
      "The Jacobian matrix is:\n",
      "[[ -4.11391258e-04   9.62766334e-02  -2.48837354e+00   2.33694911e-04]\n",
      " [ -6.71978593e-02   1.58595517e-02  -1.17833814e+01   6.87921047e-03]\n",
      " [ -1.27751417e-02   3.97265702e-03  -1.21773038e+01   1.24641135e-03]\n",
      " [ -1.38180889e-02   7.25671649e-03  -1.20664241e+01   1.13558397e-03]\n",
      " [  2.25284119e+01  -9.67112321e+08  -4.77968879e+04   1.45541687e+02]\n",
      " [ -4.00581040e-02   3.34541916e-03   5.39957866e-04  -7.28210376e-04]\n",
      " [  6.54183375e-03  -3.33108401e-03  -7.29051535e-05  -9.05052584e-04]\n",
      " [ -1.14549186e+00   4.71255889e-02   1.88155042e-03  -5.56749298e-03]\n",
      " [ -8.27314559e-01   6.22106991e-02   4.86167037e-03  -6.74600844e-03]\n",
      " [ -8.73967939e-01   7.30211042e-02   2.25229788e-03  -5.26130979e-03]\n",
      " [ -5.71929311e-02   6.44473280e-03  -1.14329509e-04  -5.89478266e-04]\n",
      " [  9.05950336e-02  -6.92236562e-03   6.56506247e-03  -3.13712285e-03]\n",
      " [  5.53828014e-01  -6.03792817e-02  -4.02593089e-03   8.61298718e-03]\n",
      " [ -3.61874265e-01   2.59136759e-02   5.98745988e-04  -1.06328986e-02]\n",
      " [  3.26137751e-03  -1.17791642e-03  -9.73930582e-06   8.16233805e-05]\n",
      " [ -5.62167478e-01   1.18938035e-01   7.57688598e-04  -8.93033159e-03]\n",
      " [ -6.49235691e-01   1.32973404e-01   2.48727189e-03  -1.33278309e-02]\n",
      " [  7.97932626e-03  -3.74356475e-03   2.14778783e-03  -2.98955552e-03]\n",
      " [ -2.36084267e-01   1.70587787e-02   1.58649957e-04  -1.42847892e-03]\n",
      " [  2.79678812e-01  -2.68360978e-02  -2.05020231e-04   2.30879577e-03]\n",
      " [ -2.94595303e-02  -5.40839903e-03  -3.46347359e-03  -9.98168020e-04]\n",
      " [ -4.52992241e+00   5.90612363e-01   9.30837244e-03  -3.70881322e-02]\n",
      " [ -3.50640407e-01   6.76050273e-02   7.47887202e-03  -9.91985206e-03]\n",
      " [ -3.99308018e+00   3.64284948e-01   1.23092938e-02  -3.13347775e-02]\n",
      " [  1.63207755e-02  -7.58245280e-03  -2.40427170e-03   2.97181695e-03]\n",
      " [ -1.25903402e+00   2.31697647e-01  -4.98424610e-03  -1.61126147e-02]\n",
      " [ -5.80939686e-01   4.50243693e-02  -4.81318834e-03  -5.13238196e-03]\n",
      " [  2.89607728e-02  -3.85951968e-03  -1.05274856e-04   1.21032470e-04]\n",
      " [ -2.82322928e-01   5.05106767e-02   1.16486292e-04  -2.80885707e-03]\n",
      " [  4.45510960e-02  -3.41960927e-03   2.71732629e-03   2.42570139e-04]\n",
      " [ -1.83628551e-01   3.35635609e-02   1.33453580e-03  -3.92758363e-03]\n",
      " [ -4.61829534e-01   7.41338412e-02  -3.30695621e-04  -4.50558675e-03]\n",
      " [ -6.65775974e-01   1.16611579e-01  -1.47634074e-03  -7.79691520e-03]\n",
      " [ -1.95049542e-01   3.20108248e-02  -1.49547413e-05  -4.96575469e-03]\n",
      " [ -1.20672143e+00   1.63427182e-01  -1.63106838e-03  -2.72353912e-02]\n",
      " [  3.34098279e-01   3.25332437e-01  -1.87599659e-03  -2.37976387e-03]]\n",
      "\n",
      "The Hessian Matrix is:\n",
      "[[  6.20127229e+00   2.93230106e+01   3.03020686e+01 ...,   3.19818863e-03\n",
      "    2.02829962e-02   3.58520908e-02]\n",
      " [  2.93230106e+01   1.38852891e+02   1.43490745e+02 ...,   1.37566459e-02\n",
      "    1.02713121e-01   4.79814981e-03]\n",
      " [  3.03020686e+01   1.43490745e+02   1.48286908e+02 ...,   2.79487263e-03\n",
      "    3.58933461e-02   1.98658955e-02]\n",
      " ..., \n",
      " [  3.19818863e-03   1.37566459e-02   2.79487263e-03 ...,   3.90936756e-02\n",
      "    2.40737169e-01  -5.47397113e-02]\n",
      " [  2.02829962e-02   1.02713121e-01   3.58933461e-02 ...,   2.40737169e-01\n",
      "    1.48362948e+00  -3.49927516e-01]\n",
      " [  3.58520908e-02   4.79814981e-03   1.98658955e-02 ...,  -5.47397113e-02\n",
      "   -3.49927516e-01   2.17472037e-01]]\n",
      "\n",
      "The Hessian Matrix is not postive definite, thus the parameters may not minimize the loss function\n",
      "\n",
      "The condition no. of the Hessian Matrix is: 1.2580767604e+38\n",
      "\n",
      "The model may suffer from strong collinearity as the condition no. is greater than 5000.\n"
     ]
    }
   ],
   "source": [
    "# read jacobian matrix of calibration from fitting_driver.ipynb\n",
    "results=fitter.calibration(method='Obloj')\n",
    "jacmat=results['jacmat']\n",
    "# check collinearity of the Hagan SABR model by condition no. of Hessian matrix\n",
    "check_collinearity(jacmat)"
   ]
  },
  {
   "cell_type": "code",
   "execution_count": null,
   "metadata": {
    "collapsed": true
   },
   "outputs": [],
   "source": []
  }
 ],
 "metadata": {
  "kernelspec": {
   "display_name": "Python 2",
   "language": "python",
   "name": "python2"
  },
  "language_info": {
   "codemirror_mode": {
    "name": "ipython",
    "version": 2
   },
   "file_extension": ".py",
   "mimetype": "text/x-python",
   "name": "python",
   "nbconvert_exporter": "python",
   "pygments_lexer": "ipython2",
   "version": "2.7.13"
  }
 },
 "nbformat": 4,
 "nbformat_minor": 2
}
