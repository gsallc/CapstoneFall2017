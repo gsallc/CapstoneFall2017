{
 "cells": [
  {
   "cell_type": "code",
   "execution_count": 1,
   "metadata": {
    "collapsed": false
   },
   "outputs": [],
   "source": [
    "import pandas as pd\n",
    "import numpy as np\n",
    "from Fitter.collinearity import is_pos_def, check_collinearity\n",
    "from Fitter.fitter import Fitter"
   ]
  },
  {
   "cell_type": "code",
   "execution_count": 3,
   "metadata": {
    "collapsed": false
   },
   "outputs": [],
   "source": [
    "# calibrate the Hagan SABR model to the input data\n",
    "# The variable results is a dictionary which stores the ivols and the jacobian matrix calibrated\n",
    "fitter=Fitter('market_data.xlsx')\n",
    "fitter.input_read()\n",
    "results=fitter.calibration()"
   ]
  },
  {
   "cell_type": "code",
   "execution_count": 4,
   "metadata": {
    "collapsed": false
   },
   "outputs": [],
   "source": [
    "# read jacobian matrix of calibration from fitting_driver.ipynb\n",
    "jacmat=results['jacmat']"
   ]
  },
  {
   "cell_type": "code",
   "execution_count": 5,
   "metadata": {
    "collapsed": false
   },
   "outputs": [
    {
     "name": "stdout",
     "output_type": "stream",
     "text": [
      "The Jacobian matrix is:\n",
      "[[ -7.20617436e-02   7.62923211e-02   6.53719530e-04  -2.97600403e-04]\n",
      " [ -8.45251674e-01   8.50739693e-02  -2.13322928e-03  -2.11850554e-03]\n",
      " [ -6.17232288e-01   5.82588781e-02  -2.09504645e-03  -1.45500945e-03]\n",
      " [ -1.68891026e+01   5.44467645e-01   5.17974433e-03  -4.54037304e-02]\n",
      " [ -5.80003578e-01   6.83718901e-02  -4.96973284e-04  -2.38416065e-03]\n",
      " [ -1.94060289e-01   1.85497024e-02  -2.40519978e-03  -3.63813090e-03]\n",
      " [ -2.62586834e-01   1.61461734e-02  -1.66513838e-03  -2.17746641e-03]\n",
      " [ -1.19564670e+00   1.42026903e-01   1.51897268e-03  -1.37446320e-03]\n",
      " [ -1.35594892e+00   6.25071056e-02   1.10257219e-03  -3.35237890e-03]\n",
      " [ -1.10862472e+00   6.85330306e-02   2.49868678e-03  -2.24953034e-03]\n",
      " [  1.08267474e+00  -8.15185842e-02  -5.75988827e-03   6.29930091e-03]\n",
      " [ -9.81256334e-02   2.59842906e-02   4.99724031e-03  -4.44855187e-03]\n",
      " [ -2.22021249e-01   2.10168259e-02   5.82020293e-05  -3.04183828e-03]\n",
      " [  1.08940024e-02  -4.29512157e-03   4.52786146e-04  -9.84569291e-04]\n",
      " [  5.70413834e-01  -4.77761293e-02  -2.38635053e-03   1.85783114e-03]\n",
      " [ -4.84237096e-01   9.05469301e-02  -1.85010431e-04  -6.28557726e-03]\n",
      " [ -7.66823389e-01   1.38882093e-01   2.14264888e-04  -1.01782085e-02]\n",
      " [ -1.42733021e-01   2.25937718e-02   3.21146965e-03  -4.82610102e-03]\n",
      " [  5.62872552e-01  -5.18073535e-02   1.01271339e-03   8.19791865e-04]\n",
      " [ -1.27247028e-01   6.49184062e-03  -8.14628016e-04  -6.50235699e-04]\n",
      " [ -9.99000754e-01   7.83982785e-02  -1.43029609e-03  -1.46433948e-02]\n",
      " [ -2.73560737e+00   3.54029552e-01  -3.13870248e-03  -2.74128814e-02]\n",
      " [ -1.00265099e+00   1.60386998e-01  -2.80819775e-04  -9.67329937e-03]\n",
      " [ -1.27487841e-01   9.29504551e-03   8.23497772e-04  -1.89123437e-03]\n",
      " [  1.73504186e-01  -1.78498507e-02   6.48140647e-03  -5.45274504e-03]\n",
      " [  2.79171653e-01  -3.13485355e-02  -8.78533756e-05   1.76846111e-03]\n",
      " [ -4.49128324e-01   6.45930080e-02  -1.63632921e-03  -7.77779224e-03]\n",
      " [  2.84992925e-02  -3.31702011e-03  -2.10588420e-04   4.24802871e-04]\n",
      " [ -5.14085087e-01   7.94730823e-02   1.97897622e-04  -4.79258390e-03]\n",
      " [  2.35530772e-02   2.72334917e-03  -2.09651582e-03   1.20993407e-03]\n",
      " [ -9.51095470e-01   1.58758872e-01  -4.45504120e-04  -9.98473089e-03]\n",
      " [ -3.34797566e-01   3.24198211e-02   5.81571518e-03  -1.08127356e-02]\n",
      " [ -7.02271873e-01   1.09249070e-01  -9.50794361e-04  -8.03969865e-03]\n",
      " [ -2.23592292e-01   3.75101165e-02  -1.16575524e-04  -4.32265319e-03]\n",
      " [ -5.25314656e-01   6.87170419e-02  -1.69278574e-03  -1.08662421e-02]\n",
      " [ -3.65623714e-02   2.38428691e-02  -5.23191062e-04  -1.19572470e-03]]\n",
      "\n",
      "The Hessian Matrix is:\n",
      "[[ 0.01101393  0.06740004  0.0489226  ...,  0.01897539  0.0430998\n",
      "   0.00445379]\n",
      " [ 0.06740004  0.72169701  0.52668049 ...,  0.1921923   0.44989576\n",
      "   0.03293646]\n",
      " [ 0.0489226   0.52668049  0.3843763  ...,  0.14020021  0.3282639\n",
      "   0.02395937]\n",
      " ..., \n",
      " [ 0.01897539  0.1921923   0.14020021 ...,  0.05141922  0.12008106\n",
      "   0.00907464]\n",
      " [ 0.0430998   0.44989576  0.3282639  ...,  0.12008106  0.28079846\n",
      "   0.02085904]\n",
      " [ 0.00445379  0.03293646  0.02395937 ...,  0.00907464  0.02085904\n",
      "   0.00190699]]\n",
      "\n",
      "The Hessian Matrix is not postive definite, thus the parameters may not minimize the loss function\n",
      "\n",
      "The condition no. of the Hessian Matrix is: 2.77732373773e+20\n",
      "\n",
      "The model may suffer from strong collinearity as the condition no. is greater than 5000.\n"
     ]
    }
   ],
   "source": [
    "# check collinearity of the Hagan SABR model by condition no. of Hessian matrix\n",
    "check_collinearity(jacmat)"
   ]
  },
  {
   "cell_type": "code",
   "execution_count": null,
   "metadata": {
    "collapsed": true
   },
   "outputs": [],
   "source": []
  }
 ],
 "metadata": {
  "kernelspec": {
   "display_name": "Python 2",
   "language": "python",
   "name": "python2"
  },
  "language_info": {
   "codemirror_mode": {
    "name": "ipython",
    "version": 2
   },
   "file_extension": ".py",
   "mimetype": "text/x-python",
   "name": "python",
   "nbconvert_exporter": "python",
   "pygments_lexer": "ipython2",
   "version": "2.7.13"
  }
 },
 "nbformat": 4,
 "nbformat_minor": 2
}
