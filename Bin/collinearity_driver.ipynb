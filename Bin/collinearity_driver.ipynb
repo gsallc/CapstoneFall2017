{
 "cells": [
  {
   "cell_type": "code",
   "execution_count": 1,
   "metadata": {
    "collapsed": false
   },
   "outputs": [],
   "source": [
    "import sys\n",
    "import pandas as pd\n",
    "import numpy as np\n",
    "from Fitter.collinearity import is_pos_def, check_collinearity\n",
    "from Fitter.fitting import fitting"
   ]
  },
  {
   "cell_type": "code",
   "execution_count": 2,
   "metadata": {
    "collapsed": true
   },
   "outputs": [],
   "source": [
    "# calibrate the Hagan SABR model to input data\n",
    "# The variable results is a dictionary which stores the ivols, ivols_diff(ivols-market ivols) and parameters of SABR \n",
    "# for unconstraint calibration and constraint calibration with beta/rho/alpha/vega fixed to specific values\n",
    "results=fitting('market_data.xlsx')"
   ]
  },
  {
   "cell_type": "code",
   "execution_count": 3,
   "metadata": {
    "collapsed": false
   },
   "outputs": [],
   "source": [
    "# read jacobian matrix of calibration from fitting_driver.ipynb\n",
    "jacmat=results['jacmat']"
   ]
  },
  {
   "cell_type": "code",
   "execution_count": 4,
   "metadata": {
    "collapsed": false
   },
   "outputs": [
    {
     "name": "stdout",
     "output_type": "stream",
     "text": [
      "The Jacobian matrix is:\n",
      "[[  5.54644568e-02   1.11242663e-03   5.65540977e-04   0.00000000e+00]\n",
      " [  6.29338287e-02  -1.53342262e-05   2.86730938e-05   0.00000000e+00]\n",
      " [  4.25465908e-02  -8.70640390e-04  -1.27302483e-04   0.00000000e+00]\n",
      " [  3.83935683e-01  -4.12153953e-03  -3.55107819e-02   0.00000000e+00]\n",
      " [  6.83718901e-02  -4.96973284e-04  -2.38416065e-03   0.00000000e+00]\n",
      " [  1.85497024e-02  -2.40519978e-03  -3.63813090e-03   0.00000000e+00]\n",
      " [  1.61461734e-02  -1.66513838e-03  -2.17746641e-03   0.00000000e+00]\n",
      " [  1.42026903e-01   1.51897268e-03  -1.37446320e-03   0.00000000e+00]\n",
      " [  6.25071056e-02   1.10257219e-03  -3.35237890e-03   0.00000000e+00]\n",
      " [  6.85330306e-02   2.49868678e-03  -2.24953034e-03   0.00000000e+00]\n",
      " [ -8.15185842e-02  -5.75988827e-03   6.29930091e-03   0.00000000e+00]\n",
      " [  2.59842906e-02   4.99724031e-03  -4.44855187e-03   0.00000000e+00]\n",
      " [  2.10168259e-02   5.82020293e-05  -3.04183828e-03   0.00000000e+00]\n",
      " [ -4.29512157e-03   4.52786146e-04  -9.84569291e-04   0.00000000e+00]\n",
      " [ -4.77761293e-02  -2.38635053e-03   1.85783114e-03   0.00000000e+00]\n",
      " [  9.05469301e-02  -1.85010431e-04  -6.28557726e-03   0.00000000e+00]\n",
      " [  1.38882093e-01   2.14264888e-04  -1.01782085e-02   0.00000000e+00]\n",
      " [  2.25937718e-02   3.21146965e-03  -4.82610102e-03   0.00000000e+00]\n",
      " [ -5.18073535e-02   1.01271339e-03   8.19791865e-04   0.00000000e+00]\n",
      " [  6.49184062e-03  -8.14628016e-04  -6.50235699e-04   0.00000000e+00]\n",
      " [  7.83982785e-02  -1.43029609e-03  -1.46433948e-02   0.00000000e+00]\n",
      " [  3.54029552e-01  -3.13870248e-03  -2.74128814e-02   0.00000000e+00]\n",
      " [  1.60386998e-01  -2.80819775e-04  -9.67329937e-03   0.00000000e+00]\n",
      " [  9.29504551e-03   8.23497772e-04  -1.89123437e-03   0.00000000e+00]\n",
      " [ -1.78498507e-02   6.48140647e-03  -5.45274504e-03   0.00000000e+00]\n",
      " [ -3.13485355e-02  -8.78533756e-05   1.76846111e-03   0.00000000e+00]\n",
      " [  6.45930080e-02  -1.63632921e-03  -7.77779224e-03   0.00000000e+00]\n",
      " [ -3.31702011e-03  -2.10588420e-04   4.24802871e-04   0.00000000e+00]\n",
      " [  7.94730823e-02   1.97897622e-04  -4.79258390e-03   0.00000000e+00]\n",
      " [  2.72334917e-03  -2.09651582e-03   1.20993407e-03   0.00000000e+00]\n",
      " [  1.58758872e-01  -4.45504120e-04  -9.98473089e-03   0.00000000e+00]\n",
      " [  3.24198211e-02   5.81571518e-03  -1.08127356e-02   0.00000000e+00]\n",
      " [  1.09249070e-01  -9.50794361e-04  -8.03969865e-03   0.00000000e+00]\n",
      " [  3.75101165e-02  -1.16575524e-04  -4.32265319e-03   0.00000000e+00]\n",
      " [  6.87170419e-02  -1.69278574e-03  -1.08662421e-02   0.00000000e+00]\n",
      " [  2.38428691e-02  -5.23191062e-04  -1.19572470e-03   0.00000000e+00]]\n",
      "\n",
      "The Hessian Matrix is:\n",
      "[[ 0.00307786  0.00349059  0.00235878 ...,  0.0020779   0.00380332\n",
      "   0.00132117]\n",
      " [ 0.00349059  0.00396067  0.00267763 ...,  0.00236053  0.00432434\n",
      "   0.0015005 ]\n",
      " [ 0.00235878  0.00267763  0.00181099 ...,  0.00159658  0.00292653\n",
      "   0.00101504]\n",
      " ..., \n",
      " [ 0.0020779   0.00236053  0.00159658 ...,  0.00142571  0.00262475\n",
      "   0.00089958]\n",
      " [ 0.00380332  0.00432434  0.00292653 ...,  0.00262475  0.00484297\n",
      "   0.00165229]\n",
      " [ 0.00132117  0.0015005   0.00101504 ...,  0.00089958  0.00165229\n",
      "   0.00057019]]\n",
      "\n",
      "The Hessian Matrix is not postive definite, thus the parameters may not minimize the loss function\n",
      "\n",
      "The condition no. of the Hessian Matrix is: 4.41781562327e+19\n",
      "\n",
      "The model may suffer from strong collinearity as the condition no. is greater than 10.\n"
     ]
    }
   ],
   "source": [
    "# check collinearity of the Hagan SABR model by condition no. of Hessian matrix\n",
    "check_collinearity(jacmat)"
   ]
  },
  {
   "cell_type": "code",
   "execution_count": null,
   "metadata": {
    "collapsed": true
   },
   "outputs": [],
   "source": []
  }
 ],
 "metadata": {
  "kernelspec": {
   "display_name": "Python 2",
   "language": "python",
   "name": "python2"
  },
  "language_info": {
   "codemirror_mode": {
    "name": "ipython",
    "version": 2
   },
   "file_extension": ".py",
   "mimetype": "text/x-python",
   "name": "python",
   "nbconvert_exporter": "python",
   "pygments_lexer": "ipython2",
   "version": "2.7.13"
  }
 },
 "nbformat": 4,
 "nbformat_minor": 2
}
