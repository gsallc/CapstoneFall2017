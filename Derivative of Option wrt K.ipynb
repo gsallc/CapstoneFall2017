{
 "cells": [
  {
   "cell_type": "code",
   "execution_count": 39,
   "metadata": {
    "collapsed": true
   },
   "outputs": [],
   "source": [
    "import numpy as np\n",
    "import scipy.stats as ss\n",
    "import time \n",
    "from sympy import *\n",
    "import xlrd\n",
    "import math\n",
    "from scipy.optimize import minimize\n",
    "from matplotlib import pyplot as plt\n",
    "#from scipy.misc import derivative"
   ]
  },
  {
   "cell_type": "code",
   "execution_count": 93,
   "metadata": {},
   "outputs": [
    {
     "name": "stdout",
     "output_type": "stream",
     "text": [
      "test this function:\n",
      "119.887236836\n"
     ]
    }
   ],
   "source": [
    "######## Black Scholes ###############################\n",
    "r = 0.0235\n",
    "def d1(S0, K, r, sigma, T):\n",
    "    return (np.log(S0 / K) + (r + sigma**2 / 2.) * T)/(sigma * np.sqrt(T))\n",
    " \n",
    "def d2(S0, K, r, sigma, T):\n",
    "    return (np.log(S0 / K) + (r - sigma**2 / 2.) * T) / (sigma * np.sqrt(T))\n",
    "\n",
    "def BlackScholes(ty,S0, K, r, sigma, T):\n",
    "    if ty==\"C\":\n",
    "        return S0 * ss.norm.cdf(d1(S0, K, r, sigma, T)) - K * np.exp(-r * T) * ss.norm.cdf(d2(S0, K, r, sigma, T))\n",
    "    elif ty=='P':\n",
    "        return K * np.exp(-r * T) * ss.norm.cdf(-d2(S0, K, r, sigma, T)) - S0 * ss.norm.cdf(-d1(S0, K, r, sigma, T))\n",
    "#test:\n",
    "print('test this function:')\n",
    "print(BlackScholes('C',120,130,0.235,0.1,30))"
   ]
  },
  {
   "cell_type": "code",
   "execution_count": 72,
   "metadata": {
    "collapsed": true
   },
   "outputs": [],
   "source": [
    "def BS_vector(ty,S0, K, r, sigma, T,i):\n",
    "    for j in range(len(K)):\n",
    "        if K[0] <= 0:\n",
    "            shift(F,K)\n",
    "        BlackScholes(ty,S0, K[j], r, sigma[j], T)"
   ]
  },
  {
   "cell_type": "code",
   "execution_count": 85,
   "metadata": {},
   "outputs": [
    {
     "name": "stderr",
     "output_type": "stream",
     "text": [
      "/Users/mengyangliu/anaconda/lib/python3.6/site-packages/ipykernel_launcher.py:4: RuntimeWarning: divide by zero encountered in double_scalars\n",
      "  after removing the cwd from sys.path.\n",
      "/Users/mengyangliu/anaconda/lib/python3.6/site-packages/ipykernel_launcher.py:7: RuntimeWarning: divide by zero encountered in double_scalars\n",
      "  import sys\n"
     ]
    },
    {
     "data": {
      "text/plain": [
       "NoneType"
      ]
     },
     "execution_count": 85,
     "metadata": {},
     "output_type": "execute_result"
    }
   ],
   "source": [
    "######## Black Scholes for Matrix ###############################\n",
    "def BS_Matrix(ty,S0, K, r, sigma, T):\n",
    "    for i in range(len(S0)):\n",
    "        BS_vector(ty,S0[i],K[i],r,sigma[i],T[i],i)\n",
    "#test:\n",
    "type(BS_Matrix('C',F,K,0.0235,MKT,expiries))"
   ]
  },
  {
   "cell_type": "code",
   "execution_count": 86,
   "metadata": {
    "collapsed": true
   },
   "outputs": [],
   "source": [
    "######## Shift Function ###############################\n",
    "def shift(F,K):\n",
    "    shift = 0.001 - K[0]\n",
    "    for j in range(len(K)):\n",
    "        K[j] = K[j] + shift\n",
    "        F = F + shift"
   ]
  },
  {
   "cell_type": "code",
   "execution_count": 87,
   "metadata": {
    "collapsed": true
   },
   "outputs": [],
   "source": [
    "######## Derivative Function ###############################\n",
    "# Second-order central\n",
    "def sec_der(f,x,h):\n",
    "    return (f(x+h)-2*f(x)+f(x-h))/h**2\n",
    "\n",
    "#def sec_der(f):\n",
    " #   def df(x, h):\n",
    "  #      return ( f(x+h)-2*f(x)+f(x-h) )/h**2\n",
    "   # return df"
   ]
  },
  {
   "cell_type": "code",
   "execution_count": 88,
   "metadata": {
    "collapsed": true
   },
   "outputs": [],
   "source": [
    "######## inputs and outputs #########################################\n",
    "while True:\n",
    "    try:\n",
    "        file_input = xlrd.open_workbook('market_data.xlsx')     # load market data\n",
    "    except:\n",
    "        print('Input file is not in the directory!')\n",
    "    break\n",
    "Market_data = file_input.sheet_by_name('Swaptions data')        # file input forward rates"
   ]
  },
  {
   "cell_type": "code",
   "execution_count": 89,
   "metadata": {
    "collapsed": true
   },
   "outputs": [],
   "source": [
    "######## set swaptions characteristics ###############################\n",
    "\n",
    "strike_spreads=[]\n",
    "j=0\n",
    "while True:\n",
    "    try:\n",
    "        strike_spreads.append(int(Market_data.cell(1,3+j).value))\n",
    "        j = j+1\n",
    "    except:\n",
    "        break\n",
    "num_strikes = len(strike_spreads)\n",
    "\n",
    "expiries=[]\n",
    "i=0\n",
    "while True:\n",
    "        try:\n",
    "            expiries.append(Market_data.cell(2+i,1).value)\n",
    "            i = i + 1\n",
    "        except:\n",
    "            break\n",
    "\n",
    "tenors=[]\n",
    "i=0\n",
    "while True:\n",
    "    try:\n",
    "        tenors.append(Market_data.cell(2+i,0).value)\n",
    "        i = i + 1\n",
    "    except:\n",
    "        break\n",
    "        \n",
    "# to create the ATM forward rates\n",
    "F = []\n",
    "i=0\n",
    "while True:\n",
    "    try:\n",
    "        F.append(Market_data.cell(2+i,2).value)\n",
    "        i = i+1\n",
    "    except:\n",
    "        break\n",
    "\n",
    "# to create the strike grid\n",
    "K = np.zeros((len(F),num_strikes))\n",
    "for i in range(len(F)):\n",
    "    for j in range(num_strikes):\n",
    "        K[i][j] = F[i] + 0.0001*(strike_spreads[j])  \n",
    "\n",
    "# to create market volatilities            \n",
    "MKT = np.zeros((len(F),num_strikes))\n",
    "for i in range(len(F)):\n",
    "    for j in range(num_strikes):\n",
    "        MKT[i][j] = Market_data.cell(2+i,3+j).value\n",
    "\n",
    "\n",
    "# set starting parameters\n",
    "starting_guess = np.array([0.001,0.5,0,0.001])\n",
    "alpha = len(F)*[starting_guess[0]]\n",
    "beta = len(F)*[starting_guess[1]]\n",
    "rho = len(F)*[starting_guess[2]]\n",
    "nu = len(F)*[starting_guess[3]]"
   ]
  },
  {
   "cell_type": "code",
   "execution_count": 90,
   "metadata": {},
   "outputs": [
    {
     "name": "stderr",
     "output_type": "stream",
     "text": [
      "/Users/mengyangliu/anaconda/lib/python3.6/site-packages/ipykernel_launcher.py:4: RuntimeWarning: divide by zero encountered in double_scalars\n",
      "  after removing the cwd from sys.path.\n",
      "/Users/mengyangliu/anaconda/lib/python3.6/site-packages/ipykernel_launcher.py:7: RuntimeWarning: divide by zero encountered in double_scalars\n",
      "  import sys\n"
     ]
    },
    {
     "data": {
      "text/plain": [
       "NoneType"
      ]
     },
     "execution_count": 90,
     "metadata": {},
     "output_type": "execute_result"
    }
   ],
   "source": [
    "def V_K(K_):\n",
    "    return BS_Matrix('C',F, K_, r, MKT, expiries)\n",
    "# test:\n",
    "type(V_K(K))"
   ]
  },
  {
   "cell_type": "code",
   "execution_count": 91,
   "metadata": {},
   "outputs": [
    {
     "name": "stderr",
     "output_type": "stream",
     "text": [
      "/Users/mengyangliu/anaconda/lib/python3.6/site-packages/ipykernel_launcher.py:4: RuntimeWarning: divide by zero encountered in double_scalars\n",
      "  after removing the cwd from sys.path.\n",
      "/Users/mengyangliu/anaconda/lib/python3.6/site-packages/ipykernel_launcher.py:7: RuntimeWarning: divide by zero encountered in double_scalars\n",
      "  import sys\n"
     ]
    },
    {
     "ename": "TypeError",
     "evalue": "unsupported operand type(s) for *: 'int' and 'NoneType'",
     "output_type": "error",
     "traceback": [
      "\u001b[0;31m---------------------------------------------------------------------------\u001b[0m",
      "\u001b[0;31mTypeError\u001b[0m                                 Traceback (most recent call last)",
      "\u001b[0;32m<ipython-input-91-84e160dcbad1>\u001b[0m in \u001b[0;36m<module>\u001b[0;34m()\u001b[0m\n\u001b[1;32m      1\u001b[0m \u001b[0;31m#test\u001b[0m\u001b[0;34m\u001b[0m\u001b[0;34m\u001b[0m\u001b[0m\n\u001b[0;32m----> 2\u001b[0;31m \u001b[0mdV_K\u001b[0m \u001b[0;34m=\u001b[0m \u001b[0msec_der\u001b[0m\u001b[0;34m(\u001b[0m\u001b[0mV_K\u001b[0m\u001b[0;34m,\u001b[0m\u001b[0mK\u001b[0m\u001b[0;34m,\u001b[0m\u001b[0;36m0.01\u001b[0m\u001b[0;34m)\u001b[0m\u001b[0;34m\u001b[0m\u001b[0m\n\u001b[0m",
      "\u001b[0;32m<ipython-input-87-7de3eae8690d>\u001b[0m in \u001b[0;36msec_der\u001b[0;34m(f, x, h)\u001b[0m\n\u001b[1;32m      2\u001b[0m \u001b[0;31m# Second-order central\u001b[0m\u001b[0;34m\u001b[0m\u001b[0;34m\u001b[0m\u001b[0m\n\u001b[1;32m      3\u001b[0m \u001b[0;32mdef\u001b[0m \u001b[0msec_der\u001b[0m\u001b[0;34m(\u001b[0m\u001b[0mf\u001b[0m\u001b[0;34m,\u001b[0m\u001b[0mx\u001b[0m\u001b[0;34m,\u001b[0m\u001b[0mh\u001b[0m\u001b[0;34m)\u001b[0m\u001b[0;34m:\u001b[0m\u001b[0;34m\u001b[0m\u001b[0m\n\u001b[0;32m----> 4\u001b[0;31m     \u001b[0;32mreturn\u001b[0m \u001b[0;34m(\u001b[0m\u001b[0mf\u001b[0m\u001b[0;34m(\u001b[0m\u001b[0mx\u001b[0m\u001b[0;34m+\u001b[0m\u001b[0mh\u001b[0m\u001b[0;34m)\u001b[0m\u001b[0;34m-\u001b[0m\u001b[0;36m2\u001b[0m\u001b[0;34m*\u001b[0m\u001b[0mf\u001b[0m\u001b[0;34m(\u001b[0m\u001b[0mx\u001b[0m\u001b[0;34m)\u001b[0m\u001b[0;34m+\u001b[0m\u001b[0mf\u001b[0m\u001b[0;34m(\u001b[0m\u001b[0mx\u001b[0m\u001b[0;34m-\u001b[0m\u001b[0mh\u001b[0m\u001b[0;34m)\u001b[0m\u001b[0;34m)\u001b[0m\u001b[0;34m/\u001b[0m\u001b[0mh\u001b[0m\u001b[0;34m**\u001b[0m\u001b[0;36m2\u001b[0m\u001b[0;34m\u001b[0m\u001b[0m\n\u001b[0m\u001b[1;32m      5\u001b[0m \u001b[0;34m\u001b[0m\u001b[0m\n\u001b[1;32m      6\u001b[0m \u001b[0;31m#def sec_der(f):\u001b[0m\u001b[0;34m\u001b[0m\u001b[0;34m\u001b[0m\u001b[0m\n",
      "\u001b[0;31mTypeError\u001b[0m: unsupported operand type(s) for *: 'int' and 'NoneType'"
     ]
    }
   ],
   "source": [
    "#test\n",
    "dV_K = sec_der(V_K,K,0.01)"
   ]
  },
  {
   "cell_type": "code",
   "execution_count": null,
   "metadata": {
    "collapsed": true
   },
   "outputs": [],
   "source": []
  }
 ],
 "metadata": {
  "kernelspec": {
   "display_name": "Python 3",
   "language": "python",
   "name": "python3"
  },
  "language_info": {
   "codemirror_mode": {
    "name": "ipython",
    "version": 3
   },
   "file_extension": ".py",
   "mimetype": "text/x-python",
   "name": "python",
   "nbconvert_exporter": "python",
   "pygments_lexer": "ipython3",
   "version": "3.6.1"
  }
 },
 "nbformat": 4,
 "nbformat_minor": 2
}
