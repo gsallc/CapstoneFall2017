{
 "cells": [
  {
   "cell_type": "code",
   "execution_count": 1,
   "metadata": {
    "collapsed": true
   },
   "outputs": [],
   "source": [
    "import math"
   ]
  },
  {
   "cell_type": "code",
   "execution_count": 25,
   "metadata": {
    "collapsed": true
   },
   "outputs": [],
   "source": [
    "def haganLogNormalApprox(y,expiry,F_0,alpha_0,beta,nu,rho):\n",
    "    '''\n",
    "    function that returns the Black implied volatility under Hagan lognormal approximation.\n",
    "    @var y: option strike\n",
    "    @var expiry: option expiry in years\n",
    "    @var F_0: forward interest rate\n",
    "    @var alpha_0: SABR alpha at t=0\n",
    "    @var beta : SABR beta\n",
    "    @var rho : SABR rho\n",
    "    @var nu: SABR nu\n",
    "    '''\n",
    "    one_beta=1-beta\n",
    "    one_betasqr=one_beta*one_beta\n",
    "    if F_0!=y:\n",
    "        fK=F_0*y\n",
    "        fK_beta=math.pow(fK,one_beta/2.0) \n",
    "        log_fK=math.log(F_0/y)\n",
    "        z=nu/alpha_0*fK_beta*log_fK\n",
    "        x=math.log((math.sqrt(1.0-2.0*rho*z+z*z)+z-rho)/(1-rho))\n",
    "        sigma1=(alpha_0/fK_beta/(1.0+one_betasqr/24.0*log_fK*log_fK+math.pow(one_beta*log_fK,4)/1920.0)*(z/x))\n",
    "        sigma_exp=(one_betasqr/24.0*alpha_0*alpha_0/fK_beta/fK_beta+0.25*rho*beta*nu*alpha_0/fK_beta+(2.0-3.0*rho*rho)/24.0*nu*nu)\n",
    "        sigma=sigma1*(1.0+sigma_exp*expiry)\n",
    "    else:\n",
    "        f_beta=math.pow(F_0,one_beta)\n",
    "        f_two_beta=math.pow(F_0,(2.0-2.0*beta)) \n",
    "        sigma =((alpha_0/f_beta)*(1.0+((one_betasqr/24.0)*(alpha_0*alpha_0/f_two_beta)+\n",
    "                    (0.25*rho*beta*nu*alpha_0/f_beta)+(2.0-3.0*rho*rho)/24.0*nu*nu)*expiry))               \n",
    "    return sigma    "
   ]
  },
  {
   "cell_type": "code",
   "execution_count": 3,
   "metadata": {
    "collapsed": true
   },
   "outputs": [],
   "source": [
    "def haganNormalApprox(y,expiry,F_0,alpha_0,beta,nu,rho):\n",
    "    '''\n",
    "    function that returns the Black implied volatility under Hagan normal approximation.\n",
    "    @var y: option strike\n",
    "    @var expiry: option expiry in years\n",
    "    @var F_0: forward interest rate\n",
    "    @var alpha_0: SABR alpha at t=0\n",
    "    @var beta : SABR beta\n",
    "    @var rho : SABR rho\n",
    "    @var nu: SABR nu\n",
    "    '''\n",
    "    one_beta=1-beta\n",
    "    one_betasqr=one_beta*one_beta\n",
    "    if F_0!=y:\n",
    "        fK=F_0*y\n",
    "        fK_beta=math.pow(fK,one_beta/2.0) \n",
    "        log_fK=math.log(F_0/y)\n",
    "        z=nu/alpha_0*fK_beta*log_fK\n",
    "        x=math.log((math.sqrt(1.0-2.0*rho*z+z*z)+z-rho)/(1-rho))\n",
    "        sigma1=(alpha_0/fK_beta/(1.0+one_betasqr/24.0*log_fK*log_fK+math.pow(one_beta*log_fK,4)/1920.0)*\n",
    "                (1.0+log_fK*log_fK/24.0+math.pow(log_fK,4)/1920.0)*(z/x))\n",
    "        sigma_exp=(-beta*(2-beta)/24.0*alpha_0*alpha_0/fK_beta/fK_beta+0.25*rho*beta*nu*alpha_0/fK_beta+(2.0-3.0*rho*rho)/24.0*nu*nu)\n",
    "        sigma=sigmal*(1.0+sigma_exp*expiry)\n",
    "    \n",
    "    return sigma "
   ]
  },
  {
   "cell_type": "code",
   "execution_count": 38,
   "metadata": {
    "collapsed": true
   },
   "outputs": [],
   "source": [
    "def objfunc(params,y,expiry,F_0,MKT):\n",
    "    '''\n",
    "    function that returns the sum of squared volatility differences under Hagan lognormal approximation.\n",
    "    @var y: option strike\n",
    "    @var expiry: option expiry in years\n",
    "    @var F_0: forward interest rate\n",
    "    @var MKT: actual market implied volatility\n",
    "    @var params: list of SABR parameters [alpha, beta, rho, nu]\n",
    "    '''\n",
    "    sum_sq_diff = 0\n",
    "    #if K[0]<=0:\n",
    "        #shift(F,K)\n",
    "    for j in range(36):\n",
    "        [alpha_0,beta,rho,nu]=params\n",
    "        one_beta=1-beta\n",
    "        one_betasqr=one_beta*one_beta\n",
    "        if F_0!=y[j]: \n",
    "            fK=F_0*y\n",
    "            fK_beta=math.pow(fK,one_beta/2.0) \n",
    "            log_fK=math.log(F_0/y)\n",
    "            z=nu/alpha_0*fK_beta*log_fK\n",
    "            x=math.log((math.sqrt(1.0-2.0*rho*z+z*z)+z-rho)/(1-rho))\n",
    "            sigma1=(alpha_0/fK_beta/(1.0+one_betasqr/24.0*log_fK*log_fK+math.pow(one_beta*log_fK,4)/1920.0)*(z/x))\n",
    "            sigma_exp=(one_betasqr/24.0*alpha_0*alpha_0/fK_beta/fK_beta+0.25*rho*beta*nu*alpha_0/fK_beta+(2.0-3.0*rho*rho)/24.0*nu*nu)\n",
    "            sigma=sigma_l*(1.0+sigma_exp*expiry)\n",
    "            diff=sigma-MKT[j]\n",
    "        elif F==y[j]: \n",
    "            f_beta=math.pow(F_0,one_beta)\n",
    "            f_two_beta=math.pow(F_0,(2.0-2.0*beta)) \n",
    "            sigma =((alpha_0/f_beta)*(1.0+((one_betasqr/24.0)*(alpha_0*alpha_0/f_two_beta)+\n",
    "                    (0.25*rho*beta*nu*alpha_0/f_beta)+(2.0-3.0*rho*rho)/24.0*nu*nu)*expiry))    \n",
    "            diff=sigma-MKT[j]  \n",
    "        sum_sq_diff=sum_sq_diff+diff**2 \n",
    "        obj=math.sqrt(sum_sq_diff)\n",
    "    return obj"
   ]
  },
  {
   "cell_type": "code",
   "execution_count": 39,
   "metadata": {
    "collapsed": true
   },
   "outputs": [],
   "source": [
    "def calibration(starting_guess,y,expiry,F_0,MKT):\n",
    "    for i in range(len(F_0)):\n",
    "        x0=starting_guess\n",
    "        bnds=((0.001,None),(0,1),(-0.999,0.999),(0.001,None))\n",
    "        res = minimize(objfunc,x0,(y[i],expiry[i],F[i],MKT[i]),bounds=bnds,method='SLSQP') # for a constrained minimization of multivariate scalar functions\n",
    "        alpha[i]=res.x[0]\n",
    "        beta[i]=res.x[1]\n",
    "        rho[i]=res.x[2]\n",
    "        nu[i]=res.x[3]\n",
    "        jacmat[i]=res.jac"
   ]
  },
  {
   "cell_type": "code",
   "execution_count": 33,
   "metadata": {
    "collapsed": true
   },
   "outputs": [],
   "source": [
    "import pandas as pd\n",
    "import numpy as np\n",
    "from scipy.optimize import minimize"
   ]
  },
  {
   "cell_type": "code",
   "execution_count": 40,
   "metadata": {
    "collapsed": true
   },
   "outputs": [],
   "source": [
    "df=pd.read_excel('market_data.xlsx',sheetname='Swaptions data')\n",
    "df.reset_index(inplace=True)\n",
    "strike=df.iloc[0,3:].tolist()\n",
    "expiry=df.iloc[1:,1].tolist()\n",
    "tenor=df.iloc[1:,0].tolist()\n",
    "F=df.iloc[1:,2].tolist()\n",
    "MKT=df.iloc[1:,3:]\n",
    "MKT=MKT.values.tolist()\n",
    "\n",
    "#set starting guess\n",
    "starting_guess=np.array([0.001,0.5,0,0.001])\n",
    "alpha=len(F)*[starting_guess[0]]\n",
    "beta=len(F)*[starting_guess[1]]\n",
    "rho=len(F)*[starting_guess[2]]\n",
    "nu=len(F)*[starting_guess[3]]\n",
    "jacmat=len(F)*[starting_guess[3]]"
   ]
  },
  {
   "cell_type": "code",
   "execution_count": 41,
   "metadata": {
    "collapsed": false
   },
   "outputs": [
    {
     "ename": "IndexError",
     "evalue": "invalid index to scalar variable.",
     "output_type": "error",
     "traceback": [
      "\u001b[0;31m---------------------------------------------------------------------------\u001b[0m",
      "\u001b[0;31mIndexError\u001b[0m                                Traceback (most recent call last)",
      "\u001b[0;32m<ipython-input-41-dbb7bf0cadec>\u001b[0m in \u001b[0;36m<module>\u001b[0;34m()\u001b[0m\n\u001b[0;32m----> 1\u001b[0;31m \u001b[0mcalibration\u001b[0m\u001b[0;34m(\u001b[0m\u001b[0mstarting_guess\u001b[0m\u001b[0;34m,\u001b[0m\u001b[0mstrike\u001b[0m\u001b[0;34m,\u001b[0m\u001b[0mexpiry\u001b[0m\u001b[0;34m,\u001b[0m\u001b[0mF\u001b[0m\u001b[0;34m,\u001b[0m\u001b[0mMKT\u001b[0m\u001b[0;34m)\u001b[0m\u001b[0;34m\u001b[0m\u001b[0m\n\u001b[0m",
      "\u001b[0;32m<ipython-input-39-e9156d09d354>\u001b[0m in \u001b[0;36mcalibration\u001b[0;34m(starting_guess, y, expiry, F_0, MKT)\u001b[0m\n\u001b[1;32m      3\u001b[0m         \u001b[0mx0\u001b[0m\u001b[0;34m=\u001b[0m\u001b[0mstarting_guess\u001b[0m\u001b[0;34m\u001b[0m\u001b[0m\n\u001b[1;32m      4\u001b[0m         \u001b[0mbnds\u001b[0m\u001b[0;34m=\u001b[0m\u001b[0;34m(\u001b[0m\u001b[0;34m(\u001b[0m\u001b[0;36m0.001\u001b[0m\u001b[0;34m,\u001b[0m\u001b[0mNone\u001b[0m\u001b[0;34m)\u001b[0m\u001b[0;34m,\u001b[0m\u001b[0;34m(\u001b[0m\u001b[0;36m0\u001b[0m\u001b[0;34m,\u001b[0m\u001b[0;36m1\u001b[0m\u001b[0;34m)\u001b[0m\u001b[0;34m,\u001b[0m\u001b[0;34m(\u001b[0m\u001b[0;34m-\u001b[0m\u001b[0;36m0.999\u001b[0m\u001b[0;34m,\u001b[0m\u001b[0;36m0.999\u001b[0m\u001b[0;34m)\u001b[0m\u001b[0;34m,\u001b[0m\u001b[0;34m(\u001b[0m\u001b[0;36m0.001\u001b[0m\u001b[0;34m,\u001b[0m\u001b[0mNone\u001b[0m\u001b[0;34m)\u001b[0m\u001b[0;34m)\u001b[0m\u001b[0;34m\u001b[0m\u001b[0m\n\u001b[0;32m----> 5\u001b[0;31m         \u001b[0mres\u001b[0m \u001b[0;34m=\u001b[0m \u001b[0mminimize\u001b[0m\u001b[0;34m(\u001b[0m\u001b[0mobjfunc\u001b[0m\u001b[0;34m,\u001b[0m\u001b[0mx0\u001b[0m\u001b[0;34m,\u001b[0m\u001b[0;34m(\u001b[0m\u001b[0my\u001b[0m\u001b[0;34m[\u001b[0m\u001b[0mi\u001b[0m\u001b[0;34m]\u001b[0m\u001b[0;34m,\u001b[0m\u001b[0mexpiry\u001b[0m\u001b[0;34m[\u001b[0m\u001b[0mi\u001b[0m\u001b[0;34m]\u001b[0m\u001b[0;34m,\u001b[0m\u001b[0mF\u001b[0m\u001b[0;34m[\u001b[0m\u001b[0mi\u001b[0m\u001b[0;34m]\u001b[0m\u001b[0;34m,\u001b[0m\u001b[0mMKT\u001b[0m\u001b[0;34m[\u001b[0m\u001b[0mi\u001b[0m\u001b[0;34m]\u001b[0m\u001b[0;34m)\u001b[0m\u001b[0;34m,\u001b[0m\u001b[0mbounds\u001b[0m\u001b[0;34m=\u001b[0m\u001b[0mbnds\u001b[0m\u001b[0;34m,\u001b[0m\u001b[0mmethod\u001b[0m\u001b[0;34m=\u001b[0m\u001b[0;34m'SLSQP'\u001b[0m\u001b[0;34m)\u001b[0m \u001b[0;31m# for a constrained minimization of multivariate scalar functions\u001b[0m\u001b[0;34m\u001b[0m\u001b[0m\n\u001b[0m\u001b[1;32m      6\u001b[0m         \u001b[0malpha\u001b[0m\u001b[0;34m[\u001b[0m\u001b[0mi\u001b[0m\u001b[0;34m]\u001b[0m\u001b[0;34m=\u001b[0m\u001b[0mres\u001b[0m\u001b[0;34m.\u001b[0m\u001b[0mx\u001b[0m\u001b[0;34m[\u001b[0m\u001b[0;36m0\u001b[0m\u001b[0;34m]\u001b[0m\u001b[0;34m\u001b[0m\u001b[0m\n\u001b[1;32m      7\u001b[0m         \u001b[0mbeta\u001b[0m\u001b[0;34m[\u001b[0m\u001b[0mi\u001b[0m\u001b[0;34m]\u001b[0m\u001b[0;34m=\u001b[0m\u001b[0mres\u001b[0m\u001b[0;34m.\u001b[0m\u001b[0mx\u001b[0m\u001b[0;34m[\u001b[0m\u001b[0;36m1\u001b[0m\u001b[0;34m]\u001b[0m\u001b[0;34m\u001b[0m\u001b[0m\n",
      "\u001b[0;32m/Users/huangxingyue/anaconda/lib/python2.7/site-packages/scipy/optimize/_minimize.pyc\u001b[0m in \u001b[0;36mminimize\u001b[0;34m(fun, x0, args, method, jac, hess, hessp, bounds, constraints, tol, callback, options)\u001b[0m\n\u001b[1;32m    456\u001b[0m     \u001b[0;32melif\u001b[0m \u001b[0mmeth\u001b[0m \u001b[0;34m==\u001b[0m \u001b[0;34m'slsqp'\u001b[0m\u001b[0;34m:\u001b[0m\u001b[0;34m\u001b[0m\u001b[0m\n\u001b[1;32m    457\u001b[0m         return _minimize_slsqp(fun, x0, args, jac, bounds,\n\u001b[0;32m--> 458\u001b[0;31m                                constraints, callback=callback, **options)\n\u001b[0m\u001b[1;32m    459\u001b[0m     \u001b[0;32melif\u001b[0m \u001b[0mmeth\u001b[0m \u001b[0;34m==\u001b[0m \u001b[0;34m'dogleg'\u001b[0m\u001b[0;34m:\u001b[0m\u001b[0;34m\u001b[0m\u001b[0m\n\u001b[1;32m    460\u001b[0m         return _minimize_dogleg(fun, x0, args, jac, hess,\n",
      "\u001b[0;32m/Users/huangxingyue/anaconda/lib/python2.7/site-packages/scipy/optimize/slsqp.pyc\u001b[0m in \u001b[0;36m_minimize_slsqp\u001b[0;34m(func, x0, args, jac, bounds, constraints, maxiter, ftol, iprint, disp, eps, callback, **unknown_options)\u001b[0m\n\u001b[1;32m    365\u001b[0m \u001b[0;34m\u001b[0m\u001b[0m\n\u001b[1;32m    366\u001b[0m             \u001b[0;31m# Compute objective function\u001b[0m\u001b[0;34m\u001b[0m\u001b[0;34m\u001b[0m\u001b[0m\n\u001b[0;32m--> 367\u001b[0;31m             \u001b[0mfx\u001b[0m \u001b[0;34m=\u001b[0m \u001b[0mfunc\u001b[0m\u001b[0;34m(\u001b[0m\u001b[0mx\u001b[0m\u001b[0;34m)\u001b[0m\u001b[0;34m\u001b[0m\u001b[0m\n\u001b[0m\u001b[1;32m    368\u001b[0m             \u001b[0;31m# Compute the constraints\u001b[0m\u001b[0;34m\u001b[0m\u001b[0;34m\u001b[0m\u001b[0m\n\u001b[1;32m    369\u001b[0m             \u001b[0;32mif\u001b[0m \u001b[0mcons\u001b[0m\u001b[0;34m[\u001b[0m\u001b[0;34m'eq'\u001b[0m\u001b[0;34m]\u001b[0m\u001b[0;34m:\u001b[0m\u001b[0;34m\u001b[0m\u001b[0m\n",
      "\u001b[0;32m/Users/huangxingyue/anaconda/lib/python2.7/site-packages/scipy/optimize/optimize.pyc\u001b[0m in \u001b[0;36mfunction_wrapper\u001b[0;34m(*wrapper_args)\u001b[0m\n\u001b[1;32m    290\u001b[0m     \u001b[0;32mdef\u001b[0m \u001b[0mfunction_wrapper\u001b[0m\u001b[0;34m(\u001b[0m\u001b[0;34m*\u001b[0m\u001b[0mwrapper_args\u001b[0m\u001b[0;34m)\u001b[0m\u001b[0;34m:\u001b[0m\u001b[0;34m\u001b[0m\u001b[0m\n\u001b[1;32m    291\u001b[0m         \u001b[0mncalls\u001b[0m\u001b[0;34m[\u001b[0m\u001b[0;36m0\u001b[0m\u001b[0;34m]\u001b[0m \u001b[0;34m+=\u001b[0m \u001b[0;36m1\u001b[0m\u001b[0;34m\u001b[0m\u001b[0m\n\u001b[0;32m--> 292\u001b[0;31m         \u001b[0;32mreturn\u001b[0m \u001b[0mfunction\u001b[0m\u001b[0;34m(\u001b[0m\u001b[0;34m*\u001b[0m\u001b[0;34m(\u001b[0m\u001b[0mwrapper_args\u001b[0m \u001b[0;34m+\u001b[0m \u001b[0margs\u001b[0m\u001b[0;34m)\u001b[0m\u001b[0;34m)\u001b[0m\u001b[0;34m\u001b[0m\u001b[0m\n\u001b[0m\u001b[1;32m    293\u001b[0m \u001b[0;34m\u001b[0m\u001b[0m\n\u001b[1;32m    294\u001b[0m     \u001b[0;32mreturn\u001b[0m \u001b[0mncalls\u001b[0m\u001b[0;34m,\u001b[0m \u001b[0mfunction_wrapper\u001b[0m\u001b[0;34m\u001b[0m\u001b[0m\n",
      "\u001b[0;32m<ipython-input-38-bd089d982461>\u001b[0m in \u001b[0;36mobjfunc\u001b[0;34m(params, y, expiry, F_0, MKT)\u001b[0m\n\u001b[1;32m     15\u001b[0m         \u001b[0mone_beta\u001b[0m\u001b[0;34m=\u001b[0m\u001b[0;36m1\u001b[0m\u001b[0;34m-\u001b[0m\u001b[0mbeta\u001b[0m\u001b[0;34m\u001b[0m\u001b[0m\n\u001b[1;32m     16\u001b[0m         \u001b[0mone_betasqr\u001b[0m\u001b[0;34m=\u001b[0m\u001b[0mone_beta\u001b[0m\u001b[0;34m*\u001b[0m\u001b[0mone_beta\u001b[0m\u001b[0;34m\u001b[0m\u001b[0m\n\u001b[0;32m---> 17\u001b[0;31m         \u001b[0;32mif\u001b[0m \u001b[0mF_0\u001b[0m\u001b[0;34m!=\u001b[0m\u001b[0my\u001b[0m\u001b[0;34m[\u001b[0m\u001b[0mj\u001b[0m\u001b[0;34m]\u001b[0m\u001b[0;34m:\u001b[0m\u001b[0;34m\u001b[0m\u001b[0m\n\u001b[0m\u001b[1;32m     18\u001b[0m             \u001b[0mfK\u001b[0m\u001b[0;34m=\u001b[0m\u001b[0mF_0\u001b[0m\u001b[0;34m*\u001b[0m\u001b[0my\u001b[0m\u001b[0;34m\u001b[0m\u001b[0m\n\u001b[1;32m     19\u001b[0m             \u001b[0mfK_beta\u001b[0m\u001b[0;34m=\u001b[0m\u001b[0mmath\u001b[0m\u001b[0;34m.\u001b[0m\u001b[0mpow\u001b[0m\u001b[0;34m(\u001b[0m\u001b[0mfK\u001b[0m\u001b[0;34m,\u001b[0m\u001b[0mone_beta\u001b[0m\u001b[0;34m/\u001b[0m\u001b[0;36m2.0\u001b[0m\u001b[0;34m)\u001b[0m\u001b[0;34m\u001b[0m\u001b[0m\n",
      "\u001b[0;31mIndexError\u001b[0m: invalid index to scalar variable."
     ]
    }
   ],
   "source": [
    "calibration(starting_guess,strike,expiry,F,MKT)"
   ]
  },
  {
   "cell_type": "code",
   "execution_count": null,
   "metadata": {
    "collapsed": true
   },
   "outputs": [],
   "source": []
  }
 ],
 "metadata": {
  "kernelspec": {
   "display_name": "Python 2",
   "language": "python",
   "name": "python2"
  },
  "language_info": {
   "codemirror_mode": {
    "name": "ipython",
    "version": 2
   },
   "file_extension": ".py",
   "mimetype": "text/x-python",
   "name": "python",
   "nbconvert_exporter": "python",
   "pygments_lexer": "ipython2",
   "version": "2.7.13"
  }
 },
 "nbformat": 4,
 "nbformat_minor": 2
}
