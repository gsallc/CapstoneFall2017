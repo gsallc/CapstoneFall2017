{
 "cells": [
  {
   "cell_type": "code",
   "execution_count": 1,
   "metadata": {
    "collapsed": true
   },
   "outputs": [],
   "source": [
    "import xlrd"
   ]
  },
  {
   "cell_type": "code",
   "execution_count": 2,
   "metadata": {
    "collapsed": true
   },
   "outputs": [],
   "source": [
    "def data_reader(file_name,sheet_name):\n",
    "    file_input=xlrd.open_workbook('../Inputs/'+file_name)  # import market data\n",
    "    Market_data=file_input.sheet_by_name(sheet_name)  # file input forward rates\n",
    "    \n",
    "     ######## set characteristics ###############################\n",
    "    strike_spreads=[]\n",
    "    j = 0\n",
    "    while True:\n",
    "        try:\n",
    "            strike_spreads.append(int(Market_data.cell(1, 3 + j).value))\n",
    "            j = j + 1\n",
    "        except:\n",
    "            break\n",
    "    num_strikes = len(strike_spreads)\n",
    "\n",
    "    expiries = []\n",
    "    i = 0\n",
    "    while True:\n",
    "        try:\n",
    "            expiries.append(Market_data.cell(2 + i, 1).value)\n",
    "            i = i + 1\n",
    "        except:\n",
    "            break\n",
    "\n",
    "    tenors = []\n",
    "    i = 0\n",
    "    while True:\n",
    "        try:\n",
    "            tenors.append(Market_data.cell(2 + i, 0).value)\n",
    "            i = i + 1\n",
    "        except:\n",
    "            break\n",
    "\n",
    "    # to create the ATM forward rates\n",
    "    F = []\n",
    "    i = 0\n",
    "    while True:\n",
    "        try:\n",
    "            F.append(Market_data.cell(2 + i, 2).value)\n",
    "            i = i + 1\n",
    "        except:\n",
    "            break\n",
    "\n",
    "    # to create the strike grid\n",
    "    K = np.zeros((len(F), num_strikes))\n",
    "    for i in range(len(F)):\n",
    "        for j in range(num_strikes):\n",
    "            K[i][j] = F[i] + 0.0001 * (strike_spreads[j])\n",
    "\n",
    "    # to create market volatilities\n",
    "    MKT = np.zeros((len(F), num_strikes))\n",
    "    for i in range(len(F)):\n",
    "        for j in range(num_strikes):\n",
    "            MKT[i][j] = Market_data.cell(2 + i, 3 + j).value"
   ]
  },
  {
   "cell_type": "code",
   "execution_count": 3,
   "metadata": {
    "collapsed": true
   },
   "outputs": [],
   "source": [
    "def set_label():\n",
    "    exp_dates = len(expiries) * [0]\n",
    "    for i in range(len(expiries)):\n",
    "        if expiries[i] < 1:\n",
    "            exp_dates[i] = str(int(round(12 * expiries[i]))) + 'm'\n",
    "        else:\n",
    "            exp_dates[i] = str(int(round(expiries[i]))) + 'y'\n",
    "            if expiries[i] - round(expiries[i]) > 0:\n",
    "                exp_dates[i] = exp_dates[i] + str(int(round((12 * (round(expiries[i], 2) - int(expiries[i])))))) + 'm'\n",
    "            elif expiries[i] - round(expiries[i]) < 0:\n",
    "                exp_dates[i] = str(int(round(tenors[i])) - 1) + 'y'\n",
    "                exp_dates[i] = exp_dates[i] + str(int(round((12 * (round(expiries[i], 2) - int(expiries[i])))))) + 'm'\n",
    "\n",
    "    ten_dates = len(tenors) * [0]\n",
    "    for i in range(len(tenors)):\n",
    "        if tenors[i] < 1:\n",
    "            ten_dates[i] = str(int(round(12 * tenors[i]))) + 'm'\n",
    "        else:\n",
    "            ten_dates[i] = str(int(round(tenors[i]))) + 'y'\n",
    "            if tenors[i] - round(tenors[i]) > 0:\n",
    "                ten_dates[i] = ten_dates[i] + str(int(round((12 * (round(tenors[i], 2) - int(tenors[i])))))) + 'm'\n",
    "            elif tenors[i] - round(tenors[i]) < 0:\n",
    "                ten_dates[i] = str(int(round(tenors[i])) - 1) + 'y'\n",
    "                ten_dates[i] = ten_dates[i] + str(int(round((12 * (round(tenors[i], 2) - int(tenors[i])))))) + 'm'\n",
    "\n",
    "    label_exp = exp_dates\n",
    "    label_ten = ten_dates\n",
    "    label_strikes = num_strikes * [0]\n",
    "    for i in range(num_strikes):\n",
    "        if strike_spreads[i] == 0:\n",
    "            label_strikes[i] = 'ATM'\n",
    "        else:\n",
    "            label_strikes[i] = str(strike_spreads[i])"
   ]
  },
  {
   "cell_type": "code",
   "execution_count": null,
   "metadata": {
    "collapsed": true
   },
   "outputs": [],
   "source": []
  }
 ],
 "metadata": {
  "kernelspec": {
   "display_name": "Python 2",
   "language": "python",
   "name": "python2"
  },
  "language_info": {
   "codemirror_mode": {
    "name": "ipython",
    "version": 2
   },
   "file_extension": ".py",
   "mimetype": "text/x-python",
   "name": "python",
   "nbconvert_exporter": "python",
   "pygments_lexer": "ipython2",
   "version": "2.7.13"
  }
 },
 "nbformat": 4,
 "nbformat_minor": 2
}
