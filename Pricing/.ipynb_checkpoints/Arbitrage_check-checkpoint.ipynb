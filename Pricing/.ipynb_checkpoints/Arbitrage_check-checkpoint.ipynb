{
 "cells": [
  {
   "cell_type": "code",
   "execution_count": 6,
   "metadata": {},
   "outputs": [],
   "source": [
    "import numpy as np\n",
    "import pandas as pd\n",
    "import xlrd\n",
    "from matplotlib import pyplot as plt\n",
    "from Pricing.black_pricing import black, dPlusBlack, dMinusBlack\n",
    "from Pricing.pdf_calculation import numerical_pdf"
   ]
  },
  {
   "cell_type": "code",
   "execution_count": 17,
   "metadata": {},
   "outputs": [],
   "source": [
    "def arbitrage_check(m,expiry,pdf):\n",
    "    # K, expiry are list; pdf is matrix \n",
    "    for i in range(len(expiry)):\n",
    "        for j in range(len(K)):\n",
    "            if pdf[i][j] == 'No data':\n",
    "                print(\"expiry = %s,K = %s: No data\",expiry[i],K[j])\n",
    "            elif pdf[i][j]<=0:\n",
    "                print(\"expiry = %s,K = %s: Arbitrage Opportunity\",expiry[i],K[j])"
   ]
  },
  {
   "cell_type": "code",
   "execution_count": 7,
   "metadata": {},
   "outputs": [],
   "source": [
    "file_input = xlrd.open_workbook('../Inputs/'+'market_data.xlsx')     # load market data\n",
    "Market_data = file_input.sheet_by_name('Swaptions data')        # file input forward rates\n",
    "\n",
    "strike_spreads=[]\n",
    "j=0\n",
    "while True:\n",
    "    try:\n",
    "        strike_spreads.append(int(Market_data.cell(1,3+j).value))\n",
    "        j = j+1\n",
    "    except:\n",
    "        break\n",
    "num_strikes = len(strike_spreads)\n",
    "\n",
    "F = []\n",
    "i=0\n",
    "while True:\n",
    "    try:\n",
    "        F.append(Market_data.cell(2+i,2).value)\n",
    "        i = i+1\n",
    "    except:\n",
    "        break\n",
    "        \n",
    "K = np.zeros((len(F),num_strikes))\n",
    "for i in range(len(F)):\n",
    "    for j in range(num_strikes):\n",
    "        K[i][j] = F[i] + 0.0001*(strike_spreads[j]) "
   ]
  },
  {
   "cell_type": "code",
   "execution_count": null,
   "metadata": {},
   "outputs": [],
   "source": []
  },
  {
   "cell_type": "code",
   "execution_count": null,
   "metadata": {},
   "outputs": [],
   "source": []
  }
 ],
 "metadata": {
  "kernelspec": {
   "display_name": "Python 2",
   "language": "python",
   "name": "python2"
  },
  "language_info": {
   "codemirror_mode": {
    "name": "ipython",
    "version": 2
   },
   "file_extension": ".py",
   "mimetype": "text/x-python",
   "name": "python",
   "nbconvert_exporter": "python",
   "pygments_lexer": "ipython2",
   "version": "2.7.13"
  }
 },
 "nbformat": 4,
 "nbformat_minor": 2
}
