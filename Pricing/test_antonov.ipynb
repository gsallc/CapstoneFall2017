{
 "cells": [
  {
   "cell_type": "code",
   "execution_count": null,
   "metadata": {
    "collapsed": true
   },
   "outputs": [],
   "source": [
    "from Antonov_correction import *\n",
    "import math\n",
    "import cmath\n",
    "from sympy import integrate,cosh,exp,sqrt\n",
    "from sympy.abc import s"
   ]
  },
  {
   "cell_type": "code",
   "execution_count": 2,
   "metadata": {
    "collapsed": false
   },
   "outputs": [],
   "source": [
    "y=0.018623-25.0/10000\n",
    "expiry=1\n",
    "F_0=0.018623\n",
    "alpha_0=0.017172\n",
    "beta=0.211957\n",
    "rho=-0.3\n",
    "nu=0.279610"
   ]
  },
  {
   "cell_type": "code",
   "execution_count": 3,
   "metadata": {
    "collapsed": false
   },
   "outputs": [],
   "source": [
    "one_beta=1-beta\n",
    "q=math.pow(y,one_beta)/one_beta\n",
    "q0=math.pow(F_0,one_beta)/one_beta\n",
    "q_=(math.pow(y, one_beta)-math.pow(F_0,one_beta))/one_beta\n",
    "eta=1/abs(2.0*one_beta)\n",
    "\n",
    "nu_=math.sqrt(nu*nu-1.5*(nu*nu*rho*rho+alpha_0*nu*rho*one_beta/ math.pow(F_0,one_beta)))\n",
    "p=phi(y,F_0,alpha_0,beta,nu,rho,nu_)\n",
    "alpha_0_=2*p*q_*nu_/(p*p-1)"
   ]
  },
  {
   "cell_type": "code",
   "execution_count": 4,
   "metadata": {
    "collapsed": false
   },
   "outputs": [],
   "source": [
    "B_=B_min(y,F_0,alpha_0,beta,nu,rho,nu_)"
   ]
  },
  {
   "cell_type": "code",
   "execution_count": 5,
   "metadata": {
    "collapsed": false
   },
   "outputs": [],
   "source": [
    "alpha_1_=alpha_0_*nu_*nu_*(\n",
    "        (0.5*cmath.log(alpha_0_*cmath.sqrt(q_*nu_*nu_+alpha_0_*alpha_0_))-B_)/cmath.log(p)/(p*p-1)*(\n",
    "               p*p+1))\n",
    "alpha_=alpha_0_+expiry*alpha_1_\n",
    "\n",
    "s_minus=cmath.asinh(nu_*abs(q-q0)/alpha_)\n",
    "s_plus=cmath.asinh(nu_*abs(q+q0)/alpha_)"
   ]
  },
  {
   "cell_type": "code",
   "execution_count": null,
   "metadata": {
    "collapsed": false
   },
   "outputs": [],
   "source": [
    "term1=integrate(sympy.sin(eta*kappa(s,s_minus,s_plus))/sympy.sinh(s)*kernalG(expiry*nu_*nu_,s),\n",
    "                      (s,s_minus,s_plus))"
   ]
  },
  {
   "cell_type": "code",
   "execution_count": 50,
   "metadata": {
    "collapsed": true
   },
   "outputs": [],
   "source": [
    "from scipy.integrate import quad\n",
    "import scipy\n",
    "def complex_quadrature(func, a, b, **kwargs):\n",
    "    def real_func(x):\n",
    "        return scipy.real(func(x))\n",
    "    def imag_func(x):\n",
    "        return scipy.imag(func(x))\n",
    "    real_integral = quad(real_func, a, b, **kwargs)\n",
    "    imag_integral = quad(imag_func, a, b, **kwargs)\n",
    "    return (real_integral[0] + 1j*imag_integral[0], real_integral[1:], imag_integral[1:])"
   ]
  },
  {
   "cell_type": "code",
   "execution_count": null,
   "metadata": {
    "collapsed": true
   },
   "outputs": [],
   "source": []
  }
 ],
 "metadata": {
  "kernelspec": {
   "display_name": "Python 2",
   "language": "python",
   "name": "python2"
  },
  "language_info": {
   "codemirror_mode": {
    "name": "ipython",
    "version": 2
   },
   "file_extension": ".py",
   "mimetype": "text/x-python",
   "name": "python",
   "nbconvert_exporter": "python",
   "pygments_lexer": "ipython2",
   "version": "2.7.13"
  }
 },
 "nbformat": 4,
 "nbformat_minor": 2
}
