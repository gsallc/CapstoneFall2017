{
 "cells": [
  {
   "cell_type": "code",
   "execution_count": 2,
   "metadata": {},
   "outputs": [],
   "source": [
    "from scipy.stats import norm\n",
    "import math\n",
    "\n",
    "def black(F_T,K,expiry,vol,isCall,r=0):\n",
    "    #option_value=0\n",
    "    D=math.exp(-r*expiry)\n",
    "    if expiry*vol==0.0:\n",
    "        if isCall:\n",
    "            option_value=max(F_T-K,0.0)\n",
    "        else:\n",
    "            option_value=max(K-F_T,0.0)\n",
    "    else:\n",
    "        d1=dPlusBlack(F_T,K,expiry,vol,r)\n",
    "        d2=dPlusBlack(F_T,K,expiry,vol,r)\n",
    "        if isCall:\n",
    "            option_value=F_T*D*norm.cdf(d1)-K*D*norm.cdf(d2)\n",
    "        else:\n",
    "            option_value=K*D*norm.cdf(-d2)-F_T*D*norm.cdf(-d1)\n",
    "    return option_value\n",
    "\n",
    "def dPlusBlack(F_T,K,expiry,vol,r):\n",
    "    D=math.exp(-r*expiry)\n",
    "    d_Plus=(math.log(F_T*D/K)+(r+0.5*vol*vol)*expiry)/vol/math.sqrt(expiry)\n",
    "    return d_Plus\n",
    "\n",
    "def dMinusBlack(F_T,K,expiry,vol,r):\n",
    "    d_Minus=dPlusBlack(F_T,K,expiry,vol,r)-vol*math.sqrt(expiry)\n",
    "    return d_Minus\n",
    "\n",
    "def find_ivol(option_price,F_T,K,expiry,r=0):\n",
    "    sigma=0.20 #initial guess of sigma\n",
    "    while sigma<1:\n",
    "        black_implied=black(F_T,K,expiry,sigma,1,r)\n",
    "        if option_price-black_implied<0.0001: #set precision of 0.0001\n",
    "            return sigma\n",
    "        print sigma,option_price,black_implied\n",
    "        sigma+=0.01\n",
    "    return \"failture to find the right ivol!\"\n",
    "\n",
    "\n",
    "def bs_matrix(F_T,K,expiry,vol,isCall,r=0): #F_T,K,expiry are vector, \n",
    "    for i in len(F_T):\n",
    "        for j in len(K):\n",
    "            option_price[i][j] = black(F_T,K,expiry,vol,isCall,r=0)"
   ]
  },
  {
   "cell_type": "code",
   "execution_count": null,
   "metadata": {},
   "outputs": [],
   "source": []
  }
 ],
 "metadata": {
  "kernelspec": {
   "display_name": "Python 2",
   "language": "python",
   "name": "python2"
  },
  "language_info": {
   "codemirror_mode": {
    "name": "ipython",
    "version": 2
   },
   "file_extension": ".py",
   "mimetype": "text/x-python",
   "name": "python",
   "nbconvert_exporter": "python",
   "pygments_lexer": "ipython2",
   "version": "2.7.13"
  }
 },
 "nbformat": 4,
 "nbformat_minor": 2
}
