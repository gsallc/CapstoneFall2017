{
 "cells": [
  {
   "cell_type": "code",
   "execution_count": 6,
   "metadata": {},
   "outputs": [],
   "source": [
    "import numpy as np\n",
    "import pandas as pd\n",
    "import xlrd\n",
    "from matplotlib import pyplot as plt\n",
    "from Pricing.black_pricing import black, dPlusBlack, dMinusBlack\n",
    "from Pricing.pdf_calculation import numerical_pdf"
   ]
  },
  {
   "cell_type": "code",
   "execution_count": 17,
   "metadata": {},
   "outputs": [],
   "source": [
    "def arbitrage_check(m,expiry,pdf):\n",
    "    # K, expiry are list; pdf is matrix \n",
    "    for i in range(len(expiry)):\n",
    "        for j in range(len(K)):\n",
    "            if pdf[i][j] == 'No data':\n",
    "                print(\"expiry = %s,K = %s: No data\",expiry[i],K[j])\n",
    "            elif pdf[i][j]<=0:\n",
    "                print(\"expiry = %s,K = %s: Arbitrage Opportunity\",expiry[i],K[j])"
   ]
  },
  {
   "cell_type": "code",
   "execution_count": null,
   "metadata": {},
   "outputs": [],
   "source": [
    "option = bs_matrix(F,K,expiries,)"
   ]
  },
  {
   "cell_type": "code",
   "execution_count": null,
   "metadata": {},
   "outputs": [],
   "source": []
  }
 ],
 "metadata": {
  "kernelspec": {
   "display_name": "Python 2",
   "language": "python",
   "name": "python2"
  },
  "language_info": {
   "codemirror_mode": {
    "name": "ipython",
    "version": 2
   },
   "file_extension": ".py",
   "mimetype": "text/x-python",
   "name": "python",
   "nbconvert_exporter": "python",
   "pygments_lexer": "ipython2",
   "version": "2.7.13"
  }
 },
 "nbformat": 4,
 "nbformat_minor": 2
}
