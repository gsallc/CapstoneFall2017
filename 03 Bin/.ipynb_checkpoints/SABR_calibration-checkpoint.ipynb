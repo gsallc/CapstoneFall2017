{
 "cells": [
  {
   "cell_type": "code",
   "execution_count": 8,
   "metadata": {
    "collapsed": true
   },
   "outputs": [],
   "source": [
    "import xlrd\n",
    "import math\n",
    "import numpy as np\n",
    "from scipy.optimize import minimize\n",
    "\n",
    "import sys\n",
    "sys.path.append('../01 Pricing')\n",
    "from SABR import SABR_model"
   ]
  },
  {
   "cell_type": "markdown",
   "metadata": {},
   "source": [
    "### Inputs Preparing"
   ]
  },
  {
   "cell_type": "code",
   "execution_count": 9,
   "metadata": {
    "collapsed": false
   },
   "outputs": [],
   "source": [
    "######## inputs and outputs #########################################\n",
    "\n",
    "outvol = open('../05 Outputs/outvol.csv', 'w')             # file output of volatilities\n",
    "vol_diff = open('../05 Outputs/vol differences.csv', 'w')  # file output differences between SABR and Market volatilities\n",
    "parameters = open('../05 Outputs/parameters.csv', 'w')     # file output parameters\n",
    "\n",
    "while True:\n",
    "    try:\n",
    "        file_input = xlrd.open_workbook('../04 Inputs/market_data.xlsx')     # load market data\n",
    "    except:\n",
    "        print 'Input file is not in the directory!'\n",
    "    break\n",
    "    \n",
    "Market_data = file_input.sheet_by_name('Swaptions data')        # file input forward rates"
   ]
  },
  {
   "cell_type": "code",
   "execution_count": 10,
   "metadata": {
    "collapsed": true
   },
   "outputs": [],
   "source": [
    "######## set swaptions characteristics ###############################\n",
    "\n",
    "strike_spreads=[]\n",
    "j=0\n",
    "while True:\n",
    "    try:\n",
    "        strike_spreads.append(int(Market_data.cell(1,3+j).value))\n",
    "        j = j+1\n",
    "    except:\n",
    "        break\n",
    "\n",
    "num_strikes = len(strike_spreads)\n",
    "\n",
    "expiries=[]\n",
    "i=0\n",
    "while True:\n",
    "        try:\n",
    "            expiries.append(Market_data.cell(2+i,1).value)\n",
    "            i = i + 1\n",
    "        except:\n",
    "            break\n",
    "\n",
    "tenors=[]\n",
    "i=0\n",
    "while True:\n",
    "    try:\n",
    "        tenors.append(Market_data.cell(2+i,0).value)\n",
    "        i = i + 1\n",
    "    except:\n",
    "        break\n",
    "        \n",
    "# to create the ATM forward rates\n",
    "F = []\n",
    "i=0\n",
    "while True:\n",
    "    try:\n",
    "        F.append(Market_data.cell(2+i,2).value)\n",
    "        i = i+1\n",
    "    except:\n",
    "        break\n",
    "\n",
    "# to create the strike grid\n",
    "K = np.zeros((len(F),num_strikes))\n",
    "for i in range(len(F)):\n",
    "    for j in range(num_strikes):\n",
    "        K[i][j] = F[i] + 0.0001*(strike_spreads[j])  \n",
    "\n",
    "# to create market volatilities            \n",
    "MKT = np.zeros((len(F),num_strikes))\n",
    "for i in range(len(F)):\n",
    "    for j in range(num_strikes):\n",
    "        MKT[i][j] = Market_data.cell(2+i,3+j).value\n",
    "\n",
    "\n",
    "# set starting parameters\n",
    "global alpha, beta, rho, nu, jacmat\n",
    "\n",
    "starting_guess = np.array([0.001,0.5,0,0.001])\n",
    "alpha = len(F)*[starting_guess[0]]\n",
    "beta = len(F)*[starting_guess[1]]\n",
    "rho = len(F)*[starting_guess[2]]\n",
    "nu = len(F)*[starting_guess[3]]\n",
    "jacmat = len(F)*[starting_guess[3]]"
   ]
  },
  {
   "cell_type": "code",
   "execution_count": 11,
   "metadata": {
    "collapsed": true
   },
   "outputs": [],
   "source": [
    "######## set labels ###################################################\n",
    "exp_dates = len(expiries)*[0]\n",
    "for i in range(len(expiries)):\n",
    "    if expiries[i] < 1:\n",
    "        exp_dates[i] = str(int(round(12*expiries[i])))+'m'\n",
    "    else:\n",
    "        exp_dates[i] = str(int(round(expiries[i])))+'y'\n",
    "        if expiries[i]-round(expiries[i]) > 0:\n",
    "            exp_dates[i] = exp_dates[i]+str(int(round((12*(round(expiries[i],2)-int(expiries[i]))))))+'m' \n",
    "        elif expiries[i]-round(expiries[i]) < 0:\n",
    "            exp_dates[i] = str(int(round(tenors[i]))-1)+'y'\n",
    "            exp_dates[i] = exp_dates[i]+str(int(round((12*(round(expiries[i],2)-int(expiries[i]))))))+'m'\n",
    "\n",
    "ten_dates = len(tenors)*[0]\n",
    "for i in range(len(tenors)):\n",
    "    if tenors[i] < 1:\n",
    "        ten_dates[i] = str(int(round(12*tenors[i])))+'m'\n",
    "    else:\n",
    "        ten_dates[i] = str(int(round(tenors[i])))+'y'\n",
    "        if tenors[i]-round(tenors[i]) > 0:\n",
    "            ten_dates[i] = ten_dates[i]+str(int(round((12*(round(tenors[i],2)-int(tenors[i]))))))+'m' \n",
    "        elif tenors[i]-round(tenors[i]) < 0:\n",
    "            ten_dates[i] = str(int(round(tenors[i]))-1)+'y'\n",
    "            ten_dates[i] = ten_dates[i]+str(int(round((12*(round(tenors[i],2)-int(tenors[i]))))))+'m'\n",
    "\n",
    "label_exp = exp_dates\n",
    "label_ten = ten_dates\n",
    "label_strikes = num_strikes*[0]\n",
    "for i in range(num_strikes):\n",
    "    if strike_spreads[i] == 0 :\n",
    "        label_strikes[i] = 'ATM'\n",
    "    else:\n",
    "        label_strikes[i] = str(strike_spreads[i])"
   ]
  },
  {
   "cell_type": "markdown",
   "metadata": {},
   "source": [
    "### Calibration"
   ]
  },
  {
   "cell_type": "code",
   "execution_count": 12,
   "metadata": {
    "collapsed": false
   },
   "outputs": [
    {
     "name": "stdout",
     "output_type": "stream",
     "text": [
      " \n",
      "                                          SABR VOLATILITIES\n",
      "   \tstrikes: -150 \t-100 \t-50 \t-25 \tATM \t25 \t50 \t100 \t150 \t \n",
      "tenor \texpiry\n",
      "2y \t3m \t0.0165 \t0.0111 \t0.0096 \t0.0091 \t0.0087 \t0.0084 \t0.0081 \t0.0077 \t0.0073 \t \n",
      "2y \t6m \t0.0164 \t0.011 \t0.0095 \t0.009 \t0.0087 \t0.0083 \t0.0081 \t0.0076 \t0.0073 \t \n",
      "2y \t9m \t0.0162 \t0.0109 \t0.0094 \t0.0089 \t0.0086 \t0.0082 \t0.008 \t0.0076 \t0.0072 \t \n",
      "2y \t1y \t0.0159 \t0.0108 \t0.0093 \t0.0088 \t0.0085 \t0.0081 \t0.0079 \t0.0075 \t0.0071 \t \n",
      "2y \t2y \t0.0141 \t0.0099 \t0.0086 \t0.0082 \t0.0079 \t0.0076 \t0.0073 \t0.007 \t0.0067 \t \n",
      "2y \t5y \t0.0071 \t0.0066 \t0.0062 \t0.0061 \t0.0059 \t0.0058 \t0.0057 \t0.0055 \t0.0053 \t \n",
      "2y \t10y \t0.0063 \t0.0059 \t0.0057 \t0.0055 \t0.0054 \t0.0053 \t0.0052 \t0.0051 \t0.005 \t \n",
      "5y \t3m \t0.0146 \t0.01 \t0.0087 \t0.0082 \t0.0079 \t0.0076 \t0.0074 \t0.007 \t0.0067 \t \n",
      "5y \t6m \t0.0129 \t0.0096 \t0.0084 \t0.008 \t0.0077 \t0.0075 \t0.0072 \t0.0069 \t0.0066 \t \n",
      "5y \t9m \t0.0117 \t0.0092 \t0.0082 \t0.0078 \t0.0075 \t0.0073 \t0.0071 \t0.0067 \t0.0064 \t \n",
      "5y \t1y \t0.0108 \t0.0088 \t0.0079 \t0.0076 \t0.0073 \t0.0071 \t0.0069 \t0.0066 \t0.0063 \t \n",
      "5y \t2y \t0.0087 \t0.0077 \t0.0071 \t0.0069 \t0.0067 \t0.0065 \t0.0064 \t0.0061 \t0.0059 \t \n",
      "5y \t5y \t0.0068 \t0.0063 \t0.006 \t0.0058 \t0.0057 \t0.0056 \t0.0055 \t0.0053 \t0.0052 \t \n",
      "5y \t10y \t0.0063 \t0.006 \t0.0057 \t0.0056 \t0.0055 \t0.0054 \t0.0053 \t0.0051 \t0.005 \t \n",
      "10y \t3m \t0.0085 \t0.0076 \t0.007 \t0.0068 \t0.0066 \t0.0064 \t0.0063 \t0.006 \t0.0058 \t \n",
      "10y \t6m \t0.0083 \t0.0075 \t0.0069 \t0.0067 \t0.0065 \t0.0064 \t0.0062 \t0.006 \t0.0058 \t \n",
      "10y \t9m \t0.0082 \t0.0073 \t0.0068 \t0.0066 \t0.0064 \t0.0063 \t0.0061 \t0.0059 \t0.0057 \t \n",
      "10y \t1y \t0.008 \t0.0072 \t0.0067 \t0.0065 \t0.0064 \t0.0062 \t0.0061 \t0.0058 \t0.0056 \t \n",
      "10y \t2y \t0.0074 \t0.0068 \t0.0064 \t0.0062 \t0.0061 \t0.0059 \t0.0058 \t0.0056 \t0.0054 \t \n",
      "10y \t5y \t0.0065 \t0.0061 \t0.0058 \t0.0057 \t0.0056 \t0.0055 \t0.0054 \t0.0052 \t0.0051 \t \n",
      "10y \t10y \t0.0067 \t0.0063 \t0.0059 \t0.0058 \t0.0057 \t0.0056 \t0.0055 \t0.0053 \t0.0051 \t \n",
      "15y \t3m \t0.0076 \t0.0069 \t0.0065 \t0.0063 \t0.0062 \t0.006 \t0.0059 \t0.0057 \t0.0055 \t \n",
      "15y \t6m \t0.0075 \t0.0069 \t0.0065 \t0.0063 \t0.0061 \t0.006 \t0.0059 \t0.0057 \t0.0055 \t \n",
      "15y \t9m \t0.0075 \t0.0069 \t0.0064 \t0.0063 \t0.0061 \t0.006 \t0.0059 \t0.0056 \t0.0055 \t \n",
      "15y \t1y \t0.0074 \t0.0068 \t0.0064 \t0.0062 \t0.0061 \t0.0059 \t0.0058 \t0.0056 \t0.0054 \t \n",
      "15y \t2y \t0.0072 \t0.0067 \t0.0063 \t0.0061 \t0.006 \t0.0059 \t0.0057 \t0.0055 \t0.0054 \t \n",
      "15y \t5y \t0.007 \t0.0065 \t0.0061 \t0.006 \t0.0058 \t0.0057 \t0.0056 \t0.0054 \t0.0053 \t \n",
      "15y \t10y \t0.0074 \t0.0068 \t0.0064 \t0.0062 \t0.0061 \t0.0059 \t0.0058 \t0.0056 \t0.0054 \t \n",
      "30y \t3m \t0.0078 \t0.0071 \t0.0066 \t0.0065 \t0.0063 \t0.0061 \t0.006 \t0.0058 \t0.0056 \t \n",
      "30y \t6m \t0.0078 \t0.0071 \t0.0066 \t0.0064 \t0.0063 \t0.0061 \t0.006 \t0.0058 \t0.0056 \t \n",
      "30y \t9m \t0.0078 \t0.0071 \t0.0066 \t0.0064 \t0.0063 \t0.0061 \t0.006 \t0.0058 \t0.0056 \t \n",
      "30y \t1y \t0.0077 \t0.007 \t0.0066 \t0.0064 \t0.0062 \t0.0061 \t0.006 \t0.0057 \t0.0056 \t \n",
      "30y \t2y \t0.0076 \t0.0069 \t0.0065 \t0.0063 \t0.0062 \t0.006 \t0.0059 \t0.0057 \t0.0055 \t \n",
      "30y \t5y \t0.0074 \t0.0068 \t0.0064 \t0.0062 \t0.0061 \t0.0059 \t0.0058 \t0.0056 \t0.0054 \t \n",
      "30y \t10y \t0.0077 \t0.007 \t0.0065 \t0.0064 \t0.0062 \t0.0061 \t0.0059 \t0.0057 \t0.0055 \t \n",
      "3y9m \t2y2m \t0.0068 \t0.0064 \t0.006 \t0.0059 \t0.0058 \t0.0057 \t0.0056 \t0.0054 \t0.0052 \t \n"
     ]
    }
   ],
   "source": [
    "outvol=open('../05 Outputs/outvol.csv', 'a')  # file output of volatilities\n",
    "vol_diff=open('../05 Outputs/vol differences.csv', 'a')  # file output differences between SABR and Market volatilities\n",
    "parameters=open('../05 Outputs/parameters.csv', 'a')    # file output parameters\n",
    "\n",
    "sabr=SABR_model(label_ten,label_exp,num_strikes,label_strikes,strike_spreads,outvol,vol_diff,parameters)\n",
    "sabr.calibration(starting_guess,F,K,expiries,MKT)\n",
    "sabr.SABR_vol_matrix(alpha,beta,rho,nu,F,K,expiries,MKT)"
   ]
  },
  {
   "cell_type": "code",
   "execution_count": 7,
   "metadata": {
    "collapsed": true
   },
   "outputs": [],
   "source": [
    "outvol.close()\n",
    "vol_diff.close()\n",
    "parameters.close()"
   ]
  },
  {
   "cell_type": "code",
   "execution_count": null,
   "metadata": {
    "collapsed": true
   },
   "outputs": [],
   "source": []
  }
 ],
 "metadata": {
  "kernelspec": {
   "display_name": "Python 2",
   "language": "python",
   "name": "python2"
  },
  "language_info": {
   "codemirror_mode": {
    "name": "ipython",
    "version": 2
   },
   "file_extension": ".py",
   "mimetype": "text/x-python",
   "name": "python",
   "nbconvert_exporter": "python",
   "pygments_lexer": "ipython2",
   "version": "2.7.13"
  }
 },
 "nbformat": 4,
 "nbformat_minor": 2
}
