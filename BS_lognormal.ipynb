{
 "cells": [
  {
   "cell_type": "code",
   "execution_count": 1,
   "metadata": {
    "collapsed": true
   },
   "outputs": [],
   "source": [
    "from scipy.stats import norm\n",
    "import math"
   ]
  },
  {
   "cell_type": "code",
   "execution_count": 2,
   "metadata": {
    "collapsed": true
   },
   "outputs": [],
   "source": [
    "def black(F_0,y,expiry,vol,isCall): \n",
    "    '''\n",
    "    Compute the Black formula.\n",
    "    @var F_0: forward rate at time 0\n",
    "    @var y: option strike\n",
    "    @var expiry: option expiry (in years) \n",
    "    @var vol: Black implied volatility \n",
    "    @var isCall: True or False\n",
    "    '''\n",
    "    option_value=0\n",
    "    if expiry*vol==0.0:\n",
    "        if isCall:\n",
    "            option_value=max(F_0-y,0.0)\n",
    "        else:\n",
    "            option_value=max(y-F_0,0.0) \n",
    "    else:\n",
    "        d1=dPlusBlack(F_0=F_0,y=y,expiry=expiry,vol=vol)\n",
    "        d2=dMinusBlack(F_0=F_0,y=y,expiry=expiry,vol=vol)\n",
    "        if iscall:\n",
    "            option_value=(F_0*norm.cdf(d1)-y*norm.cdf(d2))\n",
    "        else:\n",
    "            option_value=(y*norm.cdf(-d2)-F_0*norm.cdf(-d1))\n",
    "\n",
    "    return option_value"
   ]
  },
  {
   "cell_type": "code",
   "execution_count": 3,
   "metadata": {
    "collapsed": true
   },
   "outputs": [],
   "source": [
    "def dPlusBlack(F_0,y,expiry,vol):\n",
    "    '''\n",
    "    Compute the d+ term appearing in the Black formula.\n",
    "    @var F_0: forward rate at time 0\n",
    "    @var y: option strike\n",
    "    @var expiry: option expiry (in years)\n",
    "    @var vol: Black implied volatility\n",
    "    '''\n",
    "    d_plus=((math.log(F_0/y)+0.5*vol*vol*expiry)/vol/math.sqrt(expiry)) \n",
    "    return d_plus\n",
    "\n",
    "def dMinusBlack(F_0,y,expiry,vol): \n",
    "    '''\n",
    "    Compute the d- term appearing in the Black formula.\n",
    "    @var F_0: forward rate at time 0\n",
    "    @var y: option strike\n",
    "    @var expiry: option expiry (in years)\n",
    "    @var vol: Black implied volatility\n",
    "    '''\n",
    "    d_minus = (dPlusBlack(F_0=F_0,y=y,expiry=expiry,vol=vol)-vol*math.sqrt(expiry))\n",
    "    return d_minus"
   ]
  },
  {
   "cell_type": "code",
   "execution_count": null,
   "metadata": {
    "collapsed": true
   },
   "outputs": [],
   "source": []
  }
 ],
 "metadata": {
  "kernelspec": {
   "display_name": "Python 2",
   "language": "python",
   "name": "python2"
  },
  "language_info": {
   "codemirror_mode": {
    "name": "ipython",
    "version": 2
   },
   "file_extension": ".py",
   "mimetype": "text/x-python",
   "name": "python",
   "nbconvert_exporter": "python",
   "pygments_lexer": "ipython2",
   "version": "2.7.13"
  }
 },
 "nbformat": 4,
 "nbformat_minor": 2
}
