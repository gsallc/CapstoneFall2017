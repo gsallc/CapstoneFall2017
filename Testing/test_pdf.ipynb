{
 "cells": [
  {
   "cell_type": "code",
   "execution_count": 1,
   "metadata": {
    "collapsed": true
   },
   "outputs": [],
   "source": [
    "import numpy as np\n",
    "import pandas as pd\n",
    "import xlrd\n",
    "from matplotlib import pyplot as plt\n",
    "import Pricing.black_pricing as BS\n",
    "import Pricing.SABR as SABR\n",
    "from Pricing.Data_processor import data_reader,set_label,start_params\n",
    "from Pricing.pdf_calculation import numerical_pdf\n",
    "from Fitter.fitting import fitting,objfunc,calibration\n",
    "from scipy.stats import lognorm\n",
    "from Pricing.arbitrage_check import arbitrage_check"
   ]
  },
  {
   "cell_type": "code",
   "execution_count": null,
   "metadata": {
    "collapsed": true
   },
   "outputs": [],
   "source": [
    "def test_pdf(market_data,file_name):\n",
    "    pdf = numerical_pdf(market_data,file_name)\n",
    "    \n",
    "    j = pdf.columns.get_loc('ATM')\n",
    "    for i in range(pdf.shape[0]):\n",
    "        real = lognorm.pdf(F, s)"
   ]
  },
  {
   "cell_type": "code",
   "execution_count": null,
   "metadata": {
    "collapsed": true
   },
   "outputs": [],
   "source": []
  }
 ],
 "metadata": {
  "kernelspec": {
   "display_name": "Python 3",
   "language": "python",
   "name": "python3"
  },
  "language_info": {
   "codemirror_mode": {
    "name": "ipython",
    "version": 3
   },
   "file_extension": ".py",
   "mimetype": "text/x-python",
   "name": "python",
   "nbconvert_exporter": "python",
   "pygments_lexer": "ipython3",
   "version": "3.6.1"
  }
 },
 "nbformat": 4,
 "nbformat_minor": 2
}
