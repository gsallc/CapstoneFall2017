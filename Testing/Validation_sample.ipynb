{
 "cells": [
  {
   "cell_type": "code",
   "execution_count": 1,
   "metadata": {
    "collapsed": true
   },
   "outputs": [],
   "source": [
    "import math\n",
    "import numpy as np\n",
    "import pandas as pd\n",
    "import itertools\n",
    "from Pricing.SABR import SABR_model\n",
    "from Pricing.black_pricing import BSPricer_SABR\n",
    "from Pricing.pdf_calculation import numerical_pdf\n",
    "from Pricing.cdf_calculation import numerical_cdf\n",
    "from matplotlib import pyplot as plt\n",
    "from Pricing.arbitrage_check import arbitrage_check"
   ]
  },
  {
   "cell_type": "code",
   "execution_count": 2,
   "metadata": {
    "collapsed": true
   },
   "outputs": [],
   "source": [
    "F=[0.02,0.02]\n",
    "vol=0.4\n",
    "beta=0.9\n",
    "rho=0\n",
    "nu=0.5\n",
    "alpha = 0.4 * math.pow(F[0],(1-beta))\n",
    "expiry=np.array([5,20])\n",
    "spread = np.arange(0.0001,0.1,0.01)\n",
    "K = [[0 for y in range(len(spread))] for x in range(len(F))]\n",
    "\n",
    "for i in range(len(F)):\n",
    "    for j in range(len(spread)):\n",
    "        K[i][j]=F[i]+spread[j]        \n",
    "K=np.array(K)"
   ]
  },
  {
   "cell_type": "code",
   "execution_count": 3,
   "metadata": {},
   "outputs": [
    {
     "name": "stdout",
     "output_type": "stream",
     "text": [
      "Lognormal implied vols using Lognormal Hagan:\n"
     ]
    },
    {
     "data": {
      "text/html": [
       "<div>\n",
       "<style>\n",
       "    .dataframe thead tr:only-child th {\n",
       "        text-align: right;\n",
       "    }\n",
       "\n",
       "    .dataframe thead th {\n",
       "        text-align: left;\n",
       "    }\n",
       "\n",
       "    .dataframe tbody tr th {\n",
       "        vertical-align: top;\n",
       "    }\n",
       "</style>\n",
       "<table border=\"1\" class=\"dataframe\">\n",
       "  <thead>\n",
       "    <tr style=\"text-align: right;\">\n",
       "      <th></th>\n",
       "      <th>0</th>\n",
       "      <th>1</th>\n",
       "      <th>2</th>\n",
       "      <th>3</th>\n",
       "      <th>4</th>\n",
       "      <th>5</th>\n",
       "      <th>6</th>\n",
       "      <th>7</th>\n",
       "      <th>8</th>\n",
       "      <th>9</th>\n",
       "    </tr>\n",
       "  </thead>\n",
       "  <tbody>\n",
       "    <tr>\n",
       "      <th>0</th>\n",
       "      <td>0.441693</td>\n",
       "      <td>0.451117</td>\n",
       "      <td>0.474697</td>\n",
       "      <td>0.498401</td>\n",
       "      <td>0.519737</td>\n",
       "      <td>0.538596</td>\n",
       "      <td>0.555303</td>\n",
       "      <td>0.570215</td>\n",
       "      <td>0.583635</td>\n",
       "      <td>0.595809</td>\n",
       "    </tr>\n",
       "    <tr>\n",
       "      <th>1</th>\n",
       "      <td>0.567062</td>\n",
       "      <td>0.579146</td>\n",
       "      <td>0.609409</td>\n",
       "      <td>0.639830</td>\n",
       "      <td>0.667215</td>\n",
       "      <td>0.691418</td>\n",
       "      <td>0.712861</td>\n",
       "      <td>0.731998</td>\n",
       "      <td>0.749222</td>\n",
       "      <td>0.764847</td>\n",
       "    </tr>\n",
       "  </tbody>\n",
       "</table>\n",
       "</div>"
      ],
      "text/plain": [
       "          0         1         2         3         4         5         6  \\\n",
       "0  0.441693  0.451117  0.474697  0.498401  0.519737  0.538596  0.555303   \n",
       "1  0.567062  0.579146  0.609409  0.639830  0.667215  0.691418  0.712861   \n",
       "\n",
       "          7         8         9  \n",
       "0  0.570215  0.583635  0.595809  \n",
       "1  0.731998  0.749222  0.764847  "
      ]
     },
     "execution_count": 3,
     "metadata": {},
     "output_type": "execute_result"
    }
   ],
   "source": [
    "ivol = []\n",
    "sabr=SABR_model(beta,rho,nu)\n",
    "vols = sabr.ivol_matrix_validation(alpha,F,K,expiry,method='Hagan_ln')\n",
    "print('Lognormal implied vols using Lognormal Hagan:')\n",
    "vols"
   ]
  },
  {
   "cell_type": "code",
   "execution_count": 4,
   "metadata": {},
   "outputs": [
    {
     "name": "stdout",
     "output_type": "stream",
     "text": [
      "price:\n",
      "[[ 0.00754046  0.00532598  0.00428461  0.00370788  0.0033432   0.00309064\n",
      "   0.00290425  0.00276022  0.00264501  0.00255035]\n",
      " [ 0.01589374  0.01524404  0.01520008  0.01532912  0.01549963  0.01567224\n",
      "   0.01583502  0.01598492  0.01612192  0.01624699]]\n",
      "price_plus:\n",
      "[[ 0.00722811  0.00518671  0.00421226  0.0036642   0.00331393  0.00306953\n",
      "   0.00288822  0.00274757  0.00263473  0.00254179]\n",
      " [ 0.01577766  0.01522352  0.01520868  0.01534534  0.01551711  0.01568905\n",
      "   0.01585061  0.01599919  0.01613494  0.01625889]]\n"
     ]
    }
   ],
   "source": [
    "h=0.001\n",
    "bs=BSPricer_SABR(beta,rho,nu)\n",
    "price=bs.BS_matrix(alpha,F,K,expiry,1,0,'Hagan_ln')\n",
    "price_plus=bs.BS_matrix(alpha,F,K+h,expiry,1,0,'Hagan_ln')\n",
    "print('price:')\n",
    "print(price)\n",
    "print('price_plus:')\n",
    "print(price_plus)"
   ]
  },
  {
   "cell_type": "code",
   "execution_count": 5,
   "metadata": {},
   "outputs": [
    {
     "data": {
      "text/plain": [
       "array([[-0.31234265, -0.1392624 , -0.07235615, -0.04367329, -0.02927846,\n",
       "        -0.02110677, -0.01602785, -0.01265044, -0.0102852 , -0.00856005],\n",
       "       [-0.11607597, -0.02052135,  0.00860369,  0.01621314,  0.01748229,\n",
       "         0.01681088,  0.0155837 ,  0.01426837,  0.01302407,  0.0118987 ]])"
      ]
     },
     "execution_count": 5,
     "metadata": {},
     "output_type": "execute_result"
    }
   ],
   "source": [
    "(price_plus-price)/h"
   ]
  },
  {
   "cell_type": "code",
   "execution_count": 6,
   "metadata": {},
   "outputs": [
    {
     "data": {
      "text/plain": [
       "array([[ 0.31234265,  0.1392624 ,  0.07235615,  0.04367329,  0.02927846,\n",
       "         0.02110677,  0.01602785,  0.01265044,  0.0102852 ,  0.00856005],\n",
       "       [ 0.11607597,  0.02052135, -0.00860369, -0.01621314, -0.01748229,\n",
       "        -0.01681088, -0.0155837 , -0.01426837, -0.01302407, -0.0118987 ]])"
      ]
     },
     "execution_count": 6,
     "metadata": {},
     "output_type": "execute_result"
    }
   ],
   "source": [
    "cdf=numerical_cdf(alpha,beta,rho,nu,F,K,expiry,1,0,0.001,'Hagan_ln')\n",
    "cdf"
   ]
  },
  {
   "cell_type": "code",
   "execution_count": 7,
   "metadata": {},
   "outputs": [
    {
     "name": "stdout",
     "output_type": "stream",
     "text": [
      "SABR volatility method: Hagan_ln\n",
      "Expiry= 5 Strike price= 0.0201 c.d.f= -0.312342654659 p.d.f= 26.7871926843 No\n",
      "Expiry= 5 Strike price= 0.0301 c.d.f= -0.139262399624 p.d.f= 10.8666516131 No\n",
      "Expiry= 5 Strike price= 0.0401 c.d.f= -0.0723561486734 p.d.f= 4.31693610123 No\n",
      "Expiry= 5 Strike price= 0.0501 c.d.f= -0.0436732911501 p.d.f= 2.01477869879 No\n",
      "Expiry= 5 Strike price= 0.0601 c.d.f= -0.029278464255 p.d.f= 1.08218538706 No\n",
      "Expiry= 5 Strike price= 0.0701 c.d.f= -0.0211067709482 p.d.f= 0.645297084674 No\n",
      "Expiry= 5 Strike price= 0.0801 c.d.f= -0.0160278517336 p.d.f= 0.415761871108 No\n",
      "Expiry= 5 Strike price= 0.0901 c.d.f= -0.0126504395183 p.d.f= 0.284064954072 No\n",
      "Expiry= 5 Strike price= 0.1001 c.d.f= -0.0102852013718 p.d.f= 0.203148124917 No\n",
      "Expiry= 5 Strike price= 0.1101 c.d.f= -0.00856005077618 p.d.f= 0.150657619494 No\n",
      "Expiry= 20 Strike price= 0.0201 c.d.f= -0.116075970373 p.d.f= 15.153329676 No\n",
      "Expiry= 20 Strike price= 0.0301 c.d.f= -0.0205213520061 p.d.f= 5.49200049972 No\n",
      "Expiry= 20 Strike price= 0.0401 c.d.f= 0.00860369354573 p.d.f= 1.51247329222 No\n",
      "Expiry= 20 Strike price= 0.0501 c.d.f= 0.0162131440287 p.d.f= 0.353052681814 No\n",
      "Expiry= 20 Strike price= 0.0601 c.d.f= 0.017482289658 p.d.f= 0.00222575899204 No\n",
      "Expiry= 20 Strike price= 0.0701 c.d.f= 0.0168108813739 p.d.f= -0.104557684219 Yes\n",
      "Expiry= 20 Strike price= 0.0801 c.d.f= 0.0155837045147 p.d.f= -0.130963508815 Yes\n",
      "Expiry= 20 Strike price= 0.0901 c.d.f= 0.0142683693694 p.d.f= -0.129738546777 Yes\n",
      "Expiry= 20 Strike price= 0.1001 c.d.f= 0.0130240742591 p.d.f= -0.11941231912 Yes\n",
      "Expiry= 20 Strike price= 0.1101 c.d.f= 0.011898703866 p.d.f= -0.10683250443 Yes\n"
     ]
    },
    {
     "data": {
      "text/plain": [
       "array([[0, 0, 0, 0, 0, 0, 0, 0, 0, 0, 0, 0, 0, 0, 0, 1, 1, 1, 1, 1],\n",
       "       [0, 0, 0, 0, 0, 0, 0, 0, 0, 0, 0, 0, 0, 0, 0, 1, 1, 1, 1, 1]])"
      ]
     },
     "execution_count": 7,
     "metadata": {},
     "output_type": "execute_result"
    }
   ],
   "source": [
    "arb=arbitrage_check(beta,rho,nu)\n",
    "arb.arbitrage(alpha,F,K,expiry,1,0,0.001,'Hagan_ln')"
   ]
  },
  {
   "cell_type": "code",
   "execution_count": 8,
   "metadata": {
    "collapsed": true
   },
   "outputs": [],
   "source": [
    "pdf=numerical_pdf(alpha,beta,rho,nu,F,K,expiry,1,0,0.001,'Hagan_ln')\n",
    "cdf=numerical_cdf(alpha,beta,rho,nu,F,K,expiry,1,0,0.001,'Hagan_ln')"
   ]
  },
  {
   "cell_type": "code",
   "execution_count": 9,
   "metadata": {},
   "outputs": [
    {
     "data": {
      "image/png": "[encoded data removed]",
      "text/plain": [
       "<matplotlib.figure.Figure at 0x11c9a3dd8>"
      ]
     },
     "metadata": {},
     "output_type": "display_data"
    }
   ],
   "source": [
    "plt.plot(K[0],cdf[0])\n",
    "plt.xlabel('strike price')\n",
    "plt.ylabel('cdf')\n",
    "plt.title('expiry=5')\n",
    "plt.yticks(np.arange(min(cdf[0]), max(cdf[0])+1, 0.2))\n",
    "plt.show()"
   ]
  },
  {
   "cell_type": "code",
   "execution_count": 10,
   "metadata": {},
   "outputs": [
    {
     "data": {
      "image/png": "[encoded data removed]",
      "text/plain": [
       "<matplotlib.figure.Figure at 0x11201cc88>"
      ]
     },
     "metadata": {},
     "output_type": "display_data"
    }
   ],
   "source": [
    "plt.plot(K[0],cdf[0])\n",
    "plt.xlabel('strike price')\n",
    "plt.ylabel('cdf')\n",
    "plt.title('expiry=5')\n",
    "#plt.yticks(np.arange(min(cdf[0]), max(cdf[0])+1, 0.2))\n",
    "plt.show()"
   ]
  },
  {
   "cell_type": "code",
   "execution_count": 11,
   "metadata": {},
   "outputs": [
    {
     "data": {
      "image/png": "[encoded data removed]",
      "text/plain": [
       "<matplotlib.figure.Figure at 0x11cb686d8>"
      ]
     },
     "metadata": {},
     "output_type": "display_data"
    }
   ],
   "source": [
    "plt.plot(K[1],cdf[1])\n",
    "plt.xlabel('strike price')\n",
    "plt.ylabel('cdf')\n",
    "plt.title('expiry=20')\n",
    "plt.yticks(np.arange(min(cdf[1]), max(cdf[1])+1, 0.2))\n",
    "plt.show()"
   ]
  },
  {
   "cell_type": "code",
   "execution_count": 12,
   "metadata": {},
   "outputs": [
    {
     "data": {
      "image/png": "[encoded data removed]",
      "text/plain": [
       "<matplotlib.figure.Figure at 0x11cbdab38>"
      ]
     },
     "metadata": {},
     "output_type": "display_data"
    }
   ],
   "source": [
    "plt.plot(K[1],cdf[1])\n",
    "plt.xlabel('strike price')\n",
    "plt.ylabel('cdf')\n",
    "plt.title('expiry=20')\n",
    "#plt.yticks(np.arange(min(cdf[1]), max(cdf[1])+1, 0.2))\n",
    "plt.show()"
   ]
  },
  {
   "cell_type": "code",
   "execution_count": 13,
   "metadata": {},
   "outputs": [
    {
     "data": {
      "image/png": "[encoded data removed]",
      "text/plain": [
       "<matplotlib.figure.Figure at 0x11cddf5f8>"
      ]
     },
     "metadata": {},
     "output_type": "display_data"
    }
   ],
   "source": [
    "plt.plot(K[0],pdf[0])\n",
    "plt.xlabel('strike price')\n",
    "plt.ylabel('pdf')\n",
    "plt.title('expiry=5')\n",
    "#plt.yticks(np.arange(min(pdf[0]), max(pdf[0])+1, 0.2))\n",
    "plt.show()"
   ]
  },
  {
   "cell_type": "code",
   "execution_count": 14,
   "metadata": {},
   "outputs": [
    {
     "data": {
      "image/png": "[encoded data removed]",
      "text/plain": [
       "<matplotlib.figure.Figure at 0x11ced6d68>"
      ]
     },
     "metadata": {},
     "output_type": "display_data"
    }
   ],
   "source": [
    "plt.plot(K[1],pdf[1])\n",
    "plt.xlabel('strike price')\n",
    "plt.ylabel('pdf')\n",
    "plt.title('expiry=20')\n",
    "#plt.yticks(np.arange(min(cdf[1]), max(cdf[1])+1, 0.2))\n",
    "plt.show()"
   ]
  },
  {
   "cell_type": "code",
   "execution_count": null,
   "metadata": {
    "collapsed": true
   },
   "outputs": [],
   "source": []
  }
 ],
 "metadata": {
  "kernelspec": {
   "display_name": "Python 3",
   "language": "python",
   "name": "python3"
  },
  "language_info": {
   "codemirror_mode": {
    "name": "ipython",
    "version": 3
   },
   "file_extension": ".py",
   "mimetype": "text/x-python",
   "name": "python",
   "nbconvert_exporter": "python",
   "pygments_lexer": "ipython3",
   "version": "3.6.1"
  }
 },
 "nbformat": 4,
 "nbformat_minor": 2
}
