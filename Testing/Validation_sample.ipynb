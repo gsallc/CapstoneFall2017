{
 "cells": [
  {
   "cell_type": "code",
   "execution_count": 15,
   "metadata": {
    "collapsed": true
   },
   "outputs": [],
   "source": [
    "import math\n",
    "import numpy as np\n",
    "import pandas as pd\n",
    "import itertools\n",
    "from Pricing.SABR import SABR_model\n",
    "from Pricing.black_pricing import BSPricer_SABR\n",
    "from Pricing.pdf_calculation import numerical_pdf\n",
    "from Pricing.cdf_calculation import numerical_cdf\n",
    "from matplotlib import pyplot as plt\n",
    "from Pricing.arbitrage_check import arbitrage_check"
   ]
  },
  {
   "cell_type": "code",
   "execution_count": 70,
   "metadata": {
    "collapsed": true
   },
   "outputs": [],
   "source": [
    "F=[0.02,0.02]\n",
    "vol=0.4\n",
    "beta=0.9\n",
    "rho=0\n",
    "nu=0.5\n",
    "alpha = 0.4 * math.pow(F[0],(1-beta))\n",
    "expiry=np.array([5,20])\n",
    "spread = np.arange(0.000,0.1,0.01)\n",
    "K = [[0 for y in range(len(spread))] for x in range(len(F))]\n",
    "\n",
    "for i in range(len(F)):\n",
    "    for j in range(len(spread)):\n",
    "        K[i][j]=F[i]+spread[j]        \n",
    "K=np.array(K)"
   ]
  },
  {
   "cell_type": "markdown",
   "metadata": {},
   "source": [
    "#### Another set of parameters"
   ]
  },
  {
   "cell_type": "code",
   "execution_count": 81,
   "metadata": {},
   "outputs": [
    {
     "data": {
      "text/plain": [
       "array([[ 0.0025,  0.0035,  0.0045,  0.0055,  0.0065,  0.0075,  0.0085,\n",
       "         0.0095,  0.0105,  0.0115,  0.0125,  0.0135,  0.0145,  0.0155,\n",
       "         0.0165,  0.0175,  0.0185,  0.0195,  0.0205,  0.0215,  0.0225,\n",
       "         0.0235,  0.0245,  0.0255,  0.0265,  0.0275,  0.0285,  0.0295,\n",
       "         0.0305,  0.0315,  0.0325,  0.0335,  0.0345,  0.0355,  0.0365,\n",
       "         0.0375,  0.0385,  0.0395,  0.0405,  0.0415,  0.0425,  0.0435,\n",
       "         0.0445,  0.0455,  0.0465,  0.0475,  0.0485,  0.0495,  0.0505,\n",
       "         0.0515,  0.0525,  0.0535,  0.0545,  0.0555,  0.0565,  0.0575,\n",
       "         0.0585,  0.0595,  0.0605,  0.0615,  0.0625,  0.0635,  0.0645,\n",
       "         0.0655,  0.0665,  0.0675,  0.0685,  0.0695,  0.0705,  0.0715,\n",
       "         0.0725,  0.0735,  0.0745,  0.0755,  0.0765,  0.0775,  0.0785,\n",
       "         0.0795,  0.0805,  0.0815,  0.0825,  0.0835,  0.0845,  0.0855,\n",
       "         0.0865,  0.0875,  0.0885,  0.0895,  0.0905,  0.0915,  0.0925,\n",
       "         0.0935,  0.0945,  0.0955,  0.0965,  0.0975,  0.0985,  0.0995,\n",
       "         0.1005,  0.1015,  0.1025,  0.1035,  0.1045,  0.1055,  0.1065,\n",
       "         0.1075,  0.1085,  0.1095,  0.1105,  0.1115,  0.1125,  0.1135,\n",
       "         0.1145,  0.1155,  0.1165,  0.1175,  0.1185,  0.1195],\n",
       "       [ 0.0025,  0.0035,  0.0045,  0.0055,  0.0065,  0.0075,  0.0085,\n",
       "         0.0095,  0.0105,  0.0115,  0.0125,  0.0135,  0.0145,  0.0155,\n",
       "         0.0165,  0.0175,  0.0185,  0.0195,  0.0205,  0.0215,  0.0225,\n",
       "         0.0235,  0.0245,  0.0255,  0.0265,  0.0275,  0.0285,  0.0295,\n",
       "         0.0305,  0.0315,  0.0325,  0.0335,  0.0345,  0.0355,  0.0365,\n",
       "         0.0375,  0.0385,  0.0395,  0.0405,  0.0415,  0.0425,  0.0435,\n",
       "         0.0445,  0.0455,  0.0465,  0.0475,  0.0485,  0.0495,  0.0505,\n",
       "         0.0515,  0.0525,  0.0535,  0.0545,  0.0555,  0.0565,  0.0575,\n",
       "         0.0585,  0.0595,  0.0605,  0.0615,  0.0625,  0.0635,  0.0645,\n",
       "         0.0655,  0.0665,  0.0675,  0.0685,  0.0695,  0.0705,  0.0715,\n",
       "         0.0725,  0.0735,  0.0745,  0.0755,  0.0765,  0.0775,  0.0785,\n",
       "         0.0795,  0.0805,  0.0815,  0.0825,  0.0835,  0.0845,  0.0855,\n",
       "         0.0865,  0.0875,  0.0885,  0.0895,  0.0905,  0.0915,  0.0925,\n",
       "         0.0935,  0.0945,  0.0955,  0.0965,  0.0975,  0.0985,  0.0995,\n",
       "         0.1005,  0.1015,  0.1025,  0.1035,  0.1045,  0.1055,  0.1065,\n",
       "         0.1075,  0.1085,  0.1095,  0.1105,  0.1115,  0.1125,  0.1135,\n",
       "         0.1145,  0.1155,  0.1165,  0.1175,  0.1185,  0.1195]])"
      ]
     },
     "execution_count": 81,
     "metadata": {},
     "output_type": "execute_result"
    }
   ],
   "source": [
    "F=[0.02,0.02]\n",
    "#vol=0.4\n",
    "beta=0.5\n",
    "rho=0\n",
    "nu=0.3\n",
    "alpha = 0.4 * math.pow(F[0],(1-beta))\n",
    "expiry=np.array([5,20])\n",
    "spread = np.arange(-0.0175,0.1,0.001)\n",
    "K = [[0 for y in range(len(spread))] for x in range(len(F))]\n",
    "\n",
    "for i in range(len(F)):\n",
    "    for j in range(len(spread)):\n",
    "        K[i][j]=F[i]+spread[j]        \n",
    "K=np.array(K)\n",
    "K"
   ]
  },
  {
   "cell_type": "code",
   "execution_count": 87,
   "metadata": {},
   "outputs": [
    {
     "name": "stdout",
     "output_type": "stream",
     "text": [
      "Lognormal implied vols using Lognormal Hagan:\n"
     ]
    },
    {
     "data": {
      "text/html": [
       "<div>\n",
       "<style>\n",
       "    .dataframe thead tr:only-child th {\n",
       "        text-align: right;\n",
       "    }\n",
       "\n",
       "    .dataframe thead th {\n",
       "        text-align: left;\n",
       "    }\n",
       "\n",
       "    .dataframe tbody tr th {\n",
       "        vertical-align: top;\n",
       "    }\n",
       "</style>\n",
       "<table border=\"1\" class=\"dataframe\">\n",
       "  <thead>\n",
       "    <tr style=\"text-align: right;\">\n",
       "      <th></th>\n",
       "      <th>0</th>\n",
       "      <th>1</th>\n",
       "      <th>2</th>\n",
       "      <th>3</th>\n",
       "      <th>4</th>\n",
       "      <th>5</th>\n",
       "      <th>6</th>\n",
       "      <th>7</th>\n",
       "      <th>8</th>\n",
       "      <th>9</th>\n",
       "      <th>...</th>\n",
       "      <th>108</th>\n",
       "      <th>109</th>\n",
       "      <th>110</th>\n",
       "      <th>111</th>\n",
       "      <th>112</th>\n",
       "      <th>113</th>\n",
       "      <th>114</th>\n",
       "      <th>115</th>\n",
       "      <th>116</th>\n",
       "      <th>117</th>\n",
       "    </tr>\n",
       "  </thead>\n",
       "  <tbody>\n",
       "    <tr>\n",
       "      <th>0</th>\n",
       "      <td>0.763567</td>\n",
       "      <td>0.697836</td>\n",
       "      <td>0.650304</td>\n",
       "      <td>0.613475</td>\n",
       "      <td>0.583703</td>\n",
       "      <td>0.558942</td>\n",
       "      <td>0.537928</td>\n",
       "      <td>0.519824</td>\n",
       "      <td>0.504048</td>\n",
       "      <td>0.490179</td>\n",
       "      <td>...</td>\n",
       "      <td>0.362676</td>\n",
       "      <td>0.362764</td>\n",
       "      <td>0.362853</td>\n",
       "      <td>0.362942</td>\n",
       "      <td>0.363032</td>\n",
       "      <td>0.363121</td>\n",
       "      <td>0.363210</td>\n",
       "      <td>0.363300</td>\n",
       "      <td>0.363389</td>\n",
       "      <td>0.363478</td>\n",
       "    </tr>\n",
       "    <tr>\n",
       "      <th>1</th>\n",
       "      <td>0.895409</td>\n",
       "      <td>0.811519</td>\n",
       "      <td>0.752130</td>\n",
       "      <td>0.706756</td>\n",
       "      <td>0.670446</td>\n",
       "      <td>0.640475</td>\n",
       "      <td>0.615188</td>\n",
       "      <td>0.593506</td>\n",
       "      <td>0.574684</td>\n",
       "      <td>0.558187</td>\n",
       "      <td>...</td>\n",
       "      <td>0.405573</td>\n",
       "      <td>0.405657</td>\n",
       "      <td>0.405740</td>\n",
       "      <td>0.405824</td>\n",
       "      <td>0.405909</td>\n",
       "      <td>0.405993</td>\n",
       "      <td>0.406078</td>\n",
       "      <td>0.406163</td>\n",
       "      <td>0.406248</td>\n",
       "      <td>0.406334</td>\n",
       "    </tr>\n",
       "  </tbody>\n",
       "</table>\n",
       "<p>2 rows × 118 columns</p>\n",
       "</div>"
      ],
      "text/plain": [
       "        0         1         2         3         4         5         6    \\\n",
       "0  0.763567  0.697836  0.650304  0.613475  0.583703  0.558942  0.537928   \n",
       "1  0.895409  0.811519  0.752130  0.706756  0.670446  0.640475  0.615188   \n",
       "\n",
       "        7         8         9      ...          108       109       110  \\\n",
       "0  0.519824  0.504048  0.490179    ...     0.362676  0.362764  0.362853   \n",
       "1  0.593506  0.574684  0.558187    ...     0.405573  0.405657  0.405740   \n",
       "\n",
       "        111       112       113       114       115       116       117  \n",
       "0  0.362942  0.363032  0.363121  0.363210  0.363300  0.363389  0.363478  \n",
       "1  0.405824  0.405909  0.405993  0.406078  0.406163  0.406248  0.406334  \n",
       "\n",
       "[2 rows x 118 columns]"
      ]
     },
     "execution_count": 87,
     "metadata": {},
     "output_type": "execute_result"
    }
   ],
   "source": [
    "ivol = []\n",
    "sabr=SABR_model(beta,rho,nu)\n",
    "vols = sabr.ivol_matrix_validation(alpha,F,K,expiry,method='Hagan_ln')\n",
    "print('Lognormal implied vols using Lognormal Hagan:')\n",
    "vols"
   ]
  },
  {
   "cell_type": "code",
   "execution_count": 64,
   "metadata": {},
   "outputs": [
    {
     "name": "stdout",
     "output_type": "stream",
     "text": [
      "price:\n",
      "[[ 0.01603954  0.00952371  0.0054425   0.00319039  0.00197062  0.00128367\n",
      "   0.0008754   0.00061998  0.00045289  0.00033939  0.00025983  0.00020254]\n",
      " [ 0.01902688  0.01567879  0.01295627  0.01107078  0.00976418  0.00881698\n",
      "   0.00809614  0.00752453  0.00705619  0.00666244  0.00632455  0.0060298 ]]\n",
      "price_plus:\n",
      "[[ 0.01528279  0.00900967  0.00514967  0.00303275  0.0018836   0.00123308\n",
      "   0.00084439  0.00060003  0.00043954  0.00033015  0.00025324  0.00019773]\n",
      " [ 0.01870776  0.01536581  0.01273366  0.01091845  0.00965607  0.00873632\n",
      "   0.0080332   0.00747363  0.00701383  0.00662638  0.00629331  0.00600233]]\n"
     ]
    }
   ],
   "source": [
    "h=0.001\n",
    "bs=BSPricer_SABR(beta,rho,nu)\n",
    "price=bs.BS_matrix(alpha,F,K,expiry,1,0,'Hagan_ln')\n",
    "price_plus=bs.BS_matrix(alpha,F,K+h,expiry,1,0,'Hagan_ln')\n",
    "print('price:')\n",
    "print(price)\n",
    "print('price_plus:')\n",
    "print(price_plus)"
   ]
  },
  {
   "cell_type": "code",
   "execution_count": 65,
   "metadata": {},
   "outputs": [
    {
     "data": {
      "text/plain": [
       "array([[-0.75674491, -0.51403997, -0.29282778, -0.15764627, -0.0870132 ,\n",
       "        -0.05058367, -0.03101875, -0.01994393, -0.01334978, -0.0092436 ,\n",
       "        -0.00658585, -0.00480754],\n",
       "       [-0.31912591, -0.31298467, -0.22260287, -0.15233056, -0.10810793,\n",
       "        -0.08066209, -0.06293339, -0.05090392, -0.04236177, -0.03605496,\n",
       "        -0.03124393, -0.02747239]])"
      ]
     },
     "execution_count": 65,
     "metadata": {},
     "output_type": "execute_result"
    }
   ],
   "source": [
    "(price_plus-price)/h"
   ]
  },
  {
   "cell_type": "code",
   "execution_count": 66,
   "metadata": {},
   "outputs": [
    {
     "data": {
      "text/plain": [
       "array([[ 0.75674491,  0.51403997,  0.29282778,  0.15764627,  0.0870132 ,\n",
       "         0.05058367,  0.03101875,  0.01994393,  0.01334978,  0.0092436 ,\n",
       "         0.00658585,  0.00480754],\n",
       "       [ 0.31912591,  0.31298467,  0.22260287,  0.15233056,  0.10810793,\n",
       "         0.08066209,  0.06293339,  0.05090392,  0.04236177,  0.03605496,\n",
       "         0.03124393,  0.02747239]])"
      ]
     },
     "execution_count": 66,
     "metadata": {},
     "output_type": "execute_result"
    }
   ],
   "source": [
    "cdf=numerical_cdf(alpha,beta,rho,nu,F,K,expiry,1,0,0.001,'Hagan_ln')\n",
    "cdf"
   ]
  },
  {
   "cell_type": "code",
   "execution_count": 67,
   "metadata": {},
   "outputs": [
    {
     "name": "stdout",
     "output_type": "stream",
     "text": [
      "SABR volatility method: Hagan_ln\n",
      "Expiry= 5 Strike price= 0.005 c.d.f= -0.75674491205 p.d.f= 19.4269538036 No\n",
      "Expiry= 5 Strike price= 0.015 c.d.f= -0.514039966257 p.d.f= 25.4702716554 No\n",
      "Expiry= 5 Strike price= 0.025 c.d.f= -0.292827776883 p.d.f= 18.3361095561 No\n",
      "Expiry= 5 Strike price= 0.035 c.d.f= -0.15764626729 p.d.f= 10.0203944581 No\n",
      "Expiry= 5 Strike price= 0.045 c.d.f= -0.0870131987402 p.d.f= 5.12721737862 No\n",
      "Expiry= 5 Strike price= 0.055 c.d.f= -0.0505836726542 p.d.f= 2.68779612187 No\n",
      "Expiry= 5 Strike price= 0.065 c.d.f= -0.0310187484477 p.d.f= 1.48141864008 No\n",
      "Expiry= 5 Strike price= 0.075 c.d.f= -0.0199439341238 p.d.f= 0.860508277242 No\n",
      "Expiry= 5 Strike price= 0.085 c.d.f= -0.0133497804359 p.d.f= 0.524295167737 No\n",
      "Expiry= 5 Strike price= 0.095 c.d.f= -0.00924359601355 p.d.f= 0.333014237649 No\n",
      "Expiry= 5 Strike price= 0.105 c.d.f= -0.0065858476141 p.d.f= 0.219222522115 No\n",
      "Expiry= 5 Strike price= 0.115 c.d.f= -0.00480754419846 p.d.f= 0.148818724129 No\n",
      "Expiry= 20 Strike price= 0.005 c.d.f= -0.3191259134 p.d.f= -20.5553157335 Yes\n",
      "Expiry= 20 Strike price= 0.015 c.d.f= -0.31298466785 p.d.f= 8.01525430907 No\n",
      "Expiry= 20 Strike price= 0.025 c.d.f= -0.222602868878 p.d.f= 8.60853387342 No\n",
      "Expiry= 20 Strike price= 0.035 c.d.f= -0.152330558539 p.d.f= 5.71833854206 No\n",
      "Expiry= 20 Strike price= 0.045 c.d.f= -0.108107928925 p.d.f= 3.51878487729 No\n",
      "Expiry= 20 Strike price= 0.055 c.d.f= -0.0806620881676 p.d.f= 2.21887339802 No\n",
      "Expiry= 20 Strike price= 0.065 c.d.f= -0.0629333922797 p.d.f= 1.46793250104 No\n",
      "Expiry= 20 Strike price= 0.075 c.d.f= -0.0509039189423 p.d.f= 1.01904691841 No\n",
      "Expiry= 20 Strike price= 0.085 c.d.f= -0.0423617742995 p.d.f= 0.738004891995 No\n",
      "Expiry= 20 Strike price= 0.095 c.d.f= -0.0360549603451 p.d.f= 0.55391657048 No\n",
      "Expiry= 20 Strike price= 0.105 c.d.f= -0.0312439307243 p.d.f= 0.428358657422 No\n",
      "Expiry= 20 Strike price= 0.115 c.d.f= -0.027472388257 p.d.f= 0.339655302928 No\n"
     ]
    },
    {
     "data": {
      "text/plain": [
       "array([[0, 0, 0, 0, 0, 0, 0, 0, 0, 0, 0, 0, 1, 0, 0, 0, 0, 0, 0, 0, 0, 0,\n",
       "        0, 0],\n",
       "       [0, 0, 0, 0, 0, 0, 0, 0, 0, 0, 0, 0, 1, 0, 0, 0, 0, 0, 0, 0, 0, 0,\n",
       "        0, 0]])"
      ]
     },
     "execution_count": 67,
     "metadata": {},
     "output_type": "execute_result"
    }
   ],
   "source": [
    "arb=arbitrage_check(beta,rho,nu)\n",
    "arb.arbitrage(alpha,F,K,expiry,1,0,0.001,'Hagan_ln')"
   ]
  },
  {
   "cell_type": "code",
   "execution_count": 82,
   "metadata": {
    "collapsed": true
   },
   "outputs": [],
   "source": [
    "pdf=numerical_pdf(alpha,beta,rho,nu,F,K,expiry,1,0,0.001,'Hagan_ln')\n",
    "cdf=numerical_cdf(alpha,beta,rho,nu,F,K,expiry,1,0,0.001,'Hagan_ln')"
   ]
  },
  {
   "cell_type": "code",
   "execution_count": 83,
   "metadata": {},
   "outputs": [
    {
     "data": {
      "image/png": "[encoded data removed]",
      "text/plain": [
       "<matplotlib.figure.Figure at 0x112c3c5f8>"
      ]
     },
     "metadata": {},
     "output_type": "display_data"
    }
   ],
   "source": [
    "plt.plot(K[0],cdf[0])\n",
    "plt.xlabel('strike price')\n",
    "plt.ylabel('cdf')\n",
    "plt.title('expiry=5')\n",
    "#plt.yticks(np.arange(min(cdf[0]), max(cdf[0])+1, 0.2))\n",
    "plt.show()"
   ]
  },
  {
   "cell_type": "code",
   "execution_count": 84,
   "metadata": {},
   "outputs": [
    {
     "data": {
      "image/png": "[encoded data removed]",
      "text/plain": [
       "<matplotlib.figure.Figure at 0x112dec4a8>"
      ]
     },
     "metadata": {},
     "output_type": "display_data"
    }
   ],
   "source": [
    "plt.plot(K[1],cdf[1])\n",
    "plt.xlabel('strike price')\n",
    "plt.ylabel('cdf')\n",
    "plt.title('expiry=20')Z\n",
    "#plt.yticks(np.arange(min(cdf[1]), max(cdf[1])+1, 0.2))\n",
    "plt.show()"
   ]
  },
  {
   "cell_type": "code",
   "execution_count": 85,
   "metadata": {},
   "outputs": [
    {
     "data": {
      "image/png": "[encoded data removed]",
      "text/plain": [
       "<matplotlib.figure.Figure at 0x112c3ca90>"
      ]
     },
     "metadata": {},
     "output_type": "display_data"
    }
   ],
   "source": [
    "plt.plot(K[0],pdf[0])\n",
    "plt.xlabel('strike price')\n",
    "plt.ylabel('pdf')\n",
    "plt.title('expiry=5')\n",
    "#plt.yticks(np.arange(min(pdf[0]), max(pdf[0])+1, 0.2))\n",
    "plt.show()"
   ]
  },
  {
   "cell_type": "code",
   "execution_count": 86,
   "metadata": {},
   "outputs": [
    {
     "data": {
      "image/png": "[encoded data removed]",
      "text/plain": [
       "<matplotlib.figure.Figure at 0x112c6ec18>"
      ]
     },
     "metadata": {},
     "output_type": "display_data"
    }
   ],
   "source": [
    "plt.plot(K[1],pdf[1])\n",
    "plt.xlabel('strike price')\n",
    "plt.ylabel('pdf')\n",
    "plt.title('expiry=20')\n",
    "#plt.yticks(np.arange(min(cdf[1]), max(cdf[1])+1, 0.2))\n",
    "plt.show()"
   ]
  },
  {
   "cell_type": "code",
   "execution_count": null,
   "metadata": {
    "collapsed": true
   },
   "outputs": [],
   "source": []
  }
 ],
 "metadata": {
  "kernelspec": {
   "display_name": "Python 3",
   "language": "python",
   "name": "python3"
  },
  "language_info": {
   "codemirror_mode": {
    "name": "ipython",
    "version": 3
   },
   "file_extension": ".py",
   "mimetype": "text/x-python",
   "name": "python",
   "nbconvert_exporter": "python",
   "pygments_lexer": "ipython3",
   "version": "3.6.1"
  }
 },
 "nbformat": 4,
 "nbformat_minor": 2
}
