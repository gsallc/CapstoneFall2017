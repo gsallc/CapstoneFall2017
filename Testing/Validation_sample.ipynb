{
 "cells": [
  {
   "cell_type": "code",
   "execution_count": 1,
   "metadata": {
    "collapsed": true
   },
   "outputs": [],
   "source": [
    "import math\n",
    "import numpy as np\n",
    "import pandas as pd\n",
    "import itertools\n",
    "from Pricing.SABR import SABR_model\n",
    "from Pricing.black_pricing import BSPricer_SABR\n",
    "from Pricing.pdf_calculation import numerical_pdf\n",
    "from Pricing.cdf_calculation import numerical_cdf\n",
    "from matplotlib import pyplot as plt\n",
    "from Pricing.arbitrage_check import arbitrage_check"
   ]
  },
  {
   "cell_type": "code",
   "execution_count": 15,
   "metadata": {},
   "outputs": [],
   "source": [
    "F=[0.02,0.02]\n",
    "vol=0.4\n",
    "beta=0.9\n",
    "rho=0\n",
    "nu=0.5\n",
    "alpha = 0.4 * math.pow(F[0],(1-beta))\n",
    "expiry=np.array([5,20])\n",
    "spread = np.arange(-0.02,0.1,0.01)\n",
    "K = [[0 for y in range(len(spread))] for x in range(len(F))]\n",
    "\n",
    "for i in range(len(F)):\n",
    "    for j in range(len(spread)):\n",
    "        K[i][j]=F[i]+spread[j]        \n",
    "K=np.array(K)\n",
    "#K"
   ]
  },
  {
   "cell_type": "code",
   "execution_count": 16,
   "metadata": {},
   "outputs": [
    {
     "name": "stdout",
     "output_type": "stream",
     "text": [
      "Lognormal implied vols using Lognormal Hagan:\n"
     ]
    },
    {
     "data": {
      "text/html": [
       "<div>\n",
       "<style>\n",
       "    .dataframe thead tr:only-child th {\n",
       "        text-align: right;\n",
       "    }\n",
       "\n",
       "    .dataframe thead th {\n",
       "        text-align: left;\n",
       "    }\n",
       "\n",
       "    .dataframe tbody tr th {\n",
       "        vertical-align: top;\n",
       "    }\n",
       "</style>\n",
       "<table border=\"1\" class=\"dataframe\">\n",
       "  <thead>\n",
       "    <tr style=\"text-align: right;\">\n",
       "      <th></th>\n",
       "      <th>0</th>\n",
       "      <th>1</th>\n",
       "      <th>2</th>\n",
       "      <th>3</th>\n",
       "      <th>4</th>\n",
       "      <th>5</th>\n",
       "      <th>6</th>\n",
       "      <th>7</th>\n",
       "      <th>8</th>\n",
       "      <th>9</th>\n",
       "      <th>10</th>\n",
       "      <th>11</th>\n",
       "    </tr>\n",
       "  </thead>\n",
       "  <tbody>\n",
       "    <tr>\n",
       "      <th>0</th>\n",
       "      <td>0.873589</td>\n",
       "      <td>0.490319</td>\n",
       "      <td>0.440997</td>\n",
       "      <td>0.453034</td>\n",
       "      <td>0.476898</td>\n",
       "      <td>0.500426</td>\n",
       "      <td>0.521532</td>\n",
       "      <td>0.540182</td>\n",
       "      <td>0.556714</td>\n",
       "      <td>0.571479</td>\n",
       "      <td>0.584778</td>\n",
       "      <td>0.596851</td>\n",
       "    </tr>\n",
       "    <tr>\n",
       "      <th>1</th>\n",
       "      <td>1.121798</td>\n",
       "      <td>0.629515</td>\n",
       "      <td>0.566167</td>\n",
       "      <td>0.581606</td>\n",
       "      <td>0.612233</td>\n",
       "      <td>0.642430</td>\n",
       "      <td>0.669518</td>\n",
       "      <td>0.693454</td>\n",
       "      <td>0.714671</td>\n",
       "      <td>0.733622</td>\n",
       "      <td>0.750690</td>\n",
       "      <td>0.766183</td>\n",
       "    </tr>\n",
       "  </tbody>\n",
       "</table>\n",
       "</div>"
      ],
      "text/plain": [
       "         0         1         2         3         4         5         6   \\\n",
       "0  0.873589  0.490319  0.440997  0.453034  0.476898  0.500426  0.521532   \n",
       "1  1.121798  0.629515  0.566167  0.581606  0.612233  0.642430  0.669518   \n",
       "\n",
       "         7         8         9         10        11  \n",
       "0  0.540182  0.556714  0.571479  0.584778  0.596851  \n",
       "1  0.693454  0.714671  0.733622  0.750690  0.766183  "
      ]
     },
     "execution_count": 16,
     "metadata": {},
     "output_type": "execute_result"
    }
   ],
   "source": [
    "ivol = []\n",
    "sabr=SABR_model(beta,rho,nu)\n",
    "vols = sabr.ivol_matrix_validation(alpha,F,K,expiry,method='Hagan_ln')\n",
    "print('Lognormal implied vols using Lognormal Hagan:')\n",
    "vols"
   ]
  },
  {
   "cell_type": "code",
   "execution_count": 17,
   "metadata": {},
   "outputs": [
    {
     "name": "stdout",
     "output_type": "stream",
     "text": [
      "price:\n",
      "[[ 0.01916817  0.01177092  0.00725819  0.00520018  0.00421931  0.00366848\n",
      "   0.00331681  0.00307161  0.00288981  0.00274883  0.00263575  0.00254264]\n",
      " [ 0.01995302  0.01767179  0.01578862  0.01522534  0.01520776  0.0153437\n",
      "   0.01551537  0.01568738  0.01584905  0.01599777  0.01613364  0.0162577 ]]\n",
      "price_plus:\n",
      "[[ 0.01908457  0.01170995  0.00722811  0.00518671  0.00421226  0.0036642\n",
      "   0.00331393  0.00306953  0.00288822  0.00274757  0.00263473  0.00254179]\n",
      " [ 0.01994383  0.0176461   0.01577766  0.01522352  0.01520868  0.01534534\n",
      "   0.01551711  0.01568905  0.01585061  0.01599919  0.01613494  0.01625889]]\n"
     ]
    }
   ],
   "source": [
    "h=0.0001\n",
    "bs=BSPricer_SABR(beta,rho,nu)\n",
    "price=bs.BS_matrix(alpha,F,K,expiry,1,0,'Hagan_ln')\n",
    "price_plus=bs.BS_matrix(alpha,F,K+h,expiry,1,0,'Hagan_ln')\n",
    "print('price:')\n",
    "print(price)\n",
    "print('price_plus:')\n",
    "print(price_plus)"
   ]
  },
  {
   "cell_type": "code",
   "execution_count": 18,
   "metadata": {},
   "outputs": [
    {
     "data": {
      "text/plain": [
       "array([[-0.836008  , -0.60975818, -0.30080751, -0.1346698 , -0.07051496,\n",
       "        -0.04280521, -0.02880858, -0.02082499, -0.01584553, -0.01252546,\n",
       "        -0.0101956 , -0.00849346],\n",
       "       [-0.09194396, -0.25698625, -0.10951953, -0.01823893,  0.00922848,\n",
       "         0.01635546,  0.01747818,  0.01676237,  0.01552456,  0.01421021,\n",
       "         0.01297068,  0.01185099]])"
      ]
     },
     "execution_count": 18,
     "metadata": {},
     "output_type": "execute_result"
    }
   ],
   "source": [
    "(price_plus-price)/h"
   ]
  },
  {
   "cell_type": "code",
   "execution_count": 19,
   "metadata": {},
   "outputs": [
    {
     "data": {
      "text/plain": [
       "array([[ 0.836008  ,  0.60975818,  0.30080751,  0.1346698 ,  0.07051496,\n",
       "         0.04280521,  0.02880858,  0.02082499,  0.01584553,  0.01252546,\n",
       "         0.0101956 ,  0.00849346],\n",
       "       [ 0.09194396,  0.25698625,  0.10951953,  0.01823893, -0.00922848,\n",
       "        -0.01635546, -0.01747818, -0.01676237, -0.01552456, -0.01421021,\n",
       "        -0.01297068, -0.01185099]])"
      ]
     },
     "execution_count": 19,
     "metadata": {},
     "output_type": "execute_result"
    }
   ],
   "source": [
    "cdf=numerical_cdf(alpha,beta,rho,nu,F,K,expiry,1,0,0.0001,'Hagan_ln')\n",
    "cdf"
   ]
  },
  {
   "cell_type": "code",
   "execution_count": 11,
   "metadata": {},
   "outputs": [
    {
     "name": "stdout",
     "output_type": "stream",
     "text": [
      "SABR volatility method: Hagan_ln\n",
      "Expiry= 5 Strike price= 0.001 c.d.f= -0.83069793353 p.d.f= -830.69793353 Yes\n",
      "Expiry= 5 Strike price= 0.002 c.d.f= -0.816058975267 p.d.f= -816.058975267 Yes\n",
      "Expiry= 5 Strike price= 0.003 c.d.f= -0.79874387432 p.d.f= -798.74387432 Yes\n",
      "Expiry= 5 Strike price= 0.004 c.d.f= -0.779486696635 p.d.f= -779.486696635 Yes\n",
      "Expiry= 5 Strike price= 0.005 c.d.f= -0.758420192885 p.d.f= -758.420192885 Yes\n",
      "Expiry= 5 Strike price= 0.006 c.d.f= -0.735555510651 p.d.f= -735.555510651 Yes\n",
      "Expiry= 5 Strike price= 0.007 c.d.f= -0.710890709811 p.d.f= -710.890709811 Yes\n",
      "Expiry= 5 Strike price= 0.008 c.d.f= -0.684452018137 p.d.f= -684.452018137 Yes\n",
      "Expiry= 5 Strike price= 0.009 c.d.f= -0.65631645245 p.d.f= -656.31645245 Yes\n",
      "Expiry= 5 Strike price= 0.01 c.d.f= -0.626626202734 p.d.f= -626.626202734 Yes\n",
      "Expiry= 5 Strike price= 0.011 c.d.f= -0.595596311736 p.d.f= -595.596311736 Yes\n",
      "Expiry= 5 Strike price= 0.012 c.d.f= -0.563514786202 p.d.f= -563.514786202 Yes\n",
      "Expiry= 5 Strike price= 0.013 c.d.f= -0.530734126246 p.d.f= -530.734126246 Yes\n",
      "Expiry= 5 Strike price= 0.014 c.d.f= -0.497654288432 p.d.f= -497.654288432 Yes\n",
      "Expiry= 5 Strike price= 0.015 c.d.f= -0.46469872436 p.d.f= -464.69872436 Yes\n",
      "Expiry= 5 Strike price= 0.016 c.d.f= -0.432286728834 p.d.f= -432.286728834 Yes\n",
      "Expiry= 5 Strike price= 0.017 c.d.f= -0.400806257361 p.d.f= -400.806257361 Yes\n",
      "Expiry= 5 Strike price= 0.018 c.d.f= -0.370591240632 p.d.f= -370.591240632 Yes\n",
      "Expiry= 5 Strike price= 0.019 c.d.f= -0.341906270874 p.d.f= -341.906270874 Yes\n",
      "Expiry= 5 Strike price= 0.02 c.d.f= -0.31493979834 p.d.f= -314.93979834 Yes\n",
      "Expiry= 5 Strike price= 0.021 c.d.f= -0.2898052566 p.d.f= -289.8052566 Yes\n",
      "Expiry= 5 Strike price= 0.022 c.d.f= -0.26654831463 p.d.f= -266.54831463 Yes\n",
      "Expiry= 5 Strike price= 0.023 c.d.f= -0.245157928868 p.d.f= -245.157928868 Yes\n",
      "Expiry= 5 Strike price= 0.024 c.d.f= -0.225578960835 p.d.f= -225.578960835 Yes\n",
      "Expiry= 5 Strike price= 0.025 c.d.f= -0.207724603705 p.d.f= -207.724603705 Yes\n",
      "Expiry= 5 Strike price= 0.026 c.d.f= -0.191487475127 p.d.f= -191.487475127 Yes\n",
      "Expiry= 5 Strike price= 0.027 c.d.f= -0.176748802442 p.d.f= -176.748802442 Yes\n",
      "Expiry= 5 Strike price= 0.028 c.d.f= -0.163385558361 p.d.f= -163.385558361 Yes\n",
      "Expiry= 5 Strike price= 0.029 c.d.f= -0.151275681476 p.d.f= -151.275681476 Yes\n",
      "Expiry= 5 Strike price= 0.03 c.d.f= -0.140301658926 p.d.f= -140.301658926 Yes\n",
      "Expiry= 5 Strike price= 0.031 c.d.f= -0.130352796346 p.d.f= -130.352796346 Yes\n",
      "Expiry= 5 Strike price= 0.032 c.d.f= -0.12132648952 p.d.f= -121.32648952 Yes\n",
      "Expiry= 5 Strike price= 0.033 c.d.f= -0.11312877169 p.d.f= -113.12877169 Yes\n",
      "Expiry= 5 Strike price= 0.034 c.d.f= -0.105674359388 p.d.f= -105.674359388 Yes\n",
      "Expiry= 5 Strike price= 0.035 c.d.f= -0.0988863691436 p.d.f= -98.8863691436 Yes\n",
      "Expiry= 5 Strike price= 0.036 c.d.f= -0.0926958330138 p.d.f= -92.6958330138 Yes\n",
      "Expiry= 5 Strike price= 0.037 c.d.f= -0.0870411045369 p.d.f= -87.0411045369 Yes\n",
      "Expiry= 5 Strike price= 0.038 c.d.f= -0.0818672183864 p.d.f= -81.8672183864 Yes\n",
      "Expiry= 5 Strike price= 0.039 c.d.f= -0.077125245785 p.d.f= -77.125245785 Yes\n",
      "Expiry= 5 Strike price= 0.04 c.d.f= -0.0727716722862 p.d.f= -72.7716722862 Yes\n",
      "Expiry= 5 Strike price= 0.041 c.d.f= -0.0687678136191 p.d.f= -68.7678136191 Yes\n",
      "Expiry= 5 Strike price= 0.042 c.d.f= -0.0650792777753 p.d.f= -65.0792777753 Yes\n",
      "Expiry= 5 Strike price= 0.043 c.d.f= -0.0616754765007 p.d.f= -61.6754765007 Yes\n",
      "Expiry= 5 Strike price= 0.044 c.d.f= -0.0585291861181 p.d.f= -58.5291861181 Yes\n",
      "Expiry= 5 Strike price= 0.045 c.d.f= -0.0556161556258 p.d.f= -55.6161556258 Yes\n",
      "Expiry= 5 Strike price= 0.046 c.d.f= -0.0529147588887 p.d.f= -52.9147588887 Yes\n",
      "Expiry= 5 Strike price= 0.047 c.d.f= -0.050405687189 p.d.f= -50.405687189 Yes\n",
      "Expiry= 5 Strike price= 0.048 c.d.f= -0.0480716782246 p.d.f= -48.0716782246 Yes\n",
      "Expiry= 5 Strike price= 0.049 c.d.f= -0.0458972777026 p.d.f= -45.8972777026 Yes\n",
      "Expiry= 5 Strike price= 0.05 c.d.f= -0.0438686298704 p.d.f= -43.8686298704 Yes\n",
      "Expiry= 5 Strike price= 0.051 c.d.f= -0.0419732936055 p.d.f= -41.9732936055 Yes\n",
      "Expiry= 5 Strike price= 0.052 c.d.f= -0.0402000809851 p.d.f= -40.2000809851 Yes\n",
      "Expiry= 5 Strike price= 0.053 c.d.f= -0.0385389155788 p.d.f= -38.5389155788 Yes\n",
      "Expiry= 5 Strike price= 0.054 c.d.f= -0.0369807080065 p.d.f= -36.9807080065 Yes\n",
      "Expiry= 5 Strike price= 0.055 c.d.f= -0.0355172465937 p.d.f= -35.5172465937 Yes\n",
      "Expiry= 5 Strike price= 0.056 c.d.f= -0.0341411012163 p.d.f= -34.1411012163 Yes\n",
      "Expiry= 5 Strike price= 0.057 c.d.f= -0.0328455386662 p.d.f= -32.8455386662 Yes\n",
      "Expiry= 5 Strike price= 0.058 c.d.f= -0.0316244480779 p.d.f= -31.6244480779 Yes\n",
      "Expiry= 5 Strike price= 0.059 c.d.f= -0.0304722751457 p.d.f= -30.4722751457 Yes\n",
      "Expiry= 5 Strike price= 0.06 c.d.f= -0.0293839640242 p.d.f= -29.3839640242 Yes\n",
      "Expiry= 5 Strike price= 0.061 c.d.f= -0.0283549059496 p.d.f= -28.3549059496 Yes\n",
      "Expiry= 5 Strike price= 0.062 c.d.f= -0.0273808937433 p.d.f= -27.3808937433 Yes\n",
      "Expiry= 5 Strike price= 0.063 c.d.f= -0.0264580814717 p.d.f= -26.4580814717 Yes\n",
      "Expiry= 5 Strike price= 0.064 c.d.f= -0.025582948627 p.d.f= -25.582948627 Yes\n",
      "Expiry= 5 Strike price= 0.065 c.d.f= -0.0247522682788 p.d.f= -24.7522682788 Yes\n",
      "Expiry= 5 Strike price= 0.066 c.d.f= -0.0239630787172 p.d.f= -23.9630787172 Yes\n",
      "Expiry= 5 Strike price= 0.067 c.d.f= -0.0232126581685 p.d.f= -23.2126581685 Yes\n",
      "Expiry= 5 Strike price= 0.068 c.d.f= -0.0224985022193 p.d.f= -22.4985022193 Yes\n",
      "Expiry= 5 Strike price= 0.069 c.d.f= -0.0218183036315 p.d.f= -21.8183036315 Yes\n",
      "Expiry= 5 Strike price= 0.07 c.d.f= -0.021169934269 p.d.f= -21.169934269 Yes\n",
      "Expiry= 5 Strike price= 0.071 c.d.f= -0.020551428894 p.d.f= -20.551428894 Yes\n",
      "Expiry= 5 Strike price= 0.072 c.d.f= -0.0199609706184 p.d.f= -19.9609706184 Yes\n",
      "Expiry= 5 Strike price= 0.073 c.d.f= -0.0193968778261 p.d.f= -19.3968778261 Yes\n",
      "Expiry= 5 Strike price= 0.074 c.d.f= -0.0188575923988 p.d.f= -18.8575923988 Yes\n",
      "Expiry= 5 Strike price= 0.075 c.d.f= -0.0183416691046 p.d.f= -18.3416691046 Yes\n",
      "Expiry= 5 Strike price= 0.076 c.d.f= -0.0178477660198 p.d.f= -17.8477660198 Yes\n",
      "Expiry= 5 Strike price= 0.077 c.d.f= -0.0173746358739 p.d.f= -17.3746358739 Yes\n",
      "Expiry= 5 Strike price= 0.078 c.d.f= -0.0169211182189 p.d.f= -16.9211182189 Yes\n",
      "Expiry= 5 Strike price= 0.079 c.d.f= -0.0164861323343 p.d.f= -16.4861323343 Yes\n",
      "Expiry= 5 Strike price= 0.08 c.d.f= -0.0160686707929 p.d.f= -16.0686707929 Yes\n",
      "Expiry= 5 Strike price= 0.081 c.d.f= -0.0156677936176 p.d.f= -15.6677936176 Yes\n",
      "Expiry= 5 Strike price= 0.082 c.d.f= -0.0152826229694 p.d.f= -15.2826229694 Yes\n",
      "Expiry= 5 Strike price= 0.083 c.d.f= -0.0149123383124 p.d.f= -14.9123383124 Yes\n",
      "Expiry= 5 Strike price= 0.084 c.d.f= -0.014556172008 p.d.f= -14.556172008 Yes\n",
      "Expiry= 5 Strike price= 0.085 c.d.f= -0.0142134052964 p.d.f= -14.2134052964 Yes\n",
      "Expiry= 5 Strike price= 0.086 c.d.f= -0.0138833646263 p.d.f= -13.8833646263 Yes\n",
      "Expiry= 5 Strike price= 0.087 c.d.f= -0.0135654183004 p.d.f= -13.5654183004 Yes\n",
      "Expiry= 5 Strike price= 0.088 c.d.f= -0.0132589734053 p.d.f= -13.2589734053 Yes\n",
      "Expiry= 5 Strike price= 0.089 c.d.f= -0.012963472999 p.d.f= -12.963472999 Yes\n",
      "Expiry= 5 Strike price= 0.09 c.d.f= -0.0126783935323 p.d.f= -12.6783935323 Yes\n",
      "Expiry= 5 Strike price= 0.091 c.d.f= -0.0124032424815 p.d.f= -12.4032424815 Yes\n",
      "Expiry= 5 Strike price= 0.092 c.d.f= -0.0121375561744 p.d.f= -12.1375561744 Yes\n",
      "Expiry= 5 Strike price= 0.093 c.d.f= -0.0118808977898 p.d.f= -11.8808977898 Yes\n",
      "Expiry= 5 Strike price= 0.094 c.d.f= -0.0116328555171 p.d.f= -11.6328555171 Yes\n",
      "Expiry= 5 Strike price= 0.095 c.d.f= -0.01139304086 p.d.f= -11.39304086 Yes\n",
      "Expiry= 5 Strike price= 0.096 c.d.f= -0.011161087073 p.d.f= -11.161087073 Yes\n",
      "Expiry= 5 Strike price= 0.097 c.d.f= -0.0109366477178 p.d.f= -10.9366477178 Yes\n",
      "Expiry= 5 Strike price= 0.098 c.d.f= -0.0107193953298 p.d.f= -10.7193953298 Yes\n",
      "Expiry= 5 Strike price= 0.099 c.d.f= -0.0105090201859 p.d.f= -10.5090201859 Yes\n",
      "Expiry= 5 Strike price= 0.1 c.d.f= -0.0103052291634 p.d.f= -10.3052291634 Yes\n",
      "Expiry= 5 Strike price= 0.101 c.d.f= -0.0101077446841 p.d.f= -10.1077446841 Yes\n",
      "Expiry= 5 Strike price= 0.102 c.d.f= -0.00991630373525 p.d.f= -9.91630373525 Yes\n",
      "Expiry= 5 Strike price= 0.103 c.d.f= -0.00973065696184 p.d.f= -9.73065696184 Yes\n",
      "Expiry= 5 Strike price= 0.104 c.d.f= -0.0095505678236 p.d.f= -9.5505678236 Yes\n",
      "Expiry= 5 Strike price= 0.105 c.d.f= -0.00937581181238 p.d.f= -9.37581181238 Yes\n",
      "Expiry= 5 Strike price= 0.106 c.d.f= -0.00920617572424 p.d.f= -9.20617572424 Yes\n",
      "Expiry= 5 Strike price= 0.107 c.d.f= -0.0090414569826 p.d.f= -9.0414569826 Yes\n",
      "Expiry= 5 Strike price= 0.108 c.d.f= -0.00888146300786 p.d.f= -8.88146300786 Yes\n",
      "Expiry= 5 Strike price= 0.109 c.d.f= -0.00872601063037 p.d.f= -8.72601063037 Yes\n",
      "Expiry= 5 Strike price= 0.11 c.d.f= -0.00857492554297 p.d.f= -8.57492554297 Yes\n",
      "Expiry= 5 Strike price= 0.111 c.d.f= -0.00842804179047 p.d.f= -8.42804179047 Yes\n",
      "Expiry= 5 Strike price= 0.112 c.d.f= -0.00828520129287 p.d.f= -8.28520129287 Yes\n",
      "Expiry= 5 Strike price= 0.113 c.d.f= -0.00814625340021 p.d.f= -8.14625340021 Yes\n",
      "Expiry= 5 Strike price= 0.114 c.d.f= -0.00801105447632 p.d.f= -8.01105447632 Yes\n",
      "Expiry= 5 Strike price= 0.115 c.d.f= -0.00787946750962 p.d.f= -7.87946750962 Yes\n",
      "Expiry= 5 Strike price= 0.116 c.d.f= -0.00775136174877 p.d.f= -7.75136174877 Yes\n",
      "Expiry= 5 Strike price= 0.117 c.d.f= -0.00762661236155 p.d.f= -7.62661236155 Yes\n",
      "Expiry= 5 Strike price= 0.118 c.d.f= -0.0075051001152 p.d.f= -7.5051001152 Yes\n",
      "Expiry= 5 Strike price= 0.119 c.d.f= -0.00738671107681 p.d.f= -7.38671107681 Yes\n",
      "Expiry= 5 Strike price= 0.12 c.d.f= -0.00727133633198 p.d.f= -7.27133633198 Yes\n",
      "Expiry= 20 Strike price= 0.001 c.d.f= -0.119223049426 p.d.f= -119.223049426 Yes\n",
      "Expiry= 20 Strike price= 0.002 c.d.f= -0.167708562962 p.d.f= -167.708562962 Yes\n",
      "Expiry= 20 Strike price= 0.003 c.d.f= -0.202531344569 p.d.f= -202.531344569 Yes\n",
      "Expiry= 20 Strike price= 0.004 c.d.f= -0.227897443129 p.d.f= -227.897443129 Yes\n",
      "Expiry= 20 Strike price= 0.005 c.d.f= -0.245989717279 p.d.f= -245.989717279 Yes\n",
      "Expiry= 20 Strike price= 0.006 c.d.f= -0.258105831615 p.d.f= -258.105831615 Yes\n",
      "Expiry= 20 Strike price= 0.007 c.d.f= -0.2650992359 p.d.f= -265.0992359 Yes\n",
      "Expiry= 20 Strike price= 0.008 c.d.f= -0.267589151017 p.d.f= -267.589151017 Yes\n",
      "Expiry= 20 Strike price= 0.009 c.d.f= -0.266075755649 p.d.f= -266.075755649 Yes\n",
      "Expiry= 20 Strike price= 0.01 c.d.f= -0.261009287522 p.d.f= -261.009287522 Yes\n",
      "Expiry= 20 Strike price= 0.011 c.d.f= -0.252832368063 p.d.f= -252.832368063 Yes\n",
      "Expiry= 20 Strike price= 0.012 c.d.f= -0.242003507053 p.d.f= -242.003507053 Yes\n",
      "Expiry= 20 Strike price= 0.013 c.d.f= -0.229005360589 p.d.f= -229.005360589 Yes\n",
      "Expiry= 20 Strike price= 0.014 c.d.f= -0.214340182493 p.d.f= -214.340182493 Yes\n",
      "Expiry= 20 Strike price= 0.015 c.d.f= -0.198515372379 p.d.f= -198.515372379 Yes\n",
      "Expiry= 20 Strike price= 0.016 c.d.f= -0.182022994247 p.d.f= -182.022994247 Yes\n",
      "Expiry= 20 Strike price= 0.017 c.d.f= -0.165317770065 p.d.f= -165.317770065 Yes\n",
      "Expiry= 20 Strike price= 0.018 c.d.f= -0.148797826808 p.d.f= -148.797826808 Yes\n",
      "Expiry= 20 Strike price= 0.019 c.d.f= -0.132791336327 p.d.f= -132.791336327 Yes\n",
      "Expiry= 20 Strike price= 0.02 c.d.f= -0.117550496904 p.d.f= -117.550496904 Yes\n",
      "Expiry= 20 Strike price= 0.021 c.d.f= -0.103252613881 p.d.f= -103.252613881 Yes\n",
      "Expiry= 20 Strike price= 0.022 c.d.f= -0.0900068035471 p.d.f= -90.0068035471 Yes\n",
      "Expiry= 20 Strike price= 0.023 c.d.f= -0.0778642692606 p.d.f= -77.8642692606 Yes\n",
      "Expiry= 20 Strike price= 0.024 c.d.f= -0.0668301189479 p.d.f= -66.8301189479 Yes\n",
      "Expiry= 20 Strike price= 0.025 c.d.f= -0.0568750956381 p.d.f= -56.8750956381 Yes\n",
      "Expiry= 20 Strike price= 0.026 c.d.f= -0.0479461422156 p.d.f= -47.9461422156 Yes\n",
      "Expiry= 20 Strike price= 0.027 c.d.f= -0.0399752430385 p.d.f= -39.9752430385 Yes\n",
      "Expiry= 20 Strike price= 0.028 c.d.f= -0.0328863874287 p.d.f= -32.8863874287 Yes\n",
      "Expiry= 20 Strike price= 0.029 c.d.f= -0.0266007610763 p.d.f= -26.6007610763 Yes\n",
      "Expiry= 20 Strike price= 0.03 c.d.f= -0.0210404094814 p.d.f= -21.0404094814 Yes\n",
      "Expiry= 20 Strike price= 0.031 c.d.f= -0.0161306665721 p.d.f= -16.1306665721 Yes\n",
      "Expiry= 20 Strike price= 0.032 c.d.f= -0.0118016353668 p.d.f= -11.8016353668 Yes\n",
      "Expiry= 20 Strike price= 0.033 c.d.f= -0.00798897259622 p.d.f= -7.98897259622 Yes\n",
      "Expiry= 20 Strike price= 0.034 c.d.f= -0.00463418354044 p.d.f= -4.63418354044 Yes\n",
      "Expiry= 20 Strike price= 0.035 c.d.f= -0.00168458757072 p.d.f= -1.68458757072 Yes\n",
      "Expiry= 20 Strike price= 0.036 c.d.f= 0.000906925663258 p.d.f= 0.906925663258 No\n",
      "Expiry= 20 Strike price= 0.037 c.d.f= 0.00318226283631 p.d.f= 3.18226283631 No\n",
      "Expiry= 20 Strike price= 0.038 c.d.f= 0.00517855589144 p.d.f= 5.17855589144 No\n",
      "Expiry= 20 Strike price= 0.039 c.d.f= 0.00692861254682 p.d.f= 6.92861254682 No\n",
      "Expiry= 20 Strike price= 0.04 c.d.f= 0.00846136196176 p.d.f= 8.46136196176 No\n",
      "Expiry= 20 Strike price= 0.041 c.d.f= 0.00980227938042 p.d.f= 9.80227938042 No\n",
      "Expiry= 20 Strike price= 0.042 c.d.f= 0.0109737806566 p.d.f= 10.9737806566 No\n",
      "Expiry= 20 Strike price= 0.043 c.d.f= 0.0119955823478 p.d.f= 11.9955823478 No\n",
      "Expiry= 20 Strike price= 0.044 c.d.f= 0.012885026191 p.d.f= 12.885026191 No\n",
      "Expiry= 20 Strike price= 0.045 c.d.f= 0.0136573687401 p.d.f= 13.6573687401 No\n",
      "Expiry= 20 Strike price= 0.046 c.d.f= 0.0143260381037 p.d.f= 14.3260381037 No\n",
      "Expiry= 20 Strike price= 0.047 c.d.f= 0.0149028603446 p.d.f= 14.9028603446 No\n",
      "Expiry= 20 Strike price= 0.048 c.d.f= 0.0153982583641 p.d.f= 15.3982583641 No\n",
      "Expiry= 20 Strike price= 0.049 c.d.f= 0.0158214261335 p.d.f= 15.8214261335 No\n",
      "Expiry= 20 Strike price= 0.05 c.d.f= 0.0161804810316 p.d.f= 16.1804810316 No\n",
      "Expiry= 20 Strike price= 0.051 c.d.f= 0.0164825968651 p.d.f= 16.4825968651 No\n",
      "Expiry= 20 Strike price= 0.052 c.d.f= 0.0167341199319 p.d.f= 16.7341199319 No\n",
      "Expiry= 20 Strike price= 0.053 c.d.f= 0.0169406702484 p.d.f= 16.9406702484 No\n",
      "Expiry= 20 Strike price= 0.054 c.d.f= 0.0171072298361 p.d.f= 17.1072298361 No\n",
      "Expiry= 20 Strike price= 0.055 c.d.f= 0.0172382197356 p.d.f= 17.2382197356 No\n",
      "Expiry= 20 Strike price= 0.056 c.d.f= 0.017337567219 p.d.f= 17.337567219 No\n",
      "Expiry= 20 Strike price= 0.057 c.d.f= 0.0174087644826 p.d.f= 17.4087644826 No\n",
      "Expiry= 20 Strike price= 0.058 c.d.f= 0.0174549199374 p.d.f= 17.4549199374 No\n",
      "Expiry= 20 Strike price= 0.059 c.d.f= 0.0174788030712 p.d.f= 17.4788030712 No\n",
      "Expiry= 20 Strike price= 0.06 c.d.f= 0.0174828837231 p.d.f= 17.4828837231 No\n",
      "Expiry= 20 Strike price= 0.061 c.d.f= 0.0174693665023 p.d.f= 17.4693665023 No\n",
      "Expiry= 20 Strike price= 0.062 c.d.f= 0.0174402209839 p.d.f= 17.4402209839 No\n",
      "Expiry= 20 Strike price= 0.063 c.d.f= 0.017397208228 p.d.f= 17.397208228 No\n",
      "Expiry= 20 Strike price= 0.064 c.d.f= 0.0173419040976 p.d.f= 17.3419040976 No\n",
      "Expiry= 20 Strike price= 0.065 c.d.f= 0.0172757197852 p.d.f= 17.2757197852 No\n",
      "Expiry= 20 Strike price= 0.066 c.d.f= 0.0171999199021 p.d.f= 17.1999199021 No\n",
      "Expiry= 20 Strike price= 0.067 c.d.f= 0.0171156384409 p.d.f= 17.1156384409 No\n",
      "Expiry= 20 Strike price= 0.068 c.d.f= 0.0170238928755 p.d.f= 17.0238928755 No\n",
      "Expiry= 20 Strike price= 0.069 c.d.f= 0.0169255966324 p.d.f= 16.9255966324 No\n",
      "Expiry= 20 Strike price= 0.07 c.d.f= 0.016821570133 p.d.f= 16.821570133 No\n",
      "Expiry= 20 Strike price= 0.071 c.d.f= 0.0167125505833 p.d.f= 16.7125505833 No\n",
      "Expiry= 20 Strike price= 0.072 c.d.f= 0.016599200661 p.d.f= 16.599200661 No\n",
      "Expiry= 20 Strike price= 0.073 c.d.f= 0.0164821162357 p.d.f= 16.4821162357 No\n",
      "Expiry= 20 Strike price= 0.074 c.d.f= 0.0163618332349 p.d.f= 16.3618332349 No\n",
      "Expiry= 20 Strike price= 0.075 c.d.f= 0.0162388337581 p.d.f= 16.2388337581 No\n",
      "Expiry= 20 Strike price= 0.076 c.d.f= 0.0161135515278 p.d.f= 16.1135515278 No\n",
      "Expiry= 20 Strike price= 0.077 c.d.f= 0.0159863767533 p.d.f= 15.9863767533 No\n",
      "Expiry= 20 Strike price= 0.078 c.d.f= 0.0158576604753 p.d.f= 15.8576604753 No\n",
      "Expiry= 20 Strike price= 0.079 c.d.f= 0.0157277184515 p.d.f= 15.7277184515 No\n",
      "Expiry= 20 Strike price= 0.08 c.d.f= 0.0155968346344 p.d.f= 15.5968346344 No\n",
      "Expiry= 20 Strike price= 0.081 c.d.f= 0.0154652642868 p.d.f= 15.4652642868 No\n",
      "Expiry= 20 Strike price= 0.082 c.d.f= 0.0153332367759 p.d.f= 15.3332367759 No\n",
      "Expiry= 20 Strike price= 0.083 c.d.f= 0.015200958082 p.d.f= 15.200958082 No\n",
      "Expiry= 20 Strike price= 0.084 c.d.f= 0.0150686130519 p.d.f= 15.0686130519 No\n",
      "Expiry= 20 Strike price= 0.085 c.d.f= 0.0149363674245 p.d.f= 14.9363674245 No\n",
      "Expiry= 20 Strike price= 0.086 c.d.f= 0.0148043696554 p.d.f= 14.8043696554 No\n",
      "Expiry= 20 Strike price= 0.087 c.d.f= 0.0146727525587 p.d.f= 14.6727525587 No\n",
      "Expiry= 20 Strike price= 0.088 c.d.f= 0.0145416347881 p.d.f= 14.5416347881 No\n",
      "Expiry= 20 Strike price= 0.089 c.d.f= 0.0144111221725 p.d.f= 14.4111221725 No\n",
      "Expiry= 20 Strike price= 0.09 c.d.f= 0.0142813089219 p.d.f= 14.2813089219 No\n",
      "Expiry= 20 Strike price= 0.091 c.d.f= 0.0141522787171 p.d.f= 14.1522787171 No\n",
      "Expiry= 20 Strike price= 0.092 c.d.f= 0.0140241056944 p.d.f= 14.0241056944 No\n",
      "Expiry= 20 Strike price= 0.093 c.d.f= 0.013896855337 p.d.f= 13.896855337 No\n",
      "Expiry= 20 Strike price= 0.094 c.d.f= 0.0137705852819 p.d.f= 13.7705852819 No\n",
      "Expiry= 20 Strike price= 0.095 c.d.f= 0.0136453460505 p.d.f= 13.6453460505 No\n",
      "Expiry= 20 Strike price= 0.096 c.d.f= 0.0135211817109 p.d.f= 13.5211817109 No\n",
      "Expiry= 20 Strike price= 0.097 c.d.f= 0.0133981304792 p.d.f= 13.3981304792 No\n",
      "Expiry= 20 Strike price= 0.098 c.d.f= 0.0132762252643 p.d.f= 13.2762252643 No\n",
      "Expiry= 20 Strike price= 0.099 c.d.f= 0.0131554941629 p.d.f= 13.1554941629 No\n",
      "Expiry= 20 Strike price= 0.1 c.d.f= 0.0130359609091 p.d.f= 13.0359609091 No\n",
      "Expiry= 20 Strike price= 0.101 c.d.f= 0.0129176452836 p.d.f= 12.9176452836 No\n",
      "Expiry= 20 Strike price= 0.102 c.d.f= 0.0128005634843 p.d.f= 12.8005634843 No\n",
      "Expiry= 20 Strike price= 0.103 c.d.f= 0.0126847284649 p.d.f= 12.6847284649 No\n",
      "Expiry= 20 Strike price= 0.104 c.d.f= 0.0125701502426 p.d.f= 12.5701502426 No\n"
     ]
    },
    {
     "name": "stdout",
     "output_type": "stream",
     "text": [
      "Expiry= 20 Strike price= 0.105 c.d.f= 0.0124568361773 p.d.f= 12.4568361773 No\n",
      "Expiry= 20 Strike price= 0.106 c.d.f= 0.0123447912273 p.d.f= 12.3447912273 No\n",
      "Expiry= 20 Strike price= 0.107 c.d.f= 0.0122340181811 p.d.f= 12.2340181811 No\n",
      "Expiry= 20 Strike price= 0.108 c.d.f= 0.0121245178693 p.d.f= 12.1245178693 No\n",
      "Expiry= 20 Strike price= 0.109 c.d.f= 0.012016289357 p.d.f= 12.016289357 No\n",
      "Expiry= 20 Strike price= 0.11 c.d.f= 0.0119093301202 p.d.f= 11.9093301202 No\n",
      "Expiry= 20 Strike price= 0.111 c.d.f= 0.0118036362056 p.d.f= 11.8036362056 No\n",
      "Expiry= 20 Strike price= 0.112 c.d.f= 0.0116992023773 p.d.f= 11.6992023773 No\n",
      "Expiry= 20 Strike price= 0.113 c.d.f= 0.0115960222496 p.d.f= 11.5960222496 No\n",
      "Expiry= 20 Strike price= 0.114 c.d.f= 0.0114940884091 p.d.f= 11.4940884091 No\n",
      "Expiry= 20 Strike price= 0.115 c.d.f= 0.0113933925256 p.d.f= 11.3933925256 No\n",
      "Expiry= 20 Strike price= 0.116 c.d.f= 0.0112939254528 p.d.f= 11.2939254528 No\n",
      "Expiry= 20 Strike price= 0.117 c.d.f= 0.0111956773216 p.d.f= 11.1956773216 No\n",
      "Expiry= 20 Strike price= 0.118 c.d.f= 0.0110986376235 p.d.f= 11.0986376235 No\n",
      "Expiry= 20 Strike price= 0.119 c.d.f= 0.0110027952877 p.d.f= 11.0027952877 No\n",
      "Expiry= 20 Strike price= 0.12 c.d.f= 0.0109081387515 p.d.f= 10.9081387515 No\n"
     ]
    },
    {
     "data": {
      "text/plain": [
       "array([[1, 1, 1, 1, 1, 1, 1, 1, 1, 1, 1, 1, 1, 1, 1, 1, 1, 1, 1, 1, 1, 1,\n",
       "        1, 1, 1, 1, 1, 1, 1, 1, 1, 1, 1, 1, 1, 1, 1, 1, 1, 1, 1, 1, 1, 1,\n",
       "        1, 1, 1, 1, 1, 1, 1, 1, 1, 1, 1, 1, 1, 1, 1, 1, 1, 1, 1, 1, 1, 1,\n",
       "        1, 1, 1, 1, 1, 1, 1, 1, 1, 1, 1, 1, 1, 1, 1, 1, 1, 1, 1, 1, 1, 1,\n",
       "        1, 1, 1, 1, 1, 1, 1, 1, 1, 1, 1, 1, 1, 1, 1, 1, 1, 1, 1, 1, 1, 1,\n",
       "        1, 1, 1, 1, 1, 1, 1, 1, 1, 1, 1, 1, 1, 1, 1, 1, 1, 1, 1, 1, 1, 1,\n",
       "        1, 1, 1, 1, 1, 1, 1, 1, 1, 1, 1, 1, 1, 1, 1, 1, 1, 1, 1, 1, 1, 1,\n",
       "        1, 0, 0, 0, 0, 0, 0, 0, 0, 0, 0, 0, 0, 0, 0, 0, 0, 0, 0, 0, 0, 0,\n",
       "        0, 0, 0, 0, 0, 0, 0, 0, 0, 0, 0, 0, 0, 0, 0, 0, 0, 0, 0, 0, 0, 0,\n",
       "        0, 0, 0, 0, 0, 0, 0, 0, 0, 0, 0, 0, 0, 0, 0, 0, 0, 0, 0, 0, 0, 0,\n",
       "        0, 0, 0, 0, 0, 0, 0, 0, 0, 0, 0, 0, 0, 0, 0, 0, 0, 0, 0, 0],\n",
       "       [1, 1, 1, 1, 1, 1, 1, 1, 1, 1, 1, 1, 1, 1, 1, 1, 1, 1, 1, 1, 1, 1,\n",
       "        1, 1, 1, 1, 1, 1, 1, 1, 1, 1, 1, 1, 1, 1, 1, 1, 1, 1, 1, 1, 1, 1,\n",
       "        1, 1, 1, 1, 1, 1, 1, 1, 1, 1, 1, 1, 1, 1, 1, 1, 1, 1, 1, 1, 1, 1,\n",
       "        1, 1, 1, 1, 1, 1, 1, 1, 1, 1, 1, 1, 1, 1, 1, 1, 1, 1, 1, 1, 1, 1,\n",
       "        1, 1, 1, 1, 1, 1, 1, 1, 1, 1, 1, 1, 1, 1, 1, 1, 1, 1, 1, 1, 1, 1,\n",
       "        1, 1, 1, 1, 1, 1, 1, 1, 1, 1, 1, 1, 1, 1, 1, 1, 1, 1, 1, 1, 1, 1,\n",
       "        1, 1, 1, 1, 1, 1, 1, 1, 1, 1, 1, 1, 1, 1, 1, 1, 1, 1, 1, 1, 1, 1,\n",
       "        1, 0, 0, 0, 0, 0, 0, 0, 0, 0, 0, 0, 0, 0, 0, 0, 0, 0, 0, 0, 0, 0,\n",
       "        0, 0, 0, 0, 0, 0, 0, 0, 0, 0, 0, 0, 0, 0, 0, 0, 0, 0, 0, 0, 0, 0,\n",
       "        0, 0, 0, 0, 0, 0, 0, 0, 0, 0, 0, 0, 0, 0, 0, 0, 0, 0, 0, 0, 0, 0,\n",
       "        0, 0, 0, 0, 0, 0, 0, 0, 0, 0, 0, 0, 0, 0, 0, 0, 0, 0, 0, 0]])"
      ]
     },
     "execution_count": 11,
     "metadata": {},
     "output_type": "execute_result"
    }
   ],
   "source": [
    "arb=arbitrage_check(beta,rho,nu)\n",
    "arb.arbitrage(alpha,F,K,expiry,1,0,0.001,'Hagan_ln')"
   ]
  },
  {
   "cell_type": "code",
   "execution_count": 12,
   "metadata": {
    "collapsed": true
   },
   "outputs": [],
   "source": [
    "pdf=numerical_pdf(alpha,beta,rho,nu,F,K,expiry,1,0,0.0001,'Hagan_ln')\n",
    "cdf=numerical_cdf(alpha,beta,rho,nu,F,K,expiry,1,0,0.0001,'Hagan_ln')"
   ]
  },
  {
   "cell_type": "code",
   "execution_count": 20,
   "metadata": {},
   "outputs": [
    {
     "data": {
      "image/png": "[encoded data removed]",
      "text/plain": [
       "<matplotlib.figure.Figure at 0x116bcddd8>"
      ]
     },
     "metadata": {},
     "output_type": "display_data"
    }
   ],
   "source": [
    "plt.plot(K[0],cdf[0])\n",
    "plt.xlabel('strike price')\n",
    "plt.ylabel('cdf')\n",
    "plt.title('expiry=5')\n",
    "#plt.yticks(np.arange(min(cdf[0]), max(cdf[0])+1, 0.2))\n",
    "plt.show()"
   ]
  },
  {
   "cell_type": "code",
   "execution_count": 21,
   "metadata": {},
   "outputs": [
    {
     "data": {
      "image/png": "[encoded data removed]",
      "text/plain": [
       "<matplotlib.figure.Figure at 0x116cdfac8>"
      ]
     },
     "metadata": {},
     "output_type": "display_data"
    }
   ],
   "source": [
    "plt.plot(K[1],cdf[1])\n",
    "plt.xlabel('strike price')\n",
    "plt.ylabel('cdf')\n",
    "plt.title('expiry=20')\n",
    "#plt.yticks(np.arange(min(cdf[1]), max(cdf[1])+1, 0.2))\n",
    "plt.show()"
   ]
  },
  {
   "cell_type": "code",
   "execution_count": 85,
   "metadata": {},
   "outputs": [
    {
     "data": {
      "image/png": "[encoded data removed]",
      "text/plain": [
       "<matplotlib.figure.Figure at 0x112c3ca90>"
      ]
     },
     "metadata": {},
     "output_type": "display_data"
    }
   ],
   "source": [
    "plt.plot(K[0],pdf[0])\n",
    "plt.xlabel('strike price')\n",
    "plt.ylabel('pdf')\n",
    "plt.title('expiry=5')\n",
    "#plt.yticks(np.arange(min(pdf[0]), max(pdf[0])+1, 0.2))\n",
    "plt.show()"
   ]
  },
  {
   "cell_type": "code",
   "execution_count": 86,
   "metadata": {},
   "outputs": [
    {
     "data": {
      "image/png": "[encoded data removed]",
      "text/plain": [
       "<matplotlib.figure.Figure at 0x112c6ec18>"
      ]
     },
     "metadata": {},
     "output_type": "display_data"
    }
   ],
   "source": [
    "plt.plot(K[1],pdf[1])\n",
    "plt.xlabel('strike price')\n",
    "plt.ylabel('pdf')\n",
    "plt.title('expiry=20')\n",
    "#plt.yticks(np.arange(min(cdf[1]), max(cdf[1])+1, 0.2))\n",
    "plt.show()"
   ]
  },
  {
   "cell_type": "code",
   "execution_count": null,
   "metadata": {
    "collapsed": true
   },
   "outputs": [],
   "source": []
  }
 ],
 "metadata": {
  "kernelspec": {
   "display_name": "Python 3",
   "language": "python",
   "name": "python3"
  },
  "language_info": {
   "codemirror_mode": {
    "name": "ipython",
    "version": 3
   },
   "file_extension": ".py",
   "mimetype": "text/x-python",
   "name": "python",
   "nbconvert_exporter": "python",
   "pygments_lexer": "ipython3",
   "version": "3.6.1"
  }
 },
 "nbformat": 4,
 "nbformat_minor": 2
}
