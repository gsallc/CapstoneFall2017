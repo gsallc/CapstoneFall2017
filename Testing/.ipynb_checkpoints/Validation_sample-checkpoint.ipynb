{
 "cells": [
  {
   "cell_type": "code",
   "execution_count": 2,
   "metadata": {
    "collapsed": true
   },
   "outputs": [],
   "source": [
    "import math\n",
    "import numpy as np\n",
    "import pandas as pd\n",
    "import itertools\n",
    "from Pricing.SABR import SABR_model\n",
    "from Pricing.pdf_calculation import numerical_pdf\n",
    "from Pricing.cdf_calculation import numerical_cdf\n",
    "from matplotlib import pyplot as plt\n",
    "from Pricing.arbitrage_check import arbitrage_check"
   ]
  },
  {
   "cell_type": "code",
   "execution_count": 9,
   "metadata": {},
   "outputs": [
    {
     "name": "stdout",
     "output_type": "stream",
     "text": [
      "Lognormal implied vols using Lognormal Hagan:\n"
     ]
    },
    {
     "data": {
      "text/html": [
       "<div>\n",
       "<style>\n",
       "    .dataframe thead tr:only-child th {\n",
       "        text-align: right;\n",
       "    }\n",
       "\n",
       "    .dataframe thead th {\n",
       "        text-align: left;\n",
       "    }\n",
       "\n",
       "    .dataframe tbody tr th {\n",
       "        vertical-align: top;\n",
       "    }\n",
       "</style>\n",
       "<table border=\"1\" class=\"dataframe\">\n",
       "  <thead>\n",
       "    <tr style=\"text-align: right;\">\n",
       "      <th></th>\n",
       "      <th>0</th>\n",
       "      <th>1</th>\n",
       "      <th>2</th>\n",
       "      <th>3</th>\n",
       "      <th>4</th>\n",
       "      <th>5</th>\n",
       "      <th>6</th>\n",
       "      <th>7</th>\n",
       "      <th>8</th>\n",
       "      <th>9</th>\n",
       "    </tr>\n",
       "  </thead>\n",
       "  <tbody>\n",
       "    <tr>\n",
       "      <th>0</th>\n",
       "      <td>0.483482</td>\n",
       "      <td>0.493793</td>\n",
       "      <td>0.519601</td>\n",
       "      <td>0.545544</td>\n",
       "      <td>0.568896</td>\n",
       "      <td>0.589537</td>\n",
       "      <td>0.607822</td>\n",
       "      <td>0.624142</td>\n",
       "      <td>0.638831</td>\n",
       "      <td>0.652155</td>\n",
       "    </tr>\n",
       "    <tr>\n",
       "      <th>1</th>\n",
       "      <td>0.567062</td>\n",
       "      <td>0.579146</td>\n",
       "      <td>0.609409</td>\n",
       "      <td>0.639830</td>\n",
       "      <td>0.667215</td>\n",
       "      <td>0.691418</td>\n",
       "      <td>0.712861</td>\n",
       "      <td>0.731998</td>\n",
       "      <td>0.749222</td>\n",
       "      <td>0.764847</td>\n",
       "    </tr>\n",
       "  </tbody>\n",
       "</table>\n",
       "</div>"
      ],
      "text/plain": [
       "          0         1         2         3         4         5         6  \\\n",
       "0  0.483482  0.493793  0.519601  0.545544  0.568896  0.589537  0.607822   \n",
       "1  0.567062  0.579146  0.609409  0.639830  0.667215  0.691418  0.712861   \n",
       "\n",
       "          7         8         9  \n",
       "0  0.624142  0.638831  0.652155  \n",
       "1  0.731998  0.749222  0.764847  "
      ]
     },
     "execution_count": 9,
     "metadata": {},
     "output_type": "execute_result"
    }
   ],
   "source": [
    "F=[0.02,0.02]\n",
    "vol=0.4\n",
    "beta=0.9\n",
    "rho=0\n",
    "nu=0.5\n",
    "alpha = 0.4 * math.pow(F[0],(1-beta))\n",
    "expiry=np.array([10,20])\n",
    "spread = np.arange(0.0001,0.1,0.01)\n",
    "K = [[0 for y in range(len(spread))] for x in range(len(F))]\n",
    "\n",
    "for i in range(len(F)):\n",
    "    for j in range(len(spread)):\n",
    "        K[i][j]=F[i]+spread[j]        \n",
    "K=np.array(K)\n",
    "\n",
    "ivol = []\n",
    "sabr=SABR_model(beta,rho,nu)\n",
    "vols = sabr.ivol_matrix(alpha,F,K,expiry,method='Hagan')\n",
    "print('Lognormal implied vols using Lognormal Hagan:')\n",
    "vols"
   ]
  },
  {
   "cell_type": "code",
   "execution_count": 10,
   "metadata": {},
   "outputs": [
    {
     "name": "stdout",
     "output_type": "stream",
     "text": [
      "SABR volatility method: Hagan\n",
      "volatility distribution: lognormal\n",
      "Expiry= 10 Strike price= 0.0201 c.d.f= 0.0 p.d.f= 0.0 Yes\n",
      "Expiry= 10 Strike price= 0.0301 c.d.f= 0.0 p.d.f= 0.0 Yes\n",
      "Expiry= 10 Strike price= 0.0401 c.d.f= 0.0 p.d.f= 0.0 Yes\n",
      "Expiry= 10 Strike price= 0.0501 c.d.f= -1.14521641057e-245 p.d.f= -1.02899089851e-241 Yes\n",
      "Expiry= 10 Strike price= 0.0601 c.d.f= -4.66424255133e-175 p.d.f= -3.20041804005e-171 Yes\n",
      "Expiry= 10 Strike price= 0.0701 c.d.f= -2.70963019878e-136 p.d.f= -1.35038407119e-132 Yes\n",
      "Expiry= 10 Strike price= 0.0801 c.d.f= -5.12656859872e-112 p.d.f= -1.87229621e-108 Yes\n",
      "Expiry= 10 Strike price= 0.0901 c.d.f= -1.85409006167e-95 p.d.f= -5.08882823755e-92 Yes\n",
      "Expiry= 10 Strike price= 0.1001 c.d.f= -1.80600024488e-83 p.d.f= -3.82742606326e-80 Yes\n",
      "Expiry= 10 Strike price= 0.1101 c.d.f= -2.12639625726e-74 p.d.f= -3.56719758266e-71 Yes\n",
      "Expiry= 20 Strike price= 0.0201 c.d.f= 0.0 p.d.f= 0.0 Yes\n",
      "Expiry= 20 Strike price= 0.0301 c.d.f= 0.0 p.d.f= 0.0 Yes\n",
      "Expiry= 20 Strike price= 0.0401 c.d.f= 0.0 p.d.f= 0.0 Yes\n",
      "Expiry= 20 Strike price= 0.0501 c.d.f= 0.0 p.d.f= 0.0 Yes\n",
      "Expiry= 20 Strike price= 0.0601 c.d.f= -6.48248810302e-288 p.d.f= -5.38217731869e-284 Yes\n",
      "Expiry= 20 Strike price= 0.0701 c.d.f= -2.36350162086e-228 p.d.f= -1.54853983433e-224 Yes\n",
      "Expiry= 20 Strike price= 0.0801 c.d.f= -9.50361176215e-191 p.d.f= -4.81588023817e-187 Yes\n",
      "Expiry= 20 Strike price= 0.0901 c.d.f= -6.48728937167e-165 p.d.f= -2.56176707265e-161 Yes\n",
      "Expiry= 20 Strike price= 0.1001 c.d.f= -4.3621638142e-146 p.d.f= -1.36478899338e-142 Yes\n",
      "Expiry= 20 Strike price= 0.1101 c.d.f= -9.36453967011e-132 p.d.f= -2.3643294634e-128 Yes\n"
     ]
    },
    {
     "data": {
      "text/plain": [
       "array([[1, 1, 1, 1, 1, 1, 1, 1, 1, 1, 1, 1, 1, 1, 1, 1, 1, 1, 1, 1],\n",
       "       [1, 1, 1, 1, 1, 1, 1, 1, 1, 1, 1, 1, 1, 1, 1, 1, 1, 1, 1, 1]])"
      ]
     },
     "execution_count": 10,
     "metadata": {},
     "output_type": "execute_result"
    }
   ],
   "source": [
    "arb=arbitrage_check(beta,rho,nu)\n",
    "arb.arbitrage(0.001,F,K,expiry,0,1,0.0001,'Hagan','lognormal')"
   ]
  },
  {
   "cell_type": "code",
   "execution_count": 11,
   "metadata": {
    "collapsed": true
   },
   "outputs": [],
   "source": [
    "pdf=numerical_pdf(alpha,beta,rho,nu,F,K,expiry,1,0,0.0001,'Hagan','lognormal')"
   ]
  },
  {
   "cell_type": "code",
   "execution_count": 13,
   "metadata": {},
   "outputs": [
    {
     "data": {
      "image/png": "[encoded data removed]",
      "text/plain": [
       "<matplotlib.figure.Figure at 0x11bad4a58>"
      ]
     },
     "metadata": {},
     "output_type": "display_data"
    }
   ],
   "source": [
    "plt.plot(K[0],pdf[0])\n",
    "plt.xlabel('strike price')\n",
    "plt.ylabel('pdf')\n",
    "plt.title('expiry=10')\n",
    "plt.yticks(np.arange(min(pdf[0]), max(pdf[0])+1, 0.2))\n",
    "plt.show()"
   ]
  },
  {
   "cell_type": "code",
   "execution_count": 14,
   "metadata": {},
   "outputs": [
    {
     "data": {
      "image/png": "[encoded data removed]",
      "text/plain": [
       "<matplotlib.figure.Figure at 0x11bac0c50>"
      ]
     },
     "metadata": {},
     "output_type": "display_data"
    }
   ],
   "source": [
    "plt.plot(K[0],pdf[0])\n",
    "plt.xlabel('strike price')\n",
    "plt.ylabel('pdf')\n",
    "plt.title('expiry=10')\n",
    "#plt.yticks(np.arange(min(pdf[0]), max(pdf[0])+1, 0.2))\n",
    "plt.show()"
   ]
  },
  {
   "cell_type": "code",
   "execution_count": 15,
   "metadata": {},
   "outputs": [
    {
     "data": {
      "image/png": "[encoded data removed]",
      "text/plain": [
       "<matplotlib.figure.Figure at 0x11babc2b0>"
      ]
     },
     "metadata": {},
     "output_type": "display_data"
    }
   ],
   "source": [
    "plt.plot(K[1],pdf[1])\n",
    "plt.xlabel('strike price')\n",
    "plt.ylabel('pdf')\n",
    "plt.title('expiry=20')\n",
    "plt.yticks(np.arange(min(pdf[0]), max(pdf[0])+1, 0.2))\n",
    "plt.show()"
   ]
  },
  {
   "cell_type": "code",
   "execution_count": 16,
   "metadata": {},
   "outputs": [
    {
     "data": {
      "image/png": "[encoded data removed]",
      "text/plain": [
       "<matplotlib.figure.Figure at 0x11b9809b0>"
      ]
     },
     "metadata": {},
     "output_type": "display_data"
    }
   ],
   "source": [
    "plt.plot(K[1],pdf[1])\n",
    "plt.xlabel('strike price')\n",
    "plt.ylabel('pdf')\n",
    "plt.title('expiry=20')\n",
    "#plt.yticks(np.arange(min(pdf[0]), max(pdf[0])+1, 0.2))\n",
    "plt.show()"
   ]
  },
  {
   "cell_type": "code",
   "execution_count": null,
   "metadata": {
    "collapsed": true
   },
   "outputs": [],
   "source": []
  }
 ],
 "metadata": {
  "kernelspec": {
   "display_name": "Python 3",
   "language": "python",
   "name": "python3"
  },
  "language_info": {
   "codemirror_mode": {
    "name": "ipython",
    "version": 3
   },
   "file_extension": ".py",
   "mimetype": "text/x-python",
   "name": "python",
   "nbconvert_exporter": "python",
   "pygments_lexer": "ipython3",
   "version": "3.6.1"
  }
 },
 "nbformat": 4,
 "nbformat_minor": 2
}
