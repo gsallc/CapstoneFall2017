{
 "cells": [
  {
   "cell_type": "markdown",
   "metadata": {
    "collapsed": true
   },
   "source": [
    "import math\n",
    "import numpy as np\n",
    "import pandas as pd\n",
    "import itertools\n",
    "from Pricing.SABR import SABR_model\n",
    "from Pricing.black_pricing import BSPricer_SABR\n",
    "from Pricing.pdf_calculation import numerical_pdf\n",
    "from Pricing.cdf_calculation import numerical_cdf\n",
    "from matplotlib import pyplot as plt\n",
    "from Pricing.arbitrage_check import arbitrage_check"
   ]
  },
  {
   "cell_type": "code",
   "execution_count": 34,
   "metadata": {
    "collapsed": true
   },
   "outputs": [],
   "source": [
    "def test_ATM_vol(F,K,expiry,MKT,beta,rho,nu):\n",
    "    sabr=SABR_model(beta,rho,nu)\n",
    "    alpha = round(MKT,2) * math.pow(F,(1-beta))\n",
    "    vol = sabr.ivol_Hagan_ln(alpha,F,K,expiry)\n",
    "    err = (vol-MKT)/MKT\n",
    "    print('Approximated ATM vol=',vol)\n",
    "    print('Real ATM vol=',MKT)\n",
    "    print('Relative error=',err)\n",
    "    return 0"
   ]
  },
  {
   "cell_type": "markdown",
   "metadata": {},
   "source": [
    "#### Parameter set"
   ]
  },
  {
   "cell_type": "code",
   "execution_count": 35,
   "metadata": {
    "collapsed": true
   },
   "outputs": [],
   "source": [
    "beta=0.9\n",
    "rho=0\n",
    "nu=0.5"
   ]
  },
  {
   "cell_type": "markdown",
   "metadata": {},
   "source": [
    "#### Sample 1: expiry = 0.25"
   ]
  },
  {
   "cell_type": "code",
   "execution_count": 36,
   "metadata": {},
   "outputs": [
    {
     "name": "stdout",
     "output_type": "stream",
     "text": [
      "Approximated ATM vol= 0.4322478653125\n",
      "Real ATM vol= 0.4268\n",
      "Relative error= 0.012764445436972742\n"
     ]
    },
    {
     "data": {
      "text/plain": [
       "0"
      ]
     },
     "execution_count": 36,
     "metadata": {},
     "output_type": "execute_result"
    }
   ],
   "source": [
    "F1 = 0.010763833\n",
    "K1 = F1\n",
    "expiry1 = 0.25\n",
    "MKT1 = 0.4268\n",
    "\n",
    "test_ATM_vol(F1,K1,expiry1,MKT1,beta,rho,nu)"
   ]
  },
  {
   "cell_type": "markdown",
   "metadata": {},
   "source": [
    "#### Sample 2: expiry = 1"
   ]
  },
  {
   "cell_type": "code",
   "execution_count": 37,
   "metadata": {},
   "outputs": [
    {
     "name": "stdout",
     "output_type": "stream",
     "text": [
      "Approximated ATM vol= 0.40836\n",
      "Real ATM vol= 0.4042\n",
      "Relative error= 0.010291934685799102\n"
     ]
    }
   ],
   "source": [
    "F2 = 0.018623226\n",
    "K2 = F2\n",
    "expiry2 = 1\n",
    "MKT2 = 0.4042\n",
    "alpha2 = 0.4 * math.pow(F2,(1-beta))\n",
    "\n",
    "vol2 = sabr.ivol_Hagan_ln(alpha2,F2,K2,expiry2)\n",
    "err2 = (vol2-MKT2)/MKT2\n",
    "print('Approximated ATM vol=',vol2)\n",
    "print('Real ATM vol=',MKT2)\n",
    "print('Relative error=',err2)"
   ]
  },
  {
   "cell_type": "code",
   "execution_count": 20,
   "metadata": {},
   "outputs": [
    {
     "name": "stdout",
     "output_type": "stream",
     "text": [
      "Approximated ATM vol= 0.40836\n",
      "Real ATM vol= 0.4042\n",
      "Relative error= 0.010291934685799102\n"
     ]
    }
   ],
   "source": [
    "F2 = 0.018623226\n",
    "K2 = F2\n",
    "expiry2 = 1\n",
    "MKT2 = 0.4042\n",
    "alpha2 = 0.4 * math.pow(F2,(1-beta))\n",
    "\n",
    "vol2 = sabr.ivol_Hagan_ln(alpha2,F2,K2,expiry2)\n",
    "err2 = (vol2-MKT2)/MKT2\n",
    "print('Approximated ATM vol=',vol2)\n",
    "print('Real ATM vol=',MKT2)\n",
    "print('Relative error=',err2)"
   ]
  },
  {
   "cell_type": "markdown",
   "metadata": {},
   "source": [
    "#### Sample 3: expiry = 5"
   ]
  },
  {
   "cell_type": "code",
   "execution_count": 28,
   "metadata": {},
   "outputs": [
    {
     "name": "stdout",
     "output_type": "stream",
     "text": [
      "Approximated ATM vol= 0.28711995\n",
      "Real ATM vol= 0.2655\n",
      "Relative error= 0.08143107344632768\n"
     ]
    }
   ],
   "source": [
    "F3 = 0.031883549\n",
    "K3 = F3\n",
    "expiry3 = 5\n",
    "MKT3 = 0.2655\n",
    "alpha3 = 0.26 * math.pow(F3,(1-beta))\n",
    "\n",
    "vol3 = sabr.ivol_Hagan_ln(alpha3,F3,K3,expiry3)\n",
    "err3 = (vol3-MKT3)/MKT3\n",
    "print('Approximated ATM vol=',vol3)\n",
    "print('Real ATM vol=',MKT3)\n",
    "print('Relative error=',err3)"
   ]
  },
  {
   "cell_type": "markdown",
   "metadata": {},
   "source": [
    "#### Sample 4: expiry = 10"
   ]
  },
  {
   "cell_type": "code",
   "execution_count": 32,
   "metadata": {
    "collapsed": true
   },
   "outputs": [],
   "source": [
    "F4 = 0.027080947\n",
    "K4 = F4\n",
    "expiry4 = 10\n",
    "MKT4 = 0.2532\n",
    "alpha4 = 0.25 * math.pow(F4,(1-beta))\n",
    "\n",
    "vol3 = sabr.ivol_Hagan_ln(alpha3,F3,K3,expiry3)\n",
    "err3 = (vol3-MKT3)/MKT3\n",
    "print('Approximated ATM vol=',vol3)\n",
    "print('Real ATM vol=',MKT3)\n",
    "print('Relative error=',err3)"
   ]
  },
  {
   "cell_type": "code",
   "execution_count": null,
   "metadata": {
    "collapsed": true
   },
   "outputs": [],
   "source": []
  }
 ],
 "metadata": {
  "kernelspec": {
   "display_name": "Python 3",
   "language": "python",
   "name": "python3"
  },
  "language_info": {
   "codemirror_mode": {
    "name": "ipython",
    "version": 3
   },
   "file_extension": ".py",
   "mimetype": "text/x-python",
   "name": "python",
   "nbconvert_exporter": "python",
   "pygments_lexer": "ipython3",
   "version": "3.6.1"
  }
 },
 "nbformat": 4,
 "nbformat_minor": 2
}
