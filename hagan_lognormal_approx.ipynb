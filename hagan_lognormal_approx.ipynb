{
 "cells": [
  {
   "cell_type": "code",
   "execution_count": 1,
   "metadata": {
    "collapsed": true
   },
   "outputs": [],
   "source": [
    "import math"
   ]
  },
  {
   "cell_type": "code",
   "execution_count": 2,
   "metadata": {
    "collapsed": true
   },
   "outputs": [],
   "source": [
    "def haganLogNormalApprox(y,expiry,F_0,alpha_0,beta,nu,rho):\n",
    "    '''\n",
    "    function that returns the Black implied volatility under Hagan lognormal approximation.\n",
    "    @var y: option strike\n",
    "    @var expiry: option expiry in years\n",
    "    @var F_0: forward interest rate\n",
    "    @var alpha_0: SABR alpha at t=0\n",
    "    @var beta : SABR beta\n",
    "    @var rho : SABR rho\n",
    "    @var nu: SABR nu\n",
    "    '''\n",
    "    one_beta=1-beta\n",
    "    one_betasqr=one_beta*one_beta\n",
    "    if F_0!=y:\n",
    "        fK=F_0*y\n",
    "        fK_beta=math.pow(fK,one_beta/2.0) \n",
    "        log_fK=math.log(F_0/y)\n",
    "        z=nu/alpha_0*fK_beta*log_fK\n",
    "        x=math.log((math.sqrt(1.0-2.0*rho*z+z*z)+z-rho)/(1-rho))\n",
    "        sigma1=(alpha_0/fK_beta/(1.0+one_betasqr/24.0*log_fK*log_fK+math.pow(one_beta*log_fK,4)/1920.0)*(z/x))\n",
    "        sigma_exp=(one_betasqr/24.0*alpha_0*alpha_0/fK_beta/fK_beta+0.25*rho*beta*nu*alpha_0/fK_beta+(2.0-3.0*rho*rho)/24.0*nu*nu)\n",
    "        sigma=sigma_l*(1.0+sigma_exp*expiry)\n",
    "    else:\n",
    "        f_beta=math.pow(F_0,one_beta)\n",
    "        f_two_beta=math.pow(F_0,(2.0-2.0*beta)) \n",
    "        sigma =((alpha_0/f_beta)*(1.0+((one_betasqr/24.0)*(alpha_0*alpha_0/f_two_beta)+\n",
    "                    (0.25*rho*beta*nu*alpha_0/f_beta)+(2.0-3.0*rho*rho)/24.0*nu*nu)*expiry))               \n",
    "    return sigma    "
   ]
  },
  {
   "cell_type": "code",
   "execution_count": 3,
   "metadata": {
    "collapsed": true
   },
   "outputs": [],
   "source": [
    "def haganNormalApprox(y,expiry,F_0,alpha_0,beta,nu,rho):\n",
    "    '''\n",
    "    function that returns the Black implied volatility under Hagan normal approximation.\n",
    "    @var y: option strike\n",
    "    @var expiry: option expiry in years\n",
    "    @var F_0: forward interest rate\n",
    "    @var alpha_0: SABR alpha at t=0\n",
    "    @var beta : SABR beta\n",
    "    @var rho : SABR rho\n",
    "    @var nu: SABR nu\n",
    "    '''\n",
    "    one_beta=1-beta\n",
    "    one_betasqr=one_beta*one_beta\n",
    "    if F_0!=y:\n",
    "        fK=F_0*y\n",
    "        fK_beta=math.pow(fK,one_beta/2.0) \n",
    "        log_fK=math.log(F_0/y)\n",
    "        z=nu/alpha_0*fK_beta*log_fK\n",
    "        x=math.log((math.sqrt(1.0-2.0*rho*z+z*z)+z-rho)/(1-rho))\n",
    "        sigma1=(alpha_0/fK_beta/(1.0+one_betasqr/24.0*log_fK*log_fK+math.pow(one_beta*log_fK,4)/1920.0)*\n",
    "                (1.0+log_fK*log_fK/24.0+math.pow(log_fK,4)/1920.0)*(z/x))\n",
    "        sigma_exp=(-beta*(2-beta)/24.0*alpha_0*alpha_0/fK_beta/fK_beta+0.25*rho*beta*nu*alpha_0/fK_beta+(2.0-3.0*rho*rho)/24.0*nu*nu)\n",
    "        sigma=sigma_l*(1.0+sigma_exp*expiry)\n",
    "    \n",
    "    return sigma "
   ]
  },
  {
   "cell_type": "code",
   "execution_count": null,
   "metadata": {
    "collapsed": true
   },
   "outputs": [],
   "source": []
  }
 ],
 "metadata": {
  "kernelspec": {
   "display_name": "Python 2",
   "language": "python",
   "name": "python2"
  },
  "language_info": {
   "codemirror_mode": {
    "name": "ipython",
    "version": 2
   },
   "file_extension": ".py",
   "mimetype": "text/x-python",
   "name": "python",
   "nbconvert_exporter": "python",
   "pygments_lexer": "ipython2",
   "version": "2.7.13"
  }
 },
 "nbformat": 4,
 "nbformat_minor": 2
}
