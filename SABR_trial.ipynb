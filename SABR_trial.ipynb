{
 "cells": [
  {
   "cell_type": "code",
   "execution_count": 4,
   "metadata": {
    "collapsed": true
   },
   "outputs": [],
   "source": [
    "import xlrd\n",
    "import math\n",
    "import numpy\n",
    "from scipy.optimize import minimize"
   ]
  },
  {
   "cell_type": "markdown",
   "metadata": {},
   "source": [
    "### Step 1: Function Definitions"
   ]
  },
  {
   "cell_type": "code",
   "execution_count": 5,
   "metadata": {
    "collapsed": true
   },
   "outputs": [],
   "source": [
    "def SABR(alpha,beta,rho,nu,F,K,time,MKT): # all variables are scalars\n",
    "\n",
    "    if K <= 0:   # negative rates' problem, need to shift the smile\n",
    "        VOL = 0\n",
    "        diff = 0\n",
    "    elif F == K: # ATM formula\n",
    "        V = (F*K)**((1-beta)/2.)\n",
    "        logFK = math.log(F/K)\n",
    "        A = 1 + ( ((1-beta)**2*alpha**2)/(24.*(V**2)) + (alpha*beta*nu*rho)/(4.*V) + ((nu**2)*(2-3*(rho**2))/24.) ) * time\n",
    "        B = 1 + (1/24.)*(((1-beta)*logFK)**2) + (1/1920.)*(((1-beta)*logFK)**4)\n",
    "        VOL = (alpha/V)*A\n",
    "        diff = VOL - MKT\n",
    "    elif F != K: # not-ATM formula\n",
    "        V = (F*K)**((1-beta)/2.)\n",
    "        logFK = math.log(F/K)\n",
    "        z = (nu/alpha)*V*logFK\n",
    "        x = math.log( ( math.sqrt(1-2*rho*z+z**2) + z - rho ) / (1-rho) )\n",
    "        A = 1 + ( ((1-beta)**2*alpha**2)/(24.*(V**2)) + (alpha*beta*nu*rho)/(4.*V) + ((nu**2)*(2-3*(rho**2))/24.) ) * time\n",
    "        B = 1 + (1/24.)*(((1-beta)*logFK)**2) + (1/1920.)*(((1-beta)*logFK)**4)\n",
    "        VOL = (nu*logFK*A)/(x*B)\n",
    "        diff = VOL - MKT\n",
    "\n",
    "    print round(VOL,4) ,  '\\t' ,\n",
    "    outvol.write('%r;' %round(VOL,4) )\n",
    "    if MKT==0:\n",
    "        diff = 0\n",
    "        vol_diff.write('%s;' %'No market data')\n",
    "    else:\n",
    "        vol_diff.write('%r;' %round(diff,4) )"
   ]
  },
  {
   "cell_type": "code",
   "execution_count": 6,
   "metadata": {
    "collapsed": true
   },
   "outputs": [],
   "source": [
    "def smile(alpha,beta,rho,nu,F,K,time,MKT,i): # F, time and the parameters are scalars, K and MKT are vectors, i is the index for tenor/expiry label\n",
    "\n",
    "    print label_ten[i] , '\\t' , label_exp[i] , '\\t' ,\n",
    "    outvol.write('%s;%s;' %(label_ten[i],label_exp[i]))\n",
    "    vol_diff.write('%s;%s;' %(label_ten[i],label_exp[i]))\n",
    "    parameters.write('%s;%s;' %(label_ten[i],label_exp[i]))\n",
    "\n",
    "    for j in range(len(K)):\n",
    "        if K[0] <= 0:\n",
    "            shift(F,K)\n",
    "        SABR(alpha,beta,rho,nu,F,K[j],time,MKT[j])\n",
    "\n",
    "    print ' '\n",
    "    outvol.write('\\n')\n",
    "    vol_diff.write('\\n')\n",
    "    parameters.write('%f;%f;%f;%f;' %(alpha ,beta ,rho ,nu))\n",
    "    parameters.write('\\n')"
   ]
  },
  {
   "cell_type": "code",
   "execution_count": 7,
   "metadata": {
    "collapsed": true
   },
   "outputs": [],
   "source": [
    "def SABR_vol_matrix(alpha,beta,rho,nu,F,K,time,MKT): # F, time and the parameters are vectors, K and MKT are matrices\n",
    "\n",
    "    print ' '\n",
    "    print (2+((num_strikes-1)/2))*'       '+'SABR VOLATILITIES'\n",
    "    print '  ' , '\\t' , 'strikes:' , \n",
    "    for i in range(num_strikes):\n",
    "        print label_strikes[i] , '\\t' ,\n",
    "    print ' '\n",
    "    outvol.write('%s;' %'SABR VOLATILITIES')\n",
    "    outvol.write('\\n')\n",
    "    vol_diff.write('%s;' %'VOLATILITY DIFFERENCES')\n",
    "    vol_diff.write('\\n')\n",
    "    parameters.write('%s;' %'PARAMETERS')\n",
    "    parameters.write('\\n')\n",
    "    outvol.write('%s;%s;' %(' ','strikes:'))\n",
    "    vol_diff.write('%s;%s;' %(' ','strikes:'))\n",
    "    for j in range(len(strike_spreads)):\n",
    "        outvol.write('%s;' %label_strikes[j])\n",
    "        vol_diff.write('%s;' %label_strikes[j])\n",
    "    outvol.write('\\n')\n",
    "    vol_diff.write('\\n')\n",
    "    print 'tenor' , '\\t' ,   'expiry'\n",
    "    parameters.write('%s;%s;%s;%s;%s;%s' %('tenor','expiry','alpha','beta','rho','nu'))\n",
    "    parameters.write('\\n')\n",
    "\n",
    "    for i in range(len(F)):\n",
    "        smile(alpha[i],beta[i],rho[i],nu[i],F[i],K[i],time[i],MKT[i],i)"
   ]
  },
  {
   "cell_type": "code",
   "execution_count": 9,
   "metadata": {
    "collapsed": true
   },
   "outputs": [],
   "source": [
    "def shift(F,K):\n",
    "    shift = 0.001 - K[0]\n",
    "    for j in range(len(K)):\n",
    "        K[j] = K[j] + shift\n",
    "        F = F + shift   "
   ]
  },
  {
   "cell_type": "code",
   "execution_count": 10,
   "metadata": {
    "collapsed": true
   },
   "outputs": [],
   "source": [
    "def objfunc(par,F,K,time,MKT):\n",
    "    sum_sq_diff = 0\n",
    "    if K[0]<=0:\n",
    "        shift(F,K)\n",
    "    for j in range(len(K)):\n",
    "        if MKT[j] == 0:   \n",
    "            diff = 0       \n",
    "        elif F == K[j]: \n",
    "            V = (F*K[j])**((1-par[1])/2.)\n",
    "            logFK = math.log(F/K[j])\n",
    "            A = 1 + ( ((1-par[1])**2*par[0]**2)/(24.*(V**2)) + (par[0]*par[1]*par[3]*par[2])/(4.*V) + ((par[3]**2)*(2-3*(par[2]**2))/24.) ) * time\n",
    "            B = 1 + (1/24.)*(((1-par[1])*logFK)**2) + (1/1920.)*(((1-par[1])*logFK)**4)\n",
    "            VOL = (par[0]/V)*A\n",
    "            diff = VOL - MKT[j]\n",
    "        elif F != K[j]: \n",
    "            V = (F*K[j])**((1-par[1])/2.)\n",
    "            logFK = math.log(F/K[j])\n",
    "            z = (par[3]/par[0])*V*logFK\n",
    "            x = math.log( ( math.sqrt(1-2*par[2]*z+z**2) + z - par[2] ) / (1-par[2]) )\n",
    "            A = 1 + ( ((1-par[1])**2*par[0]**2)/(24.*(V**2)) + (par[0]*par[1]*par[3]*par[2])/(4.*V) + ((par[3]**2)*(2-3*(par[2]**2))/24.) ) * time\n",
    "            B = 1 + (1/24.)*(((1-par[1])*logFK)**2) + (1/1920.)*(((1-par[1])*logFK)**4)\n",
    "            VOL = (par[3]*logFK*A)/(x*B)\n",
    "            diff = VOL - MKT[j]  \n",
    "        sum_sq_diff = sum_sq_diff + diff**2  \n",
    "        obj = math.sqrt(sum_sq_diff)\n",
    "    return obj"
   ]
  },
  {
   "cell_type": "code",
   "execution_count": 18,
   "metadata": {
    "collapsed": true
   },
   "outputs": [],
   "source": [
    "def calibration(starting_par,F,K,time,MKT):\n",
    "    for i in range(len(F)):\n",
    "        x0 = starting_par\n",
    "        bnds = ( (0.001,None) , (0,1) , (-0.999,0.999) , (0.001,None)  )\n",
    "        res = minimize(objfunc, x0 , (F[i],K[i],time[i],MKT[i]) ,bounds = bnds, method='SLSQP') # for a constrained minimization of multivariate scalar functions\n",
    "        alpha[i] = res.x[0]\n",
    "        beta[i] = res.x[1]\n",
    "        rho[i] = res.x[2]\n",
    "        nu[i] = res.x[3]"
   ]
  },
  {
   "cell_type": "markdown",
   "metadata": {},
   "source": [
    "### Step 2: Inputs Preparing"
   ]
  },
  {
   "cell_type": "code",
   "execution_count": 12,
   "metadata": {
    "collapsed": true
   },
   "outputs": [],
   "source": [
    "######## inputs and outputs #########################################\n",
    "\n",
    "outvol = open('outvol.csv', 'w')             # file output of volatilities\n",
    "vol_diff = open('vol differences.csv', 'w')  # file output differences between SABR and Market volatilities\n",
    "parameters = open('parameters.csv', 'w')     # file output parameters\n",
    "\n",
    "\n",
    "while True:\n",
    "    try:\n",
    "        file_input = xlrd.open_workbook('market_data.xlsx')     # load market data\n",
    "    except:\n",
    "        print 'Input file is not in the directory!'\n",
    "    break\n",
    "Market_data = file_input.sheet_by_name('Swaptions data')        # file input forward rates"
   ]
  },
  {
   "cell_type": "code",
   "execution_count": 14,
   "metadata": {
    "collapsed": true
   },
   "outputs": [],
   "source": [
    "######## set swaptions characteristics ###############################\n",
    "\n",
    "strike_spreads=[]\n",
    "j=0\n",
    "while True:\n",
    "    try:\n",
    "        strike_spreads.append(int(Market_data.cell(1,3+j).value))\n",
    "        j = j+1\n",
    "    except:\n",
    "        break\n",
    "num_strikes = len(strike_spreads)\n",
    "\n",
    "expiries=[]\n",
    "i=0\n",
    "while True:\n",
    "        try:\n",
    "            expiries.append(Market_data.cell(2+i,1).value)\n",
    "            i = i + 1\n",
    "        except:\n",
    "            break\n",
    "\n",
    "tenors=[]\n",
    "i=0\n",
    "while True:\n",
    "    try:\n",
    "        tenors.append(Market_data.cell(2+i,0).value)\n",
    "        i = i + 1\n",
    "    except:\n",
    "        break\n",
    "        \n",
    "# to create the ATM forward rates\n",
    "F = []\n",
    "i=0\n",
    "while True:\n",
    "    try:\n",
    "        F.append(Market_data.cell(2+i,2).value)\n",
    "        i = i+1\n",
    "    except:\n",
    "        break\n",
    "\n",
    "# to create the strike grid\n",
    "K = numpy.zeros((len(F),num_strikes))\n",
    "for i in range(len(F)):\n",
    "    for j in range(num_strikes):\n",
    "        K[i][j] = F[i] + 0.0001*(strike_spreads[j])  \n",
    "\n",
    "# to create market volatilities            \n",
    "MKT = numpy.zeros((len(F),num_strikes))\n",
    "for i in range(len(F)):\n",
    "    for j in range(num_strikes):\n",
    "        MKT[i][j] = Market_data.cell(2+i,3+j).value\n",
    "\n",
    "\n",
    "# set starting parameters\n",
    "starting_guess = numpy.array([0.001,0.5,0,0.001])\n",
    "alpha = len(F)*[starting_guess[0]]\n",
    "beta = len(F)*[starting_guess[1]]\n",
    "rho = len(F)*[starting_guess[2]]\n",
    "nu = len(F)*[starting_guess[3]]"
   ]
  },
  {
   "cell_type": "code",
   "execution_count": 15,
   "metadata": {
    "collapsed": true
   },
   "outputs": [],
   "source": [
    "######## set labels ###################################################\n",
    "\n",
    "exp_dates = len(expiries)*[0]\n",
    "for i in range(len(expiries)):\n",
    "    if expiries[i] < 1:\n",
    "        exp_dates[i] = str(int(round(12*expiries[i])))+'m'\n",
    "    else:\n",
    "        exp_dates[i] = str(int(round(expiries[i])))+'y'\n",
    "        if expiries[i]-round(expiries[i]) > 0:\n",
    "            exp_dates[i] = exp_dates[i]+str(int(round((12*(round(expiries[i],2)-int(expiries[i]))))))+'m' \n",
    "        elif expiries[i]-round(expiries[i]) < 0:\n",
    "            exp_dates[i] = str(int(round(tenors[i]))-1)+'y'\n",
    "            exp_dates[i] = exp_dates[i]+str(int(round((12*(round(expiries[i],2)-int(expiries[i]))))))+'m'\n",
    "\n",
    "ten_dates = len(tenors)*[0]\n",
    "for i in range(len(tenors)):\n",
    "    if tenors[i] < 1:\n",
    "        ten_dates[i] = str(int(round(12*tenors[i])))+'m'\n",
    "    else:\n",
    "        ten_dates[i] = str(int(round(tenors[i])))+'y'\n",
    "        if tenors[i]-round(tenors[i]) > 0:\n",
    "            ten_dates[i] = ten_dates[i]+str(int(round((12*(round(tenors[i],2)-int(tenors[i]))))))+'m' \n",
    "        elif tenors[i]-round(tenors[i]) < 0:\n",
    "            ten_dates[i] = str(int(round(tenors[i]))-1)+'y'\n",
    "            ten_dates[i] = ten_dates[i]+str(int(round((12*(round(tenors[i],2)-int(tenors[i]))))))+'m'\n",
    "\n",
    "label_exp = exp_dates\n",
    "label_ten = ten_dates\n",
    "label_strikes = num_strikes*[0]\n",
    "for i in range(num_strikes):\n",
    "    if strike_spreads[i] == 0 :\n",
    "        label_strikes[i] = 'ATM'\n",
    "    else:\n",
    "        label_strikes[i] = str(strike_spreads[i])"
   ]
  },
  {
   "cell_type": "markdown",
   "metadata": {},
   "source": [
    "### Step 3: Calibration"
   ]
  },
  {
   "cell_type": "code",
   "execution_count": 16,
   "metadata": {
    "collapsed": false
   },
   "outputs": [
    {
     "name": "stdout",
     "output_type": "stream",
     "text": [
      " \n",
      "                                          SABR VOLATILITIES\n",
      "   \tstrikes: -150 \t-100 \t-50 \t-25 \tATM \t25 \t50 \t100 \t150 \t \n",
      "tenor \texpiry\n",
      "2y \t3m \t2.4628 \t1.0223 \t0.5411 \t0.422 \t0.3898 \t0.398 \t0.4156 \t0.4507 \t0.4792 \t \n",
      "2y \t6m \t2.2568 \t0.9476 \t0.5513 \t0.4586 \t0.4247 \t0.4227 \t0.4318 \t0.4556 \t0.4768 \t \n",
      "2y \t9m \t1.8906 \t0.8167 \t0.5267 \t0.4637 \t0.4365 \t0.4294 \t0.4313 \t0.4428 \t0.4551 \t \n",
      "2y \t1y \t1.5128 \t0.6782 \t0.4813 \t0.4502 \t0.4417 \t0.4436 \t0.4492 \t0.4628 \t0.4748 \t \n",
      "2y \t2y \t1.8831 \t0.886 \t0.5778 \t0.4912 \t0.4403 \t0.4207 \t0.4209 \t0.442 \t0.4665 \t \n",
      "2y \t5y \t0.4042 \t0.3536 \t0.3222 \t0.3115 \t0.3033 \t0.2973 \t0.293 \t0.2881 \t0.2864 \t \n",
      "2y \t10y \t0.3032 \t0.2721 \t0.2501 \t0.2416 \t0.2345 \t0.2286 \t0.2237 \t0.2165 \t0.2119 \t \n",
      "5y \t3m \t1.1844 \t0.6101 \t0.4623 \t0.4259 \t0.403 \t0.389 \t0.3806 \t0.3727 \t0.3702 \t \n",
      "5y \t6m \t0.9565 \t0.5819 \t0.4635 \t0.4327 \t0.4124 \t0.399 \t0.3902 \t0.3807 \t0.3767 \t \n",
      "5y \t9m \t0.8321 \t0.5583 \t0.4557 \t0.427 \t0.4072 \t0.3934 \t0.3838 \t0.3727 \t0.3674 \t \n",
      "5y \t1y \t0.724 \t0.5253 \t0.4436 \t0.42 \t0.4031 \t0.391 \t0.3822 \t0.3712 \t0.3652 \t \n",
      "5y \t2y \t0.5702 \t0.4692 \t0.4119 \t0.3924 \t0.3773 \t0.3655 \t0.3565 \t0.3444 \t0.3376 \t \n",
      "5y \t5y \t0.3722 \t0.33 \t0.3015 \t0.291 \t0.2824 \t0.2754 \t0.2698 \t0.2619 \t0.2571 \t \n",
      "5y \t10y \t0.3112 \t0.2745 \t0.2485 \t0.2386 \t0.2305 \t0.2239 \t0.2187 \t0.2117 \t0.2079 \t \n",
      "10y \t3m \t0.6344 \t0.4886 \t0.4001 \t0.3698 \t0.3472 \t0.3313 \t0.321 \t0.3124 \t0.3127 \t \n",
      "10y \t6m \t0.6148 \t0.4856 \t0.4038 \t0.375 \t0.353 \t0.3374 \t0.3272 \t0.3193 \t0.3211 \t \n",
      "10y \t9m \t0.5858 \t0.4699 \t0.3955 \t0.3688 \t0.3481 \t0.3328 \t0.3222 \t0.3119 \t0.3109 \t \n",
      "10y \t1y \t0.5541 \t0.4536 \t0.3886 \t0.365 \t0.3461 \t0.3313 \t0.3201 \t0.3062 \t0.3003 \t \n",
      "10y \t2y \t0.4728 \t0.402 \t0.3551 \t0.3377 \t0.3234 \t0.3118 \t0.3025 \t0.2892 \t0.281 \t \n",
      "10y \t5y \t0.3601 \t0.3162 \t0.2858 \t0.2744 \t0.2651 \t0.2577 \t0.2518 \t0.2438 \t0.2396 \t \n",
      "10y \t10y \t0.3367 \t0.2953 \t0.2666 \t0.2558 \t0.247 \t0.2398 \t0.234 \t0.226 \t0.2214 \t \n",
      "15y \t3m \t0.5803 \t0.4623 \t0.3779 \t0.3449 \t0.3173 \t0.2953 \t0.2791 \t0.2621 \t0.2596 \t \n",
      "15y \t6m \t0.5491 \t0.4469 \t0.3751 \t0.3473 \t0.3245 \t0.3063 \t0.2925 \t0.2768 \t0.2723 \t \n",
      "15y \t9m \t0.5122 \t0.4229 \t0.3621 \t0.3392 \t0.3206 \t0.3057 \t0.2942 \t0.2794 \t0.2727 \t \n",
      "15y \t1y \t0.4937 \t0.4134 \t0.3587 \t0.3381 \t0.3212 \t0.3075 \t0.2968 \t0.2825 \t0.2753 \t \n",
      "15y \t2y \t0.459 \t0.389 \t0.342 \t0.3245 \t0.3103 \t0.2989 \t0.29 \t0.2778 \t0.2712 \t \n",
      "15y \t5y \t0.3815 \t0.3285 \t0.2922 \t0.2789 \t0.2684 \t0.2603 \t0.2543 \t0.2475 \t0.2454 \t \n",
      "15y \t10y \t0.3546 \t0.3055 \t0.2735 \t0.2618 \t0.2522 \t0.2445 \t0.2382 \t0.2292 \t0.2236 \t \n",
      "30y \t3m \t0.6277 \t0.4972 \t0.4063 \t0.3711 \t0.342 \t0.3189 \t0.3018 \t0.2837 \t0.2806 \t \n",
      "30y \t6m \t0.5944 \t0.4798 \t0.401 \t0.371 \t0.3464 \t0.3269 \t0.3123 \t0.2957 \t0.2911 \t \n",
      "30y \t9m \t0.5674 \t0.4628 \t0.3917 \t0.3648 \t0.3428 \t0.3253 \t0.3118 \t0.2955 \t0.2893 \t \n",
      "30y \t1y \t0.5539 \t0.4553 \t0.3894 \t0.3646 \t0.3441 \t0.3273 \t0.3139 \t0.2952 \t0.2848 \t \n",
      "30y \t2y \t0.5055 \t0.4251 \t0.3708 \t0.3504 \t0.3337 \t0.3201 \t0.3094 \t0.2948 \t0.2871 \t \n",
      "30y \t5y \t0.4261 \t0.3622 \t0.3191 \t0.3033 \t0.2906 \t0.2808 \t0.2734 \t0.2644 \t0.2611 \t \n",
      "30y \t10y \t0.3664 \t0.3136 \t0.2794 \t0.2669 \t0.2568 \t0.2487 \t0.2422 \t0.2334 \t0.2283 \t \n",
      "3y9m \t2y2m \t0.422 \t0.3945 \t0.3842 \t0.3835 \t0.3849 \t0.3878 \t0.3918 \t0.4016 \t0.4126 \t \n"
     ]
    }
   ],
   "source": [
    "######## Call the functions #################################\n",
    "\n",
    "calibration(starting_guess,F,K,expiries,MKT)\n",
    "SABR_vol_matrix(alpha,beta,rho,nu,F,K,expiries,MKT)"
   ]
  },
  {
   "cell_type": "code",
   "execution_count": 17,
   "metadata": {
    "collapsed": true
   },
   "outputs": [],
   "source": [
    "######## Close output files #################################\n",
    "\n",
    "outvol.close()\n",
    "vol_diff.close()\n",
    "parameters.close()"
   ]
  }
 ],
 "metadata": {
  "kernelspec": {
   "display_name": "Python 2",
   "language": "python",
   "name": "python2"
  },
  "language_info": {
   "codemirror_mode": {
    "name": "ipython",
    "version": 2
   },
   "file_extension": ".py",
   "mimetype": "text/x-python",
   "name": "python",
   "nbconvert_exporter": "python",
   "pygments_lexer": "ipython2",
   "version": "2.7.13"
  }
 },
 "nbformat": 4,
 "nbformat_minor": 2
}
